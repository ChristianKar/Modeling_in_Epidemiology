{
  "cells": [
    {
      "cell_type": "markdown",
      "metadata": {
        "id": "Eh0JtAPY5buW"
      },
      "source": [
        "\n",
        "Optionals: \n",
        "1. We might need to implement random data at the end of the project."
      ]
    },
    {
      "cell_type": "markdown",
      "metadata": {},
      "source": [
        "# Import of Important Library, Network and Meta Data"
      ]
    },
    {
      "cell_type": "code",
      "execution_count": 608,
      "metadata": {
        "id": "awUsYD2q1oS5"
      },
      "outputs": [],
      "source": [
        "import igraph as ig\n",
        "import numpy as np\n",
        "import pandas as pd\n",
        "import matplotlib.pyplot as plt"
      ]
    },
    {
      "cell_type": "code",
      "execution_count": 609,
      "metadata": {
        "colab": {
          "base_uri": "https://localhost:8080/",
          "height": 423
        },
        "id": "S9C8f-sP2mlV",
        "outputId": "7847fabb-f91b-44d0-b6c2-c174e1bdb7e4"
      },
      "outputs": [
        {
          "data": {
            "text/html": [
              "<div>\n",
              "<style scoped>\n",
              "    .dataframe tbody tr th:only-of-type {\n",
              "        vertical-align: middle;\n",
              "    }\n",
              "\n",
              "    .dataframe tbody tr th {\n",
              "        vertical-align: top;\n",
              "    }\n",
              "\n",
              "    .dataframe thead th {\n",
              "        text-align: right;\n",
              "    }\n",
              "</style>\n",
              "<table border=\"1\" class=\"dataframe\">\n",
              "  <thead>\n",
              "    <tr style=\"text-align: right;\">\n",
              "      <th></th>\n",
              "      <th>time</th>\n",
              "      <th>node-i</th>\n",
              "      <th>node-j</th>\n",
              "    </tr>\n",
              "  </thead>\n",
              "  <tbody>\n",
              "    <tr>\n",
              "      <th>0</th>\n",
              "      <td>0</td>\n",
              "      <td>58</td>\n",
              "      <td>63</td>\n",
              "    </tr>\n",
              "    <tr>\n",
              "      <th>1</th>\n",
              "      <td>0</td>\n",
              "      <td>59</td>\n",
              "      <td>64</td>\n",
              "    </tr>\n",
              "    <tr>\n",
              "      <th>2</th>\n",
              "      <td>0</td>\n",
              "      <td>63</td>\n",
              "      <td>66</td>\n",
              "    </tr>\n",
              "    <tr>\n",
              "      <th>3</th>\n",
              "      <td>0</td>\n",
              "      <td>85</td>\n",
              "      <td>190</td>\n",
              "    </tr>\n",
              "    <tr>\n",
              "      <th>4</th>\n",
              "      <td>0</td>\n",
              "      <td>85</td>\n",
              "      <td>214</td>\n",
              "    </tr>\n",
              "    <tr>\n",
              "      <th>...</th>\n",
              "      <td>...</td>\n",
              "      <td>...</td>\n",
              "      <td>...</td>\n",
              "    </tr>\n",
              "    <tr>\n",
              "      <th>125768</th>\n",
              "      <td>3099</td>\n",
              "      <td>152</td>\n",
              "      <td>172</td>\n",
              "    </tr>\n",
              "    <tr>\n",
              "      <th>125769</th>\n",
              "      <td>3099</td>\n",
              "      <td>152</td>\n",
              "      <td>174</td>\n",
              "    </tr>\n",
              "    <tr>\n",
              "      <th>125770</th>\n",
              "      <td>3099</td>\n",
              "      <td>167</td>\n",
              "      <td>180</td>\n",
              "    </tr>\n",
              "    <tr>\n",
              "      <th>125771</th>\n",
              "      <td>3099</td>\n",
              "      <td>172</td>\n",
              "      <td>178</td>\n",
              "    </tr>\n",
              "    <tr>\n",
              "      <th>125772</th>\n",
              "      <td>3099</td>\n",
              "      <td>236</td>\n",
              "      <td>241</td>\n",
              "    </tr>\n",
              "  </tbody>\n",
              "</table>\n",
              "<p>125773 rows × 3 columns</p>\n",
              "</div>"
            ],
            "text/plain": [
              "        time  node-i  node-j\n",
              "0          0      58      63\n",
              "1          0      59      64\n",
              "2          0      63      66\n",
              "3          0      85     190\n",
              "4          0      85     214\n",
              "...      ...     ...     ...\n",
              "125768  3099     152     172\n",
              "125769  3099     152     174\n",
              "125770  3099     167     180\n",
              "125771  3099     172     178\n",
              "125772  3099     236     241\n",
              "\n",
              "[125773 rows x 3 columns]"
            ]
          },
          "execution_count": 609,
          "metadata": {},
          "output_type": "execute_result"
        }
      ],
      "source": [
        "# Import Network data\n",
        "networkData = pd.read_csv('TD3_primary_undirected_temporal.csv')\n",
        "networkData"
      ]
    },
    {
      "cell_type": "code",
      "execution_count": 610,
      "metadata": {},
      "outputs": [
        {
          "data": {
            "text/html": [
              "<div>\n",
              "<style scoped>\n",
              "    .dataframe tbody tr th:only-of-type {\n",
              "        vertical-align: middle;\n",
              "    }\n",
              "\n",
              "    .dataframe tbody tr th {\n",
              "        vertical-align: top;\n",
              "    }\n",
              "\n",
              "    .dataframe thead th {\n",
              "        text-align: right;\n",
              "    }\n",
              "</style>\n",
              "<table border=\"1\" class=\"dataframe\">\n",
              "  <thead>\n",
              "    <tr style=\"text-align: right;\">\n",
              "      <th></th>\n",
              "      <th>node-index</th>\n",
              "      <th>class</th>\n",
              "      <th>gender</th>\n",
              "    </tr>\n",
              "  </thead>\n",
              "  <tbody>\n",
              "    <tr>\n",
              "      <th>0</th>\n",
              "      <td>0</td>\n",
              "      <td>5B</td>\n",
              "      <td>M</td>\n",
              "    </tr>\n",
              "    <tr>\n",
              "      <th>1</th>\n",
              "      <td>1</td>\n",
              "      <td>5B</td>\n",
              "      <td>F</td>\n",
              "    </tr>\n",
              "    <tr>\n",
              "      <th>2</th>\n",
              "      <td>2</td>\n",
              "      <td>5B</td>\n",
              "      <td>M</td>\n",
              "    </tr>\n",
              "    <tr>\n",
              "      <th>3</th>\n",
              "      <td>3</td>\n",
              "      <td>5B</td>\n",
              "      <td>F</td>\n",
              "    </tr>\n",
              "    <tr>\n",
              "      <th>4</th>\n",
              "      <td>4</td>\n",
              "      <td>5B</td>\n",
              "      <td>M</td>\n",
              "    </tr>\n",
              "    <tr>\n",
              "      <th>...</th>\n",
              "      <td>...</td>\n",
              "      <td>...</td>\n",
              "      <td>...</td>\n",
              "    </tr>\n",
              "    <tr>\n",
              "      <th>237</th>\n",
              "      <td>237</td>\n",
              "      <td>2A</td>\n",
              "      <td>M</td>\n",
              "    </tr>\n",
              "    <tr>\n",
              "      <th>238</th>\n",
              "      <td>238</td>\n",
              "      <td>2A</td>\n",
              "      <td>F</td>\n",
              "    </tr>\n",
              "    <tr>\n",
              "      <th>239</th>\n",
              "      <td>239</td>\n",
              "      <td>2A</td>\n",
              "      <td>M</td>\n",
              "    </tr>\n",
              "    <tr>\n",
              "      <th>240</th>\n",
              "      <td>240</td>\n",
              "      <td>1B</td>\n",
              "      <td>F</td>\n",
              "    </tr>\n",
              "    <tr>\n",
              "      <th>241</th>\n",
              "      <td>241</td>\n",
              "      <td>2A</td>\n",
              "      <td>F</td>\n",
              "    </tr>\n",
              "  </tbody>\n",
              "</table>\n",
              "<p>242 rows × 3 columns</p>\n",
              "</div>"
            ],
            "text/plain": [
              "     node-index class gender\n",
              "0             0    5B      M\n",
              "1             1    5B      F\n",
              "2             2    5B      M\n",
              "3             3    5B      F\n",
              "4             4    5B      M\n",
              "..          ...   ...    ...\n",
              "237         237    2A      M\n",
              "238         238    2A      F\n",
              "239         239    2A      M\n",
              "240         240    1B      F\n",
              "241         241    2A      F\n",
              "\n",
              "[242 rows x 3 columns]"
            ]
          },
          "execution_count": 610,
          "metadata": {},
          "output_type": "execute_result"
        }
      ],
      "source": [
        "# Import MetaData [information on the nodes (class, gender)]\n",
        "metadata = pd.read_csv(\"TD3_primary_metadata.csv\")\n",
        "metadata"
      ]
    },
    {
      "cell_type": "markdown",
      "metadata": {},
      "source": [
        "# Initialisation of Simulation"
      ]
    },
    {
      "cell_type": "markdown",
      "metadata": {},
      "source": [
        "\n",
        "1. 1 / alpha : latent period of virus\n",
        "2. 1 / gamma : mean infectious period\n",
        "3. beta : contact rate"
      ]
    },
    {
      "cell_type": "code",
      "execution_count": 611,
      "metadata": {},
      "outputs": [
        {
          "name": "stdout",
          "output_type": "stream",
          "text": [
            "30.0\n"
          ]
        }
      ],
      "source": [
        "ALPHA = 1/2 #S -> E\n",
        "BETA = 0.8 #E -> I \n",
        "GAMMA = 1/30 #I -> R 5\n",
        "\n",
        "## Flags of State of Nodes\n",
        "SUSCEPTIBLE = 1\n",
        "EXPOSED = 2\n",
        "INFECTIOUS = 3\n",
        "RECOVERED = 4\n",
        "\n",
        "print(1/GAMMA)"
      ]
    },
    {
      "cell_type": "markdown",
      "metadata": {},
      "source": [
        "# Simulation"
      ]
    },
    {
      "cell_type": "code",
      "execution_count": 612,
      "metadata": {},
      "outputs": [
        {
          "name": "stdout",
          "output_type": "stream",
          "text": [
            "Number of Nodes:  242\n",
            "(3100, 242)\n"
          ]
        }
      ],
      "source": [
        "tMax = networkData['time'].max()\n",
        "\n",
        "numOfNodes = metadata.shape[0]\n",
        "print(\"Number of Nodes: \", numOfNodes)\n",
        "\n",
        "#Initisaltion od Status Matrix, where everyone is susceptible\n",
        "statusMatrix = np.full((tMax+1, numOfNodes), SUSCEPTIBLE)\n",
        "print(statusMatrix.shape)"
      ]
    },
    {
      "cell_type": "code",
      "execution_count": 613,
      "metadata": {},
      "outputs": [
        {
          "name": "stdout",
          "output_type": "stream",
          "text": [
            "[1 1 1 1 1 1 1 1 1 1 1 1 1 1 1 1 1 1 1 1 1 1 1 1 1 1 1 1 1 1 1 1 1 1 1 1 1\n",
            " 1 1 1 1 1 1 1 1 1 1 2 1 1 1 1 1 1 1 1 1 1 1 1 1 1 1 1 1 1 1 1 1 1 1 1 1 1\n",
            " 1 1 1 1 1 1 1 1 1 1 1 1 1 1 1 1 1 1 1 1 1 1 1 1 1 1 1 1 1 1 1 1 1 1 1 1 1\n",
            " 1 1 1 1 1 1 2 1 1 1 1 1 1 1 1 1 1 1 1 1 1 1 1 1 1 1 1 1 1 1 1 1 1 1 1 1 1\n",
            " 1 1 1 1 1 1 1 1 1 1 1 1 1 1 1 1 1 1 1 1 1 1 1 1 2 1 1 1 1 1 1 1 1 1 1 1 1\n",
            " 1 1 1 1 1 1 1 2 1 1 1 1 1 1 1 1 1 1 1 1 1 1 1 1 1 1 1 1 1 1 1 1 1 1 1 1 1\n",
            " 1 1 1 1 1 1 1 1 1 1 1 1 1 1 1 1 1 1 1 1]\n"
          ]
        }
      ],
      "source": [
        "NUMOFPATIENTZERO = 4\n",
        "np.random.seed(0)\n",
        "patientZerosArray = np.random.randint(0, numOfNodes, size=NUMOFPATIENTZERO)\n",
        "for patientZero in patientZerosArray:\n",
        "    statusMatrix[0][patientZero] = EXPOSED\n",
        "\n",
        "print(statusMatrix[0])"
      ]
    },
    {
      "cell_type": "code",
      "execution_count": 614,
      "metadata": {},
      "outputs": [
        {
          "name": "stdout",
          "output_type": "stream",
          "text": [
            "defaultdict(<class 'list'>, {58: [63], 63: [58, 66], 59: [64], 64: [59], 66: [63], 85: [190, 214], 190: [85], 214: [85, 191], 102: [115], 115: [102], 191: [199, 214], 199: [191]})\n"
          ]
        }
      ],
      "source": [
        "from collections import defaultdict\n",
        "edgesDictionaryWRTTime = [defaultdict(list) for time in range(0, tMax + 1)]\n",
        "\n",
        "for time, node_i, node_j in networkData.values:\n",
        "    edgesDictionaryWRTTime[time][node_i].append(node_j)\n",
        "    edgesDictionaryWRTTime[time][node_j].append(node_i)\n",
        "print(edgesDictionaryWRTTime[0])"
      ]
    },
    {
      "cell_type": "code",
      "execution_count": 615,
      "metadata": {},
      "outputs": [],
      "source": [
        "rand = lambda proba, numOfNodes: np.random.uniform(0, 1, size=numOfNodes) < proba"
      ]
    },
    {
      "cell_type": "code",
      "execution_count": 616,
      "metadata": {},
      "outputs": [
        {
          "name": "stdout",
          "output_type": "stream",
          "text": [
            "[ 47 117 152 154 157 163 172 176 192]\n"
          ]
        }
      ],
      "source": [
        "for t in range(tMax):\n",
        "    statusMatrix[t+1] = statusMatrix[t]\n",
        "    exposedPopulation = np.where(statusMatrix[t]==EXPOSED)[0]\n",
        "    newlyInfectious = exposedPopulation[rand(ALPHA,len(exposedPopulation))]\n",
        "    statusMatrix[t+1, newlyInfectious] = INFECTIOUS\n",
        "\n",
        "    InfectiousPopulation = np.where(statusMatrix[t]==INFECTIOUS)[0]\n",
        "    riskContact = np.array([node_j for node_i in InfectiousPopulation for node_j in edgesDictionaryWRTTime[t][node_i] if statusMatrix[t,node_j]==SUSCEPTIBLE], dtype=int)\n",
        "    newlyExposed = riskContact[rand(BETA, len(riskContact))]\n",
        "    statusMatrix[t+1, newlyExposed] = EXPOSED\n",
        "    \n",
        "    newlyRecovered = InfectiousPopulation[rand(GAMMA, len(InfectiousPopulation))]\n",
        "    statusMatrix[t+1, newlyRecovered] = RECOVERED\n",
        "    \n",
        "print(np.where(statusMatrix[tMax]==RECOVERED)[0])"
      ]
    },
    {
      "cell_type": "code",
      "execution_count": 617,
      "metadata": {},
      "outputs": [
        {
          "name": "stdout",
          "output_type": "stream",
          "text": [
            "[1 1 1 1 1 1 1 1 1 1 1 1 1 1 1 1 1 1 1 1 1 1 1 1 1 1 1 1 1 1 1 1 1 1 1 1 1\n",
            " 1 1 1 1 1 1 1 1 1 1 2 1 1 1 1 1 1 1 1 1 1 1 1 1 1 1 1 1 1 1 1 1 1 1 1 1 1\n",
            " 1 1 1 1 1 1 1 1 1 1 1 1 1 1 1 1 1 1 1 1 1 1 1 1 1 1 1 1 1 1 1 1 1 1 1 1 1\n",
            " 1 1 1 1 1 1 2 1 1 1 1 1 1 1 1 1 1 1 1 1 1 1 1 1 1 1 1 1 1 1 1 1 1 1 1 1 1\n",
            " 1 1 1 1 1 1 1 1 1 1 1 1 1 1 1 1 1 1 1 1 1 1 1 1 3 1 1 1 1 1 1 1 1 1 1 1 1\n",
            " 1 1 1 1 1 1 1 2 1 1 1 1 1 1 1 1 1 1 1 1 1 1 1 1 1 1 1 1 1 1 1 1 1 1 1 1 1\n",
            " 1 1 1 1 1 1 1 1 1 1 1 1 1 1 1 1 1 1 1 1]\n",
            "     1  2  3  4\n",
            "0  238  4  0  0\n",
            "1  238  3  1  0\n",
            "2  238  2  2  0\n",
            "3  237  3  2  0\n",
            "4  237  1  4  0\n"
          ]
        }
      ],
      "source": [
        "# Plotting the growth of S, E, I and R populations\n",
        "listPopulations = [] # List of dicts, indexed by timestep #np.zeros(shape=(tMax))\n",
        "print(statusMatrix[1])\n",
        "for timestep in range(tMax):\n",
        "    temp = np.unique(statusMatrix[timestep], return_counts=True)\n",
        "    #print(temp)\n",
        "    listPopulations.append( dict(zip(temp[0], temp[1])) )\n",
        "\n",
        "listPopulations = pd.DataFrame.from_dict(listPopulations).fillna(0).astype(int)\n",
        "print(listPopulations.head())\n",
        "# Do this at your own risk.\n",
        "# print(listPopulations)"
      ]
    },
    {
      "cell_type": "code",
      "execution_count": 618,
      "metadata": {},
      "outputs": [
        {
          "data": {
            "text/plain": [
              "Text(0.5, 0, 'Period (in Days)')"
            ]
          },
          "execution_count": 618,
          "metadata": {},
          "output_type": "execute_result"
        },
        {
          "data": {
            "image/png": "[encoded data removed]",
            "text/plain": [
              "<Figure size 432x288 with 1 Axes>"
            ]
          },
          "metadata": {
            "needs_background": "light"
          },
          "output_type": "display_data"
        }
      ],
      "source": [
        "# Now we're plotting things\n",
        "listPopulations.rename(columns={1 : \"Susceptible\", 2: \"Exposed\", 3: \"Infectious\", 4: \"Recovered\"}, inplace=True)\n",
        "listPopulations.plot()\n",
        "plt.legend()\n",
        "plt.grid()\n",
        "plt.xlabel(\"Period (in Days)\")"
      ]
    },
    {
      "cell_type": "code",
      "execution_count": 619,
      "metadata": {},
      "outputs": [
        {
          "name": "stderr",
          "output_type": "stream",
          "text": [
            "No handles with labels found to put in legend.\n"
          ]
        },
        {
          "data": {
            "text/plain": [
              "Text(0.5, 0, 'Period (in Days)')"
            ]
          },
          "execution_count": 619,
          "metadata": {},
          "output_type": "execute_result"
        },
        {
          "data": {
            "image/png": "[encoded data removed]",
            "text/plain": [
              "<Figure size 432x288 with 1 Axes>"
            ]
          },
          "metadata": {
            "needs_background": "light"
          },
          "output_type": "display_data"
        }
      ],
      "source": [
        "plt.plot (listPopulations['Infectious']/listPopulations['Susceptible'])\n",
        "plt.legend()\n",
        "plt.grid()\n",
        "plt.xlabel(\"Period (in Days)\")"
      ]
    },
    {
      "cell_type": "code",
      "execution_count": 620,
      "metadata": {},
      "outputs": [
        {
          "name": "stdout",
          "output_type": "stream",
          "text": [
            "End of Epidemic :  65\n"
          ]
        }
      ],
      "source": [
        "## A function that \n",
        "def endOfEpidemic(dfListPopulations):\n",
        "    endDay = 0\n",
        "    for row in dfListPopulations.values:\n",
        "        if row[EXPOSED-1] !=0 or row[INFECTIOUS-1] != 0:\n",
        "            endDay += 1\n",
        "        else:\n",
        "            break\n",
        "    if endDay == listPopulations.shape[0]:\n",
        "        return -1\n",
        "    else:\n",
        "        return endDay\n",
        "\n",
        "print(\"End of Epidemic : \", endOfEpidemic(listPopulations))"
      ]
    },
    {
      "cell_type": "markdown",
      "metadata": {},
      "source": [
        "## Network Visualation using iGraph Package"
      ]
    },
    {
      "cell_type": "code",
      "execution_count": 621,
      "metadata": {},
      "outputs": [
        {
          "data": {
            "image/svg+xml": "<?xml version=\"1.0\" encoding=\"UTF-8\"?>\n<svg xmlns=\"http://www.w3.org/2000/svg\" xmlns:xlink=\"http://www.w3.org/1999/xlink\" width=\"600pt\" height=\"600pt\" viewBox=\"0 0 600 600\" version=\"1.1\">\n<g id=\"surface410\">\n<rect x=\"0\" y=\"0\" width=\"600\" height=\"600\" style=\"fill:rgb(100%,100%,100%);fill-opacity:1;stroke:none;\"/>\n<path style=\"fill:none;stroke-width:1;stroke-linecap:butt;stroke-linejoin:miter;stroke:rgb(26.666667%,26.666667%,26.666667%);stroke-opacity:1;stroke-miterlimit:10;\" d=\"M 177.875 72.199219 L 167.0625 57.726562 \"/>\n<path style=\"fill:none;stroke-width:1;stroke-linecap:butt;stroke-linejoin:miter;stroke:rgb(26.666667%,26.666667%,26.666667%);stroke-opacity:1;stroke-miterlimit:10;\" d=\"M 138.808594 175.121094 L 151.054688 160.792969 \"/>\n<path style=\"fill:none;stroke-width:1;stroke-linecap:butt;stroke-linejoin:miter;stroke:rgb(26.666667%,26.666667%,26.666667%);stroke-opacity:1;stroke-miterlimit:10;\" d=\"M 151.054688 160.792969 L 169.480469 156.492188 \"/>\n<path style=\"fill:none;stroke-width:1;stroke-linecap:butt;stroke-linejoin:miter;stroke:rgb(26.666667%,26.666667%,26.666667%);stroke-opacity:1;stroke-miterlimit:10;\" d=\"M 264.746094 71.230469 L 258.988281 88.933594 \"/>\n<path style=\"fill:none;stroke-width:1;stroke-linecap:butt;stroke-linejoin:miter;stroke:rgb(26.666667%,26.666667%,26.666667%);stroke-opacity:1;stroke-miterlimit:10;\" d=\"M 264.746094 71.230469 L 275.722656 56.1875 \"/>\n<path style=\"fill:none;stroke-width:1;stroke-linecap:butt;stroke-linejoin:miter;stroke:rgb(26.666667%,26.666667%,26.666667%);stroke-opacity:1;stroke-miterlimit:10;\" d=\"M 104.011719 187.304688 L 97.765625 170.683594 \"/>\n<path style=\"fill:none;stroke-width:1;stroke-linecap:butt;stroke-linejoin:miter;stroke:rgb(26.666667%,26.666667%,26.666667%);stroke-opacity:1;stroke-miterlimit:10;\" d=\"M 251.957031 23.371094 L 240.25 36.082031 \"/>\n<path style=\"fill:none;stroke-width:1;stroke-linecap:butt;stroke-linejoin:miter;stroke:rgb(26.666667%,26.666667%,26.666667%);stroke-opacity:1;stroke-miterlimit:10;\" d=\"M 217.261719 98.171875 L 219.875 80.589844 \"/>\n<path style=\"fill:none;stroke-width:1;stroke-linecap:butt;stroke-linejoin:miter;stroke:rgb(26.666667%,26.666667%,26.666667%);stroke-opacity:1;stroke-miterlimit:10;\" d=\"M 86.488281 221.460938 L 71.25 212.597656 \"/>\n<path style=\"fill:none;stroke-width:1;stroke-linecap:butt;stroke-linejoin:miter;stroke:rgb(26.666667%,26.666667%,26.666667%);stroke-opacity:1;stroke-miterlimit:10;\" d=\"M 305.300781 26.101562 L 288.480469 21.589844 \"/>\n<path style=\"fill:none;stroke-width:1;stroke-linecap:butt;stroke-linejoin:miter;stroke:rgb(26.666667%,26.666667%,26.666667%);stroke-opacity:1;stroke-miterlimit:10;\" d=\"M 142.058594 90.917969 L 123.296875 96.519531 \"/>\n<path style=\"fill:none;stroke-width:1;stroke-linecap:butt;stroke-linejoin:miter;stroke:rgb(26.666667%,26.666667%,26.666667%);stroke-opacity:1;stroke-miterlimit:10;\" d=\"M 142.058594 90.917969 L 129.710938 78.058594 \"/>\n<path style=\"fill:none;stroke-width:1;stroke-linecap:butt;stroke-linejoin:miter;stroke:rgb(26.666667%,26.666667%,26.666667%);stroke-opacity:1;stroke-miterlimit:10;\" d=\"M 117.871094 134.390625 L 115.089844 115.386719 \"/>\n<path style=\"fill:none;stroke-width:1;stroke-linecap:butt;stroke-linejoin:miter;stroke:rgb(26.666667%,26.666667%,26.666667%);stroke-opacity:1;stroke-miterlimit:10;\" d=\"M 115.089844 115.386719 L 123.296875 96.519531 \"/>\n<path style=\"fill:none;stroke-width:1;stroke-linecap:butt;stroke-linejoin:miter;stroke:rgb(26.666667%,26.666667%,26.666667%);stroke-opacity:1;stroke-miterlimit:10;\" d=\"M 168.804688 118.363281 L 185.953125 114.199219 \"/>\n<path style=\"fill:none;stroke-width:1;stroke-linecap:butt;stroke-linejoin:miter;stroke:rgb(26.666667%,26.666667%,26.666667%);stroke-opacity:1;stroke-miterlimit:10;\" d=\"M 35.84375 220.65625 L 28.363281 236.980469 \"/>\n<path style=\"fill:none;stroke-width:1;stroke-linecap:butt;stroke-linejoin:miter;stroke:rgb(26.666667%,26.666667%,26.666667%);stroke-opacity:1;stroke-miterlimit:10;\" d=\"M 123.296875 96.519531 L 129.710938 78.058594 \"/>\n<path style=\"fill:none;stroke-width:1;stroke-linecap:butt;stroke-linejoin:miter;stroke:rgb(26.666667%,26.666667%,26.666667%);stroke-opacity:1;stroke-miterlimit:10;\" d=\"M 210.988281 47.960938 L 197.597656 37.082031 \"/>\n<path style=\"fill:none;stroke-width:1;stroke-linecap:butt;stroke-linejoin:miter;stroke:rgb(26.666667%,26.666667%,26.666667%);stroke-opacity:1;stroke-miterlimit:10;\" d=\"M 80.058594 126.378906 L 74.574219 143.160156 \"/>\n<path style=\"fill:none;stroke-width:1;stroke-linecap:butt;stroke-linejoin:miter;stroke:rgb(26.666667%,26.666667%,26.666667%);stroke-opacity:1;stroke-miterlimit:10;\" d=\"M 49.167969 263.90625 L 64.722656 255.214844 \"/>\n<path style=\"fill:none;stroke-width:1;stroke-linecap:butt;stroke-linejoin:miter;stroke:rgb(26.666667%,26.666667%,26.666667%);stroke-opacity:1;stroke-miterlimit:10;\" d=\"M 47.09375 185.78125 L 58.042969 172.203125 \"/>\n<path style=\"fill-rule:nonzero;fill:rgb(0%,0%,100%);fill-opacity:1;stroke-width:1;stroke-linecap:butt;stroke-linejoin:miter;stroke:rgb(0%,0%,0%);stroke-opacity:1;stroke-miterlimit:10;\" d=\"M 72.0625 397.765625 C 72.0625 403.097656 64.0625 403.097656 64.0625 397.765625 C 64.0625 392.433594 72.0625 392.433594 72.0625 397.765625 \"/>\n<path style=\"fill-rule:nonzero;fill:rgb(0%,0%,100%);fill-opacity:1;stroke-width:1;stroke-linecap:butt;stroke-linejoin:miter;stroke:rgb(0%,0%,0%);stroke-opacity:1;stroke-miterlimit:10;\" d=\"M 584 290.578125 C 584 295.910156 576 295.910156 576 290.578125 C 576 285.242188 584 285.242188 584 290.578125 \"/>\n<path style=\"fill-rule:nonzero;fill:rgb(0%,0%,100%);fill-opacity:1;stroke-width:1;stroke-linecap:butt;stroke-linejoin:miter;stroke:rgb(0%,0%,0%);stroke-opacity:1;stroke-miterlimit:10;\" d=\"M 455.855469 292.5 C 455.855469 297.832031 447.855469 297.832031 447.855469 292.5 C 447.855469 287.167969 455.855469 287.167969 455.855469 292.5 \"/>\n<path style=\"fill-rule:nonzero;fill:rgb(0%,0%,100%);fill-opacity:1;stroke-width:1;stroke-linecap:butt;stroke-linejoin:miter;stroke:rgb(0%,0%,0%);stroke-opacity:1;stroke-miterlimit:10;\" d=\"M 399.898438 66.832031 C 399.898438 72.167969 391.898438 72.167969 391.898438 66.832031 C 391.898438 61.5 399.898438 61.5 399.898438 66.832031 \"/>\n<path style=\"fill-rule:nonzero;fill:rgb(0%,0%,100%);fill-opacity:1;stroke-width:1;stroke-linecap:butt;stroke-linejoin:miter;stroke:rgb(0%,0%,0%);stroke-opacity:1;stroke-miterlimit:10;\" d=\"M 44.917969 406.523438 C 44.917969 411.855469 36.917969 411.855469 36.917969 406.523438 C 36.917969 401.1875 44.917969 401.1875 44.917969 406.523438 \"/>\n<path style=\"fill-rule:nonzero;fill:rgb(0%,0%,100%);fill-opacity:1;stroke-width:1;stroke-linecap:butt;stroke-linejoin:miter;stroke:rgb(0%,0%,0%);stroke-opacity:1;stroke-miterlimit:10;\" d=\"M 181.875 72.199219 C 181.875 77.53125 173.875 77.53125 173.875 72.199219 C 173.875 66.863281 181.875 66.863281 181.875 72.199219 \"/>\n<path style=\"fill-rule:nonzero;fill:rgb(0%,0%,100%);fill-opacity:1;stroke-width:1;stroke-linecap:butt;stroke-linejoin:miter;stroke:rgb(0%,0%,0%);stroke-opacity:1;stroke-miterlimit:10;\" d=\"M 192.621094 357.476562 C 192.621094 362.8125 184.621094 362.8125 184.621094 357.476562 C 184.621094 352.144531 192.621094 352.144531 192.621094 357.476562 \"/>\n<path style=\"fill-rule:nonzero;fill:rgb(0%,0%,100%);fill-opacity:1;stroke-width:1;stroke-linecap:butt;stroke-linejoin:miter;stroke:rgb(0%,0%,0%);stroke-opacity:1;stroke-miterlimit:10;\" d=\"M 251.566406 481.839844 C 251.566406 487.171875 243.566406 487.171875 243.566406 481.839844 C 243.566406 476.503906 251.566406 476.503906 251.566406 481.839844 \"/>\n<path style=\"fill-rule:nonzero;fill:rgb(0%,0%,100%);fill-opacity:1;stroke-width:1;stroke-linecap:butt;stroke-linejoin:miter;stroke:rgb(0%,0%,0%);stroke-opacity:1;stroke-miterlimit:10;\" d=\"M 549.960938 341.492188 C 549.960938 346.824219 541.960938 346.824219 541.960938 341.492188 C 541.960938 336.160156 549.960938 336.160156 549.960938 341.492188 \"/>\n<path style=\"fill-rule:nonzero;fill:rgb(0%,0%,100%);fill-opacity:1;stroke-width:1;stroke-linecap:butt;stroke-linejoin:miter;stroke:rgb(0%,0%,0%);stroke-opacity:1;stroke-miterlimit:10;\" d=\"M 492.683594 285.015625 C 492.683594 290.347656 484.683594 290.347656 484.683594 285.015625 C 484.683594 279.683594 492.683594 279.683594 492.683594 285.015625 \"/>\n<path style=\"fill-rule:nonzero;fill:rgb(0%,0%,100%);fill-opacity:1;stroke-width:1;stroke-linecap:butt;stroke-linejoin:miter;stroke:rgb(0%,0%,0%);stroke-opacity:1;stroke-miterlimit:10;\" d=\"M 555.074219 412.746094 C 555.074219 418.078125 547.074219 418.078125 547.074219 412.746094 C 547.074219 407.410156 555.074219 407.410156 555.074219 412.746094 \"/>\n<path style=\"fill-rule:nonzero;fill:rgb(0%,0%,100%);fill-opacity:1;stroke-width:1;stroke-linecap:butt;stroke-linejoin:miter;stroke:rgb(0%,0%,0%);stroke-opacity:1;stroke-miterlimit:10;\" d=\"M 224.15625 245.976562 C 224.15625 251.308594 216.15625 251.308594 216.15625 245.976562 C 216.15625 240.644531 224.15625 240.644531 224.15625 245.976562 \"/>\n<path style=\"fill-rule:nonzero;fill:rgb(0%,0%,100%);fill-opacity:1;stroke-width:1;stroke-linecap:butt;stroke-linejoin:miter;stroke:rgb(0%,0%,0%);stroke-opacity:1;stroke-miterlimit:10;\" d=\"M 142.808594 175.121094 C 142.808594 180.453125 134.808594 180.453125 134.808594 175.121094 C 134.808594 169.785156 142.808594 169.785156 142.808594 175.121094 \"/>\n<path style=\"fill-rule:nonzero;fill:rgb(0%,0%,100%);fill-opacity:1;stroke-width:1;stroke-linecap:butt;stroke-linejoin:miter;stroke:rgb(0%,0%,0%);stroke-opacity:1;stroke-miterlimit:10;\" d=\"M 130.996094 485.535156 C 130.996094 490.871094 122.996094 490.871094 122.996094 485.535156 C 122.996094 480.203125 130.996094 480.203125 130.996094 485.535156 \"/>\n<path style=\"fill-rule:nonzero;fill:rgb(0%,0%,100%);fill-opacity:1;stroke-width:1;stroke-linecap:butt;stroke-linejoin:miter;stroke:rgb(0%,0%,0%);stroke-opacity:1;stroke-miterlimit:10;\" d=\"M 418.347656 522.214844 C 418.347656 527.546875 410.347656 527.546875 410.347656 522.214844 C 410.347656 516.878906 418.347656 516.878906 418.347656 522.214844 \"/>\n<path style=\"fill-rule:nonzero;fill:rgb(0%,0%,100%);fill-opacity:1;stroke-width:1;stroke-linecap:butt;stroke-linejoin:miter;stroke:rgb(0%,0%,0%);stroke-opacity:1;stroke-miterlimit:10;\" d=\"M 387.601562 415.941406 C 387.601562 421.277344 379.601562 421.277344 379.601562 415.941406 C 379.601562 410.609375 387.601562 410.609375 387.601562 415.941406 \"/>\n<path style=\"fill-rule:nonzero;fill:rgb(0%,0%,100%);fill-opacity:1;stroke-width:1;stroke-linecap:butt;stroke-linejoin:miter;stroke:rgb(0%,0%,0%);stroke-opacity:1;stroke-miterlimit:10;\" d=\"M 448.125 126.058594 C 448.125 131.390625 440.125 131.390625 440.125 126.058594 C 440.125 120.726562 448.125 120.726562 448.125 126.058594 \"/>\n<path style=\"fill-rule:nonzero;fill:rgb(0%,0%,100%);fill-opacity:1;stroke-width:1;stroke-linecap:butt;stroke-linejoin:miter;stroke:rgb(0%,0%,0%);stroke-opacity:1;stroke-miterlimit:10;\" d=\"M 136.710938 308.894531 C 136.710938 314.226562 128.710938 314.226562 128.710938 308.894531 C 128.710938 303.5625 136.710938 303.5625 136.710938 308.894531 \"/>\n<path style=\"fill-rule:nonzero;fill:rgb(0%,0%,100%);fill-opacity:1;stroke-width:1;stroke-linecap:butt;stroke-linejoin:miter;stroke:rgb(0%,0%,0%);stroke-opacity:1;stroke-miterlimit:10;\" d=\"M 203.304688 427.214844 C 203.304688 432.550781 195.304688 432.550781 195.304688 427.214844 C 195.304688 421.882812 203.304688 421.882812 203.304688 427.214844 \"/>\n<path style=\"fill-rule:nonzero;fill:rgb(0%,0%,100%);fill-opacity:1;stroke-width:1;stroke-linecap:butt;stroke-linejoin:miter;stroke:rgb(0%,0%,0%);stroke-opacity:1;stroke-miterlimit:10;\" d=\"M 171.0625 57.726562 C 171.0625 63.0625 163.0625 63.0625 163.0625 57.726562 C 163.0625 52.394531 171.0625 52.394531 171.0625 57.726562 \"/>\n<path style=\"fill-rule:nonzero;fill:rgb(0%,0%,100%);fill-opacity:1;stroke-width:1;stroke-linecap:butt;stroke-linejoin:miter;stroke:rgb(0%,0%,0%);stroke-opacity:1;stroke-miterlimit:10;\" d=\"M 190.023438 555.398438 C 190.023438 560.734375 182.023438 560.734375 182.023438 555.398438 C 182.023438 550.066406 190.023438 550.066406 190.023438 555.398438 \"/>\n<path style=\"fill-rule:nonzero;fill:rgb(0%,0%,100%);fill-opacity:1;stroke-width:1;stroke-linecap:butt;stroke-linejoin:miter;stroke:rgb(0%,0%,0%);stroke-opacity:1;stroke-miterlimit:10;\" d=\"M 98.347656 489.269531 C 98.347656 494.601562 90.347656 494.601562 90.347656 489.269531 C 90.347656 483.9375 98.347656 483.9375 98.347656 489.269531 \"/>\n<path style=\"fill-rule:nonzero;fill:rgb(0%,0%,100%);fill-opacity:1;stroke-width:1;stroke-linecap:butt;stroke-linejoin:miter;stroke:rgb(0%,0%,0%);stroke-opacity:1;stroke-miterlimit:10;\" d=\"M 160.09375 370.355469 C 160.09375 375.691406 152.09375 375.691406 152.09375 370.355469 C 152.09375 365.023438 160.09375 365.023438 160.09375 370.355469 \"/>\n<path style=\"fill-rule:nonzero;fill:rgb(0%,0%,100%);fill-opacity:1;stroke-width:1;stroke-linecap:butt;stroke-linejoin:miter;stroke:rgb(0%,0%,0%);stroke-opacity:1;stroke-miterlimit:10;\" d=\"M 238.035156 167.71875 C 238.035156 173.050781 230.035156 173.050781 230.035156 167.71875 C 230.035156 162.386719 238.035156 162.386719 238.035156 167.71875 \"/>\n<path style=\"fill-rule:nonzero;fill:rgb(0%,0%,100%);fill-opacity:1;stroke-width:1;stroke-linecap:butt;stroke-linejoin:miter;stroke:rgb(0%,0%,0%);stroke-opacity:1;stroke-miterlimit:10;\" d=\"M 103.332031 309.652344 C 103.332031 314.984375 95.332031 314.984375 95.332031 309.652344 C 95.332031 304.316406 103.332031 304.316406 103.332031 309.652344 \"/>\n<path style=\"fill-rule:nonzero;fill:rgb(0%,0%,100%);fill-opacity:1;stroke-width:1;stroke-linecap:butt;stroke-linejoin:miter;stroke:rgb(0%,0%,0%);stroke-opacity:1;stroke-miterlimit:10;\" d=\"M 434.832031 218.914062 C 434.832031 224.246094 426.832031 224.246094 426.832031 218.914062 C 426.832031 213.578125 434.832031 213.578125 434.832031 218.914062 \"/>\n<path style=\"fill-rule:nonzero;fill:rgb(0%,0%,100%);fill-opacity:1;stroke-width:1;stroke-linecap:butt;stroke-linejoin:miter;stroke:rgb(0%,0%,0%);stroke-opacity:1;stroke-miterlimit:10;\" d=\"M 286.800781 488.574219 C 286.800781 493.90625 278.800781 493.90625 278.800781 488.574219 C 278.800781 483.242188 286.800781 483.242188 286.800781 488.574219 \"/>\n<path style=\"fill-rule:nonzero;fill:rgb(0%,0%,100%);fill-opacity:1;stroke-width:1;stroke-linecap:butt;stroke-linejoin:miter;stroke:rgb(0%,0%,0%);stroke-opacity:1;stroke-miterlimit:10;\" d=\"M 293.828125 375.09375 C 293.828125 380.429688 285.828125 380.429688 285.828125 375.09375 C 285.828125 369.761719 293.828125 369.761719 293.828125 375.09375 \"/>\n<path style=\"fill-rule:nonzero;fill:rgb(0%,0%,100%);fill-opacity:1;stroke-width:1;stroke-linecap:butt;stroke-linejoin:miter;stroke:rgb(0%,0%,0%);stroke-opacity:1;stroke-miterlimit:10;\" d=\"M 341.984375 20 C 341.984375 25.332031 333.984375 25.332031 333.984375 20 C 333.984375 14.667969 341.984375 14.667969 341.984375 20 \"/>\n<path style=\"fill-rule:nonzero;fill:rgb(0%,0%,100%);fill-opacity:1;stroke-width:1;stroke-linecap:butt;stroke-linejoin:miter;stroke:rgb(0%,0%,0%);stroke-opacity:1;stroke-miterlimit:10;\" d=\"M 155.054688 160.792969 C 155.054688 166.125 147.054688 166.125 147.054688 160.792969 C 147.054688 155.460938 155.054688 155.460938 155.054688 160.792969 \"/>\n<path style=\"fill-rule:nonzero;fill:rgb(0%,0%,100%);fill-opacity:1;stroke-width:1;stroke-linecap:butt;stroke-linejoin:miter;stroke:rgb(0%,0%,0%);stroke-opacity:1;stroke-miterlimit:10;\" d=\"M 450.101562 328.410156 C 450.101562 333.746094 442.101562 333.746094 442.101562 328.410156 C 442.101562 323.078125 450.101562 323.078125 450.101562 328.410156 \"/>\n<path style=\"fill-rule:nonzero;fill:rgb(0%,0%,100%);fill-opacity:1;stroke-width:1;stroke-linecap:butt;stroke-linejoin:miter;stroke:rgb(0%,0%,0%);stroke-opacity:1;stroke-miterlimit:10;\" d=\"M 381.195312 507.179688 C 381.195312 512.511719 373.195312 512.511719 373.195312 507.179688 C 373.195312 501.847656 381.195312 501.847656 381.195312 507.179688 \"/>\n<path style=\"fill-rule:nonzero;fill:rgb(0%,0%,100%);fill-opacity:1;stroke-width:1;stroke-linecap:butt;stroke-linejoin:miter;stroke:rgb(0%,0%,0%);stroke-opacity:1;stroke-miterlimit:10;\" d=\"M 576.867188 356.023438 C 576.867188 361.355469 568.867188 361.355469 568.867188 356.023438 C 568.867188 350.6875 576.867188 350.6875 576.867188 356.023438 \"/>\n<path style=\"fill-rule:nonzero;fill:rgb(0%,0%,100%);fill-opacity:1;stroke-width:1;stroke-linecap:butt;stroke-linejoin:miter;stroke:rgb(0%,0%,0%);stroke-opacity:1;stroke-miterlimit:10;\" d=\"M 521.714844 316.578125 C 521.714844 321.914062 513.714844 321.914062 513.714844 316.578125 C 513.714844 311.246094 521.714844 311.246094 521.714844 316.578125 \"/>\n<path style=\"fill-rule:nonzero;fill:rgb(0%,0%,100%);fill-opacity:1;stroke-width:1;stroke-linecap:butt;stroke-linejoin:miter;stroke:rgb(0%,0%,0%);stroke-opacity:1;stroke-miterlimit:10;\" d=\"M 356.808594 313.777344 C 356.808594 319.109375 348.808594 319.109375 348.808594 313.777344 C 348.808594 308.445312 356.808594 308.445312 356.808594 313.777344 \"/>\n<path style=\"fill-rule:nonzero;fill:rgb(0%,0%,100%);fill-opacity:1;stroke-width:1;stroke-linecap:butt;stroke-linejoin:miter;stroke:rgb(0%,0%,0%);stroke-opacity:1;stroke-miterlimit:10;\" d=\"M 497.394531 380.707031 C 497.394531 386.042969 489.394531 386.042969 489.394531 380.707031 C 489.394531 375.375 497.394531 375.375 497.394531 380.707031 \"/>\n<path style=\"fill-rule:nonzero;fill:rgb(0%,0%,100%);fill-opacity:1;stroke-width:1;stroke-linecap:butt;stroke-linejoin:miter;stroke:rgb(0%,0%,0%);stroke-opacity:1;stroke-miterlimit:10;\" d=\"M 268.746094 71.230469 C 268.746094 76.5625 260.746094 76.5625 260.746094 71.230469 C 260.746094 65.894531 268.746094 65.894531 268.746094 71.230469 \"/>\n<path style=\"fill-rule:nonzero;fill:rgb(0%,0%,100%);fill-opacity:1;stroke-width:1;stroke-linecap:butt;stroke-linejoin:miter;stroke:rgb(0%,0%,0%);stroke-opacity:1;stroke-miterlimit:10;\" d=\"M 382.292969 569.824219 C 382.292969 575.160156 374.292969 575.160156 374.292969 569.824219 C 374.292969 564.492188 382.292969 564.492188 382.292969 569.824219 \"/>\n<path style=\"fill-rule:nonzero;fill:rgb(0%,0%,100%);fill-opacity:1;stroke-width:1;stroke-linecap:butt;stroke-linejoin:miter;stroke:rgb(0%,0%,0%);stroke-opacity:1;stroke-miterlimit:10;\" d=\"M 129.222656 219.101562 C 129.222656 224.433594 121.222656 224.433594 121.222656 219.101562 C 121.222656 213.769531 129.222656 213.769531 129.222656 219.101562 \"/>\n<path style=\"fill-rule:nonzero;fill:rgb(0%,0%,100%);fill-opacity:1;stroke-width:1;stroke-linecap:butt;stroke-linejoin:miter;stroke:rgb(0%,0%,0%);stroke-opacity:1;stroke-miterlimit:10;\" d=\"M 442 500.585938 C 442 505.921875 434 505.921875 434 500.585938 C 434 495.253906 442 495.253906 442 500.585938 \"/>\n<path style=\"fill-rule:nonzero;fill:rgb(0%,0%,100%);fill-opacity:1;stroke-width:1;stroke-linecap:butt;stroke-linejoin:miter;stroke:rgb(0%,0%,0%);stroke-opacity:1;stroke-miterlimit:10;\" d=\"M 161.304688 541.453125 C 161.304688 546.785156 153.304688 546.785156 153.304688 541.453125 C 153.304688 536.117188 161.304688 536.117188 161.304688 541.453125 \"/>\n<path style=\"fill-rule:nonzero;fill:rgb(0%,0%,100%);fill-opacity:1;stroke-width:1;stroke-linecap:butt;stroke-linejoin:miter;stroke:rgb(0%,0%,0%);stroke-opacity:1;stroke-miterlimit:10;\" d=\"M 540.910156 376.433594 C 540.910156 381.765625 532.910156 381.765625 532.910156 376.433594 C 532.910156 371.097656 540.910156 371.097656 540.910156 376.433594 \"/>\n<path style=\"fill-rule:nonzero;fill:rgb(0%,0%,100%);fill-opacity:1;stroke-width:1;stroke-linecap:butt;stroke-linejoin:miter;stroke:rgb(0%,0%,0%);stroke-opacity:1;stroke-miterlimit:10;\" d=\"M 483.421875 121.960938 C 483.421875 127.292969 475.421875 127.292969 475.421875 121.960938 C 475.421875 116.625 483.421875 116.625 483.421875 121.960938 \"/>\n<path style=\"fill-rule:nonzero;fill:rgb(0%,0%,100%);fill-opacity:1;stroke-width:1;stroke-linecap:butt;stroke-linejoin:miter;stroke:rgb(0%,0%,0%);stroke-opacity:1;stroke-miterlimit:10;\" d=\"M 581.914062 324.007812 C 581.914062 329.339844 573.914062 329.339844 573.914062 324.007812 C 573.914062 318.671875 581.914062 318.671875 581.914062 324.007812 \"/>\n<path style=\"fill-rule:nonzero;fill:rgb(0%,0%,100%);fill-opacity:1;stroke-width:1;stroke-linecap:butt;stroke-linejoin:miter;stroke:rgb(0%,0%,0%);stroke-opacity:1;stroke-miterlimit:10;\" d=\"M 262.988281 88.933594 C 262.988281 94.269531 254.988281 94.269531 254.988281 88.933594 C 254.988281 83.601562 262.988281 83.601562 262.988281 88.933594 \"/>\n<path style=\"fill-rule:nonzero;fill:rgb(0%,0%,100%);fill-opacity:1;stroke-width:1;stroke-linecap:butt;stroke-linejoin:miter;stroke:rgb(0%,0%,0%);stroke-opacity:1;stroke-miterlimit:10;\" d=\"M 212.5 328.664062 C 212.5 333.996094 204.5 333.996094 204.5 328.664062 C 204.5 323.328125 212.5 323.328125 212.5 328.664062 \"/>\n<path style=\"fill-rule:nonzero;fill:rgb(0%,0%,100%);fill-opacity:1;stroke-width:1;stroke-linecap:butt;stroke-linejoin:miter;stroke:rgb(0%,0%,0%);stroke-opacity:1;stroke-miterlimit:10;\" d=\"M 279.722656 56.1875 C 279.722656 61.523438 271.722656 61.523438 271.722656 56.1875 C 271.722656 50.855469 279.722656 50.855469 279.722656 56.1875 \"/>\n<path style=\"fill-rule:nonzero;fill:rgb(0%,100%,0%);fill-opacity:1;stroke-width:1;stroke-linecap:butt;stroke-linejoin:miter;stroke:rgb(0%,0%,0%);stroke-opacity:1;stroke-miterlimit:10;\" d=\"M 36.523438 376.425781 C 36.523438 381.761719 28.523438 381.761719 28.523438 376.425781 C 28.523438 371.09375 36.523438 371.09375 36.523438 376.425781 \"/>\n<path style=\"fill-rule:nonzero;fill:rgb(0%,0%,100%);fill-opacity:1;stroke-width:1;stroke-linecap:butt;stroke-linejoin:miter;stroke:rgb(0%,0%,0%);stroke-opacity:1;stroke-miterlimit:10;\" d=\"M 347.28125 203.976562 C 347.28125 209.308594 339.28125 209.308594 339.28125 203.976562 C 339.28125 198.644531 347.28125 198.644531 347.28125 203.976562 \"/>\n<path style=\"fill-rule:nonzero;fill:rgb(0%,0%,100%);fill-opacity:1;stroke-width:1;stroke-linecap:butt;stroke-linejoin:miter;stroke:rgb(0%,0%,0%);stroke-opacity:1;stroke-miterlimit:10;\" d=\"M 280.425781 300.234375 C 280.425781 305.566406 272.425781 305.566406 272.425781 300.234375 C 272.425781 294.902344 280.425781 294.902344 280.425781 300.234375 \"/>\n<path style=\"fill-rule:nonzero;fill:rgb(0%,0%,100%);fill-opacity:1;stroke-width:1;stroke-linecap:butt;stroke-linejoin:miter;stroke:rgb(0%,0%,0%);stroke-opacity:1;stroke-miterlimit:10;\" d=\"M 530.523438 135.859375 C 530.523438 141.191406 522.523438 141.191406 522.523438 135.859375 C 522.523438 130.527344 530.523438 130.527344 530.523438 135.859375 \"/>\n<path style=\"fill-rule:nonzero;fill:rgb(0%,0%,100%);fill-opacity:1;stroke-width:1;stroke-linecap:butt;stroke-linejoin:miter;stroke:rgb(0%,0%,0%);stroke-opacity:1;stroke-miterlimit:10;\" d=\"M 389.375 537.996094 C 389.375 543.328125 381.375 543.328125 381.375 537.996094 C 381.375 532.660156 389.375 532.660156 389.375 537.996094 \"/>\n<path style=\"fill-rule:nonzero;fill:rgb(0%,0%,100%);fill-opacity:1;stroke-width:1;stroke-linecap:butt;stroke-linejoin:miter;stroke:rgb(0%,0%,0%);stroke-opacity:1;stroke-miterlimit:10;\" d=\"M 361.917969 480.453125 C 361.917969 485.785156 353.917969 485.785156 353.917969 480.453125 C 353.917969 475.121094 361.917969 475.121094 361.917969 480.453125 \"/>\n<path style=\"fill-rule:nonzero;fill:rgb(0%,0%,100%);fill-opacity:1;stroke-width:1;stroke-linecap:butt;stroke-linejoin:miter;stroke:rgb(0%,0%,0%);stroke-opacity:1;stroke-miterlimit:10;\" d=\"M 123.789062 424.261719 C 123.789062 429.597656 115.789062 429.597656 115.789062 424.261719 C 115.789062 418.929688 123.789062 418.929688 123.789062 424.261719 \"/>\n<path style=\"fill-rule:nonzero;fill:rgb(0%,0%,100%);fill-opacity:1;stroke-width:1;stroke-linecap:butt;stroke-linejoin:miter;stroke:rgb(0%,0%,0%);stroke-opacity:1;stroke-miterlimit:10;\" d=\"M 149.675781 338.238281 C 149.675781 343.570312 141.675781 343.570312 141.675781 338.238281 C 141.675781 332.90625 149.675781 332.90625 149.675781 338.238281 \"/>\n<path style=\"fill-rule:nonzero;fill:rgb(0%,0%,100%);fill-opacity:1;stroke-width:1;stroke-linecap:butt;stroke-linejoin:miter;stroke:rgb(0%,0%,0%);stroke-opacity:1;stroke-miterlimit:10;\" d=\"M 108.011719 187.304688 C 108.011719 192.636719 100.011719 192.636719 100.011719 187.304688 C 100.011719 181.96875 108.011719 181.96875 108.011719 187.304688 \"/>\n<path style=\"fill-rule:nonzero;fill:rgb(0%,0%,100%);fill-opacity:1;stroke-width:1;stroke-linecap:butt;stroke-linejoin:miter;stroke:rgb(0%,0%,0%);stroke-opacity:1;stroke-miterlimit:10;\" d=\"M 427.832031 85.316406 C 427.832031 90.652344 419.832031 90.652344 419.832031 85.316406 C 419.832031 79.984375 427.832031 79.984375 427.832031 85.316406 \"/>\n<path style=\"fill-rule:nonzero;fill:rgb(0%,0%,100%);fill-opacity:1;stroke-width:1;stroke-linecap:butt;stroke-linejoin:miter;stroke:rgb(0%,0%,0%);stroke-opacity:1;stroke-miterlimit:10;\" d=\"M 150.769531 515.296875 C 150.769531 520.632812 142.769531 520.632812 142.769531 515.296875 C 142.769531 509.964844 150.769531 509.964844 150.769531 515.296875 \"/>\n<path style=\"fill-rule:nonzero;fill:rgb(0%,0%,100%);fill-opacity:1;stroke-width:1;stroke-linecap:butt;stroke-linejoin:miter;stroke:rgb(0%,0%,0%);stroke-opacity:1;stroke-miterlimit:10;\" d=\"M 128.992188 274.941406 C 128.992188 280.273438 120.992188 280.273438 120.992188 274.941406 C 120.992188 269.605469 128.992188 269.605469 128.992188 274.941406 \"/>\n<path style=\"fill-rule:nonzero;fill:rgb(0%,0%,100%);fill-opacity:1;stroke-width:1;stroke-linecap:butt;stroke-linejoin:miter;stroke:rgb(0%,0%,0%);stroke-opacity:1;stroke-miterlimit:10;\" d=\"M 326.640625 549.921875 C 326.640625 555.253906 318.640625 555.253906 318.640625 549.921875 C 318.640625 544.589844 326.640625 544.589844 326.640625 549.921875 \"/>\n<path style=\"fill-rule:nonzero;fill:rgb(0%,0%,100%);fill-opacity:1;stroke-width:1;stroke-linecap:butt;stroke-linejoin:miter;stroke:rgb(0%,0%,0%);stroke-opacity:1;stroke-miterlimit:10;\" d=\"M 28.144531 342.699219 C 28.144531 348.03125 20.144531 348.03125 20.144531 342.699219 C 20.144531 337.367188 28.144531 337.367188 28.144531 342.699219 \"/>\n<path style=\"fill-rule:nonzero;fill:rgb(0%,0%,100%);fill-opacity:1;stroke-width:1;stroke-linecap:butt;stroke-linejoin:miter;stroke:rgb(0%,0%,0%);stroke-opacity:1;stroke-miterlimit:10;\" d=\"M 384.898438 340.242188 C 384.898438 345.574219 376.898438 345.574219 376.898438 340.242188 C 376.898438 334.910156 384.898438 334.910156 384.898438 340.242188 \"/>\n<path style=\"fill-rule:nonzero;fill:rgb(0%,0%,100%);fill-opacity:1;stroke-width:1;stroke-linecap:butt;stroke-linejoin:miter;stroke:rgb(0%,0%,0%);stroke-opacity:1;stroke-miterlimit:10;\" d=\"M 561.714844 191.257812 C 561.714844 196.589844 553.714844 196.589844 553.714844 191.257812 C 553.714844 185.925781 561.714844 185.925781 561.714844 191.257812 \"/>\n<path style=\"fill-rule:nonzero;fill:rgb(0%,0%,100%);fill-opacity:1;stroke-width:1;stroke-linecap:butt;stroke-linejoin:miter;stroke:rgb(0%,0%,0%);stroke-opacity:1;stroke-miterlimit:10;\" d=\"M 192.910156 463.371094 C 192.910156 468.703125 184.910156 468.703125 184.910156 463.371094 C 184.910156 458.035156 192.910156 458.035156 192.910156 463.371094 \"/>\n<path style=\"fill-rule:nonzero;fill:rgb(0%,0%,100%);fill-opacity:1;stroke-width:1;stroke-linecap:butt;stroke-linejoin:miter;stroke:rgb(0%,0%,0%);stroke-opacity:1;stroke-miterlimit:10;\" d=\"M 201.324219 179.445312 C 201.324219 184.777344 193.324219 184.777344 193.324219 179.445312 C 193.324219 174.113281 201.324219 174.113281 201.324219 179.445312 \"/>\n<path style=\"fill-rule:nonzero;fill:rgb(0%,0%,100%);fill-opacity:1;stroke-width:1;stroke-linecap:butt;stroke-linejoin:miter;stroke:rgb(0%,0%,0%);stroke-opacity:1;stroke-miterlimit:10;\" d=\"M 363.816406 444.761719 C 363.816406 450.09375 355.816406 450.09375 355.816406 444.761719 C 355.816406 439.429688 363.816406 439.429688 363.816406 444.761719 \"/>\n<path style=\"fill-rule:nonzero;fill:rgb(0%,0%,100%);fill-opacity:1;stroke-width:1;stroke-linecap:butt;stroke-linejoin:miter;stroke:rgb(0%,0%,0%);stroke-opacity:1;stroke-miterlimit:10;\" d=\"M 83.167969 368.554688 C 83.167969 373.890625 75.167969 373.890625 75.167969 368.554688 C 75.167969 363.222656 83.167969 363.222656 83.167969 368.554688 \"/>\n<path style=\"fill-rule:nonzero;fill:rgb(0%,0%,100%);fill-opacity:1;stroke-width:1;stroke-linecap:butt;stroke-linejoin:miter;stroke:rgb(0%,0%,0%);stroke-opacity:1;stroke-miterlimit:10;\" d=\"M 540.109375 214.0625 C 540.109375 219.398438 532.109375 219.398438 532.109375 214.0625 C 532.109375 208.730469 540.109375 208.730469 540.109375 214.0625 \"/>\n<path style=\"fill-rule:nonzero;fill:rgb(0%,0%,100%);fill-opacity:1;stroke-width:1;stroke-linecap:butt;stroke-linejoin:miter;stroke:rgb(0%,0%,0%);stroke-opacity:1;stroke-miterlimit:10;\" d=\"M 245.292969 512.953125 C 245.292969 518.289062 237.292969 518.289062 237.292969 512.953125 C 237.292969 507.621094 245.292969 507.621094 245.292969 512.953125 \"/>\n<path style=\"fill-rule:nonzero;fill:rgb(0%,0%,100%);fill-opacity:1;stroke-width:1;stroke-linecap:butt;stroke-linejoin:miter;stroke:rgb(0%,0%,0%);stroke-opacity:1;stroke-miterlimit:10;\" d=\"M 255.957031 23.371094 C 255.957031 28.703125 247.957031 28.703125 247.957031 23.371094 C 247.957031 18.035156 255.957031 18.035156 255.957031 23.371094 \"/>\n<path style=\"fill-rule:nonzero;fill:rgb(0%,0%,100%);fill-opacity:1;stroke-width:1;stroke-linecap:butt;stroke-linejoin:miter;stroke:rgb(0%,0%,0%);stroke-opacity:1;stroke-miterlimit:10;\" d=\"M 306.082031 146.308594 C 306.082031 151.640625 298.082031 151.640625 298.082031 146.308594 C 298.082031 140.972656 306.082031 140.972656 306.082031 146.308594 \"/>\n<path style=\"fill-rule:nonzero;fill:rgb(0%,0%,100%);fill-opacity:1;stroke-width:1;stroke-linecap:butt;stroke-linejoin:miter;stroke:rgb(0%,0%,0%);stroke-opacity:1;stroke-miterlimit:10;\" d=\"M 173.480469 156.492188 C 173.480469 161.824219 165.480469 161.824219 165.480469 156.492188 C 165.480469 151.160156 173.480469 151.160156 173.480469 156.492188 \"/>\n<path style=\"fill-rule:nonzero;fill:rgb(0%,0%,100%);fill-opacity:1;stroke-width:1;stroke-linecap:butt;stroke-linejoin:miter;stroke:rgb(0%,0%,0%);stroke-opacity:1;stroke-miterlimit:10;\" d=\"M 247.164062 126.195312 C 247.164062 131.53125 239.164062 131.53125 239.164062 126.195312 C 239.164062 120.863281 247.164062 120.863281 247.164062 126.195312 \"/>\n<path style=\"fill-rule:nonzero;fill:rgb(0%,0%,100%);fill-opacity:1;stroke-width:1;stroke-linecap:butt;stroke-linejoin:miter;stroke:rgb(0%,0%,0%);stroke-opacity:1;stroke-miterlimit:10;\" d=\"M 282.578125 340.457031 C 282.578125 345.792969 274.578125 345.792969 274.578125 340.457031 C 274.578125 335.125 282.578125 335.125 282.578125 340.457031 \"/>\n<path style=\"fill-rule:nonzero;fill:rgb(0%,0%,100%);fill-opacity:1;stroke-width:1;stroke-linecap:butt;stroke-linejoin:miter;stroke:rgb(0%,0%,0%);stroke-opacity:1;stroke-miterlimit:10;\" d=\"M 414.953125 557.554688 C 414.953125 562.886719 406.953125 562.886719 406.953125 557.554688 C 406.953125 552.21875 414.953125 552.21875 414.953125 557.554688 \"/>\n<path style=\"fill-rule:nonzero;fill:rgb(0%,0%,100%);fill-opacity:1;stroke-width:1;stroke-linecap:butt;stroke-linejoin:miter;stroke:rgb(0%,0%,0%);stroke-opacity:1;stroke-miterlimit:10;\" d=\"M 221.261719 98.171875 C 221.261719 103.503906 213.261719 103.503906 213.261719 98.171875 C 213.261719 92.839844 221.261719 92.839844 221.261719 98.171875 \"/>\n<path style=\"fill-rule:nonzero;fill:rgb(0%,0%,100%);fill-opacity:1;stroke-width:1;stroke-linecap:butt;stroke-linejoin:miter;stroke:rgb(0%,0%,0%);stroke-opacity:1;stroke-miterlimit:10;\" d=\"M 387.28125 212.003906 C 387.28125 217.335938 379.28125 217.335938 379.28125 212.003906 C 379.28125 206.671875 387.28125 206.671875 387.28125 212.003906 \"/>\n<path style=\"fill-rule:nonzero;fill:rgb(0%,0%,100%);fill-opacity:1;stroke-width:1;stroke-linecap:butt;stroke-linejoin:miter;stroke:rgb(0%,0%,0%);stroke-opacity:1;stroke-miterlimit:10;\" d=\"M 230.808594 204.5 C 230.808594 209.835938 222.808594 209.835938 222.808594 204.5 C 222.808594 199.167969 230.808594 199.167969 230.808594 204.5 \"/>\n<path style=\"fill-rule:nonzero;fill:rgb(0%,0%,100%);fill-opacity:1;stroke-width:1;stroke-linecap:butt;stroke-linejoin:miter;stroke:rgb(0%,0%,0%);stroke-opacity:1;stroke-miterlimit:10;\" d=\"M 178.746094 315.328125 C 178.746094 320.660156 170.746094 320.660156 170.746094 315.328125 C 170.746094 309.996094 178.746094 309.996094 178.746094 315.328125 \"/>\n<path style=\"fill-rule:nonzero;fill:rgb(0%,0%,100%);fill-opacity:1;stroke-width:1;stroke-linecap:butt;stroke-linejoin:miter;stroke:rgb(0%,0%,0%);stroke-opacity:1;stroke-miterlimit:10;\" d=\"M 374.207031 376.707031 C 374.207031 382.039062 366.207031 382.039062 366.207031 376.707031 C 366.207031 371.371094 374.207031 371.371094 374.207031 376.707031 \"/>\n<path style=\"fill-rule:nonzero;fill:rgb(0%,0%,100%);fill-opacity:1;stroke-width:1;stroke-linecap:butt;stroke-linejoin:miter;stroke:rgb(0%,0%,0%);stroke-opacity:1;stroke-miterlimit:10;\" d=\"M 347.5 276.589844 C 347.5 281.921875 339.5 281.921875 339.5 276.589844 C 339.5 271.257812 347.5 271.257812 347.5 276.589844 \"/>\n<path style=\"fill-rule:nonzero;fill:rgb(0%,0%,100%);fill-opacity:1;stroke-width:1;stroke-linecap:butt;stroke-linejoin:miter;stroke:rgb(0%,0%,0%);stroke-opacity:1;stroke-miterlimit:10;\" d=\"M 490.515625 184.558594 C 490.515625 189.890625 482.515625 189.890625 482.515625 184.558594 C 482.515625 179.226562 490.515625 179.226562 490.515625 184.558594 \"/>\n<path style=\"fill-rule:nonzero;fill:rgb(0%,0%,100%);fill-opacity:1;stroke-width:1;stroke-linecap:butt;stroke-linejoin:miter;stroke:rgb(0%,0%,0%);stroke-opacity:1;stroke-miterlimit:10;\" d=\"M 279.152344 415.1875 C 279.152344 420.519531 271.152344 420.519531 271.152344 415.1875 C 271.152344 409.855469 279.152344 409.855469 279.152344 415.1875 \"/>\n<path style=\"fill-rule:nonzero;fill:rgb(0%,0%,100%);fill-opacity:1;stroke-width:1;stroke-linecap:butt;stroke-linejoin:miter;stroke:rgb(0%,0%,0%);stroke-opacity:1;stroke-miterlimit:10;\" d=\"M 488.453125 438.511719 C 488.453125 443.84375 480.453125 443.84375 480.453125 438.511719 C 480.453125 433.179688 488.453125 433.179688 488.453125 438.511719 \"/>\n<path style=\"fill-rule:nonzero;fill:rgb(0%,0%,100%);fill-opacity:1;stroke-width:1;stroke-linecap:butt;stroke-linejoin:miter;stroke:rgb(0%,0%,0%);stroke-opacity:1;stroke-miterlimit:10;\" d=\"M 457.730469 96.527344 C 457.730469 101.859375 449.730469 101.859375 449.730469 96.527344 C 449.730469 91.191406 457.730469 91.191406 457.730469 96.527344 \"/>\n<path style=\"fill-rule:nonzero;fill:rgb(0%,0%,100%);fill-opacity:1;stroke-width:1;stroke-linecap:butt;stroke-linejoin:miter;stroke:rgb(0%,0%,0%);stroke-opacity:1;stroke-miterlimit:10;\" d=\"M 108.710938 250.582031 C 108.710938 255.917969 100.710938 255.917969 100.710938 250.582031 C 100.710938 245.25 108.710938 245.25 108.710938 250.582031 \"/>\n<path style=\"fill-rule:nonzero;fill:rgb(0%,0%,100%);fill-opacity:1;stroke-width:1;stroke-linecap:butt;stroke-linejoin:miter;stroke:rgb(0%,0%,0%);stroke-opacity:1;stroke-miterlimit:10;\" d=\"M 454.554688 433.761719 C 454.554688 439.09375 446.554688 439.09375 446.554688 433.761719 C 446.554688 428.429688 454.554688 428.429688 454.554688 433.761719 \"/>\n<path style=\"fill-rule:nonzero;fill:rgb(0%,0%,100%);fill-opacity:1;stroke-width:1;stroke-linecap:butt;stroke-linejoin:miter;stroke:rgb(0%,0%,0%);stroke-opacity:1;stroke-miterlimit:10;\" d=\"M 336.476562 128.652344 C 336.476562 133.984375 328.476562 133.984375 328.476562 128.652344 C 328.476562 123.316406 336.476562 123.316406 336.476562 128.652344 \"/>\n<path style=\"fill-rule:nonzero;fill:rgb(0%,0%,100%);fill-opacity:1;stroke-width:1;stroke-linecap:butt;stroke-linejoin:miter;stroke:rgb(0%,0%,0%);stroke-opacity:1;stroke-miterlimit:10;\" d=\"M 525 280.726562 C 525 286.058594 517 286.058594 517 280.726562 C 517 275.394531 525 275.394531 525 280.726562 \"/>\n<path style=\"fill-rule:nonzero;fill:rgb(0%,0%,100%);fill-opacity:1;stroke-width:1;stroke-linecap:butt;stroke-linejoin:miter;stroke:rgb(0%,0%,0%);stroke-opacity:1;stroke-miterlimit:10;\" d=\"M 547.269531 162.464844 C 547.269531 167.796875 539.269531 167.796875 539.269531 162.464844 C 539.269531 157.128906 547.269531 157.128906 547.269531 162.464844 \"/>\n<path style=\"fill-rule:nonzero;fill:rgb(0%,0%,100%);fill-opacity:1;stroke-width:1;stroke-linecap:butt;stroke-linejoin:miter;stroke:rgb(0%,0%,0%);stroke-opacity:1;stroke-miterlimit:10;\" d=\"M 392.554688 97.546875 C 392.554688 102.882812 384.554688 102.882812 384.554688 97.546875 C 384.554688 92.214844 392.554688 92.214844 392.554688 97.546875 \"/>\n<path style=\"fill-rule:nonzero;fill:rgb(0%,0%,100%);fill-opacity:1;stroke-width:1;stroke-linecap:butt;stroke-linejoin:miter;stroke:rgb(0%,0%,0%);stroke-opacity:1;stroke-miterlimit:10;\" d=\"M 521.953125 402.0625 C 521.953125 407.398438 513.953125 407.398438 513.953125 402.0625 C 513.953125 396.730469 521.953125 396.730469 521.953125 402.0625 \"/>\n<path style=\"fill-rule:nonzero;fill:rgb(0%,0%,100%);fill-opacity:1;stroke-width:1;stroke-linecap:butt;stroke-linejoin:miter;stroke:rgb(0%,0%,0%);stroke-opacity:1;stroke-miterlimit:10;\" d=\"M 327.558594 381.222656 C 327.558594 386.558594 319.558594 386.558594 319.558594 381.222656 C 319.558594 375.890625 327.558594 375.890625 327.558594 381.222656 \"/>\n<path style=\"fill-rule:nonzero;fill:rgb(0%,0%,100%);fill-opacity:1;stroke-width:1;stroke-linecap:butt;stroke-linejoin:miter;stroke:rgb(0%,0%,0%);stroke-opacity:1;stroke-miterlimit:10;\" d=\"M 90.488281 221.460938 C 90.488281 226.792969 82.488281 226.792969 82.488281 221.460938 C 82.488281 216.125 90.488281 216.125 90.488281 221.460938 \"/>\n<path style=\"fill-rule:nonzero;fill:rgb(0%,0%,100%);fill-opacity:1;stroke-width:1;stroke-linecap:butt;stroke-linejoin:miter;stroke:rgb(0%,0%,0%);stroke-opacity:1;stroke-miterlimit:10;\" d=\"M 256.972656 384.382812 C 256.972656 389.714844 248.972656 389.714844 248.972656 384.382812 C 248.972656 379.046875 256.972656 379.046875 256.972656 384.382812 \"/>\n<path style=\"fill-rule:nonzero;fill:rgb(0%,0%,100%);fill-opacity:1;stroke-width:1;stroke-linecap:butt;stroke-linejoin:miter;stroke:rgb(0%,0%,0%);stroke-opacity:1;stroke-miterlimit:10;\" d=\"M 309.300781 26.101562 C 309.300781 31.433594 301.300781 31.433594 301.300781 26.101562 C 301.300781 20.769531 309.300781 20.769531 309.300781 26.101562 \"/>\n<path style=\"fill-rule:nonzero;fill:rgb(0%,0%,100%);fill-opacity:1;stroke-width:1;stroke-linecap:butt;stroke-linejoin:miter;stroke:rgb(0%,0%,0%);stroke-opacity:1;stroke-miterlimit:10;\" d=\"M 24 278.753906 C 24 284.085938 16 284.085938 16 278.753906 C 16 273.421875 24 273.421875 24 278.753906 \"/>\n<path style=\"fill-rule:nonzero;fill:rgb(0%,0%,100%);fill-opacity:1;stroke-width:1;stroke-linecap:butt;stroke-linejoin:miter;stroke:rgb(0%,0%,0%);stroke-opacity:1;stroke-miterlimit:10;\" d=\"M 313.003906 102.050781 C 313.003906 107.382812 305.003906 107.382812 305.003906 102.050781 C 305.003906 96.71875 313.003906 96.71875 313.003906 102.050781 \"/>\n<path style=\"fill-rule:nonzero;fill:rgb(0%,0%,100%);fill-opacity:1;stroke-width:1;stroke-linecap:butt;stroke-linejoin:miter;stroke:rgb(0%,0%,0%);stroke-opacity:1;stroke-miterlimit:10;\" d=\"M 146.058594 90.917969 C 146.058594 96.25 138.058594 96.25 138.058594 90.917969 C 138.058594 85.585938 146.058594 85.585938 146.058594 90.917969 \"/>\n<path style=\"fill-rule:nonzero;fill:rgb(0%,0%,100%);fill-opacity:1;stroke-width:1;stroke-linecap:butt;stroke-linejoin:miter;stroke:rgb(0%,0%,0%);stroke-opacity:1;stroke-miterlimit:10;\" d=\"M 244.546875 310.859375 C 244.546875 316.195312 236.546875 316.195312 236.546875 310.859375 C 236.546875 305.527344 244.546875 305.527344 244.546875 310.859375 \"/>\n<path style=\"fill-rule:nonzero;fill:rgb(0%,0%,100%);fill-opacity:1;stroke-width:1;stroke-linecap:butt;stroke-linejoin:miter;stroke:rgb(0%,0%,0%);stroke-opacity:1;stroke-miterlimit:10;\" d=\"M 106.660156 393.1875 C 106.660156 398.519531 98.660156 398.519531 98.660156 393.1875 C 98.660156 387.851562 106.660156 387.851562 106.660156 393.1875 \"/>\n<path style=\"fill-rule:nonzero;fill:rgb(0%,0%,100%);fill-opacity:1;stroke-width:1;stroke-linecap:butt;stroke-linejoin:miter;stroke:rgb(0%,0%,0%);stroke-opacity:1;stroke-miterlimit:10;\" d=\"M 152.488281 244.746094 C 152.488281 250.078125 144.488281 250.078125 144.488281 244.746094 C 144.488281 239.414062 152.488281 239.414062 152.488281 244.746094 \"/>\n<path style=\"fill-rule:nonzero;fill:rgb(0%,0%,100%);fill-opacity:1;stroke-width:1;stroke-linecap:butt;stroke-linejoin:miter;stroke:rgb(0%,0%,0%);stroke-opacity:1;stroke-miterlimit:10;\" d=\"M 487.390625 317.289062 C 487.390625 322.621094 479.390625 322.621094 479.390625 317.289062 C 479.390625 311.953125 487.390625 311.953125 487.390625 317.289062 \"/>\n<path style=\"fill-rule:nonzero;fill:rgb(0%,0%,100%);fill-opacity:1;stroke-width:1;stroke-linecap:butt;stroke-linejoin:miter;stroke:rgb(0%,0%,0%);stroke-opacity:1;stroke-miterlimit:10;\" d=\"M 56.515625 353.746094 C 56.515625 359.078125 48.515625 359.078125 48.515625 353.746094 C 48.515625 348.410156 56.515625 348.410156 56.515625 353.746094 \"/>\n<path style=\"fill-rule:nonzero;fill:rgb(0%,0%,100%);fill-opacity:1;stroke-width:1;stroke-linecap:butt;stroke-linejoin:miter;stroke:rgb(0%,0%,0%);stroke-opacity:1;stroke-miterlimit:10;\" d=\"M 312.957031 519.554688 C 312.957031 524.886719 304.957031 524.886719 304.957031 519.554688 C 304.957031 514.21875 312.957031 514.21875 312.957031 519.554688 \"/>\n<path style=\"fill-rule:nonzero;fill:rgb(0%,0%,100%);fill-opacity:1;stroke-width:1;stroke-linecap:butt;stroke-linejoin:miter;stroke:rgb(0%,0%,0%);stroke-opacity:1;stroke-miterlimit:10;\" d=\"M 121.871094 134.390625 C 121.871094 139.722656 113.871094 139.722656 113.871094 134.390625 C 113.871094 129.058594 121.871094 129.058594 121.871094 134.390625 \"/>\n<path style=\"fill-rule:nonzero;fill:rgb(0%,0%,100%);fill-opacity:1;stroke-width:1;stroke-linecap:butt;stroke-linejoin:miter;stroke:rgb(0%,0%,0%);stroke-opacity:1;stroke-miterlimit:10;\" d=\"M 503.738281 499.476562 C 503.738281 504.8125 495.738281 504.8125 495.738281 499.476562 C 495.738281 494.144531 503.738281 494.144531 503.738281 499.476562 \"/>\n<path style=\"fill-rule:nonzero;fill:rgb(0%,0%,100%);fill-opacity:1;stroke-width:1;stroke-linecap:butt;stroke-linejoin:miter;stroke:rgb(0%,0%,0%);stroke-opacity:1;stroke-miterlimit:10;\" d=\"M 370.988281 245.242188 C 370.988281 250.578125 362.988281 250.578125 362.988281 245.242188 C 362.988281 239.910156 370.988281 239.910156 370.988281 245.242188 \"/>\n<path style=\"fill-rule:nonzero;fill:rgb(0%,0%,100%);fill-opacity:1;stroke-width:1;stroke-linecap:butt;stroke-linejoin:miter;stroke:rgb(0%,0%,0%);stroke-opacity:1;stroke-miterlimit:10;\" d=\"M 446.664062 253.816406 C 446.664062 259.148438 438.664062 259.148438 438.664062 253.816406 C 438.664062 248.480469 446.664062 248.480469 446.664062 253.816406 \"/>\n<path style=\"fill-rule:nonzero;fill:rgb(0%,0%,100%);fill-opacity:1;stroke-width:1;stroke-linecap:butt;stroke-linejoin:miter;stroke:rgb(0%,0%,0%);stroke-opacity:1;stroke-miterlimit:10;\" d=\"M 244.25 36.082031 C 244.25 41.417969 236.25 41.417969 236.25 36.082031 C 236.25 30.75 244.25 30.75 244.25 36.082031 \"/>\n<path style=\"fill-rule:nonzero;fill:rgb(0%,0%,100%);fill-opacity:1;stroke-width:1;stroke-linecap:butt;stroke-linejoin:miter;stroke:rgb(0%,0%,0%);stroke-opacity:1;stroke-miterlimit:10;\" d=\"M 469.894531 526.457031 C 469.894531 531.792969 461.894531 531.792969 461.894531 526.457031 C 461.894531 521.125 469.894531 521.125 469.894531 526.457031 \"/>\n<path style=\"fill-rule:nonzero;fill:rgb(0%,0%,100%);fill-opacity:1;stroke-width:1;stroke-linecap:butt;stroke-linejoin:miter;stroke:rgb(0%,0%,0%);stroke-opacity:1;stroke-miterlimit:10;\" d=\"M 119.089844 115.386719 C 119.089844 120.71875 111.089844 120.71875 111.089844 115.386719 C 111.089844 110.050781 119.089844 110.050781 119.089844 115.386719 \"/>\n<path style=\"fill-rule:nonzero;fill:rgb(0%,0%,100%);fill-opacity:1;stroke-width:1;stroke-linecap:butt;stroke-linejoin:miter;stroke:rgb(0%,0%,0%);stroke-opacity:1;stroke-miterlimit:10;\" d=\"M 292.480469 21.589844 C 292.480469 26.925781 284.480469 26.925781 284.480469 21.589844 C 284.480469 16.257812 292.480469 16.257812 292.480469 21.589844 \"/>\n<path style=\"fill-rule:nonzero;fill:rgb(0%,0%,100%);fill-opacity:1;stroke-width:1;stroke-linecap:butt;stroke-linejoin:miter;stroke:rgb(0%,0%,0%);stroke-opacity:1;stroke-miterlimit:10;\" d=\"M 569.757812 386.410156 C 569.757812 391.746094 561.757812 391.746094 561.757812 386.410156 C 561.757812 381.078125 569.757812 381.078125 569.757812 386.410156 \"/>\n<path style=\"fill-rule:nonzero;fill:rgb(0%,0%,100%);fill-opacity:1;stroke-width:1;stroke-linecap:butt;stroke-linejoin:miter;stroke:rgb(0%,0%,0%);stroke-opacity:1;stroke-miterlimit:10;\" d=\"M 511.085938 111.398438 C 511.085938 116.730469 503.085938 116.730469 503.085938 111.398438 C 503.085938 106.066406 511.085938 106.066406 511.085938 111.398438 \"/>\n<path style=\"fill-rule:nonzero;fill:rgb(0%,0%,100%);fill-opacity:1;stroke-width:1;stroke-linecap:butt;stroke-linejoin:miter;stroke:rgb(0%,0%,0%);stroke-opacity:1;stroke-miterlimit:10;\" d=\"M 443.214844 541.179688 C 443.214844 546.515625 435.214844 546.515625 435.214844 541.179688 C 435.214844 535.847656 443.214844 535.847656 443.214844 541.179688 \"/>\n<path style=\"fill-rule:nonzero;fill:rgb(0%,0%,100%);fill-opacity:1;stroke-width:1;stroke-linecap:butt;stroke-linejoin:miter;stroke:rgb(0%,0%,0%);stroke-opacity:1;stroke-miterlimit:10;\" d=\"M 517.871094 432.472656 C 517.871094 437.808594 509.871094 437.808594 509.871094 432.472656 C 509.871094 427.140625 517.871094 427.140625 517.871094 432.472656 \"/>\n<path style=\"fill-rule:nonzero;fill:rgb(0%,100%,0%);fill-opacity:1;stroke-width:1;stroke-linecap:butt;stroke-linejoin:miter;stroke:rgb(0%,0%,0%);stroke-opacity:1;stroke-miterlimit:10;\" d=\"M 172.804688 118.363281 C 172.804688 123.695312 164.804688 123.695312 164.804688 118.363281 C 164.804688 113.027344 172.804688 113.027344 172.804688 118.363281 \"/>\n<path style=\"fill-rule:nonzero;fill:rgb(0%,0%,100%);fill-opacity:1;stroke-width:1;stroke-linecap:butt;stroke-linejoin:miter;stroke:rgb(0%,0%,0%);stroke-opacity:1;stroke-miterlimit:10;\" d=\"M 39.84375 220.65625 C 39.84375 225.988281 31.84375 225.988281 31.84375 220.65625 C 31.84375 215.324219 39.84375 215.324219 39.84375 220.65625 \"/>\n<path style=\"fill-rule:nonzero;fill:rgb(0%,0%,100%);fill-opacity:1;stroke-width:1;stroke-linecap:butt;stroke-linejoin:miter;stroke:rgb(0%,0%,0%);stroke-opacity:1;stroke-miterlimit:10;\" d=\"M 75.25 212.597656 C 75.25 217.929688 67.25 217.929688 67.25 212.597656 C 67.25 207.265625 75.25 207.265625 75.25 212.597656 \"/>\n<path style=\"fill-rule:nonzero;fill:rgb(0%,0%,100%);fill-opacity:1;stroke-width:1;stroke-linecap:butt;stroke-linejoin:miter;stroke:rgb(0%,0%,0%);stroke-opacity:1;stroke-miterlimit:10;\" d=\"M 376.152344 138.671875 C 376.152344 144.003906 368.152344 144.003906 368.152344 138.671875 C 368.152344 133.339844 376.152344 133.339844 376.152344 138.671875 \"/>\n<path style=\"fill-rule:nonzero;fill:rgb(0%,0%,100%);fill-opacity:1;stroke-width:1;stroke-linecap:butt;stroke-linejoin:miter;stroke:rgb(0%,0%,0%);stroke-opacity:1;stroke-miterlimit:10;\" d=\"M 260.953125 447.699219 C 260.953125 453.03125 252.953125 453.03125 252.953125 447.699219 C 252.953125 442.367188 260.953125 442.367188 260.953125 447.699219 \"/>\n<path style=\"fill-rule:nonzero;fill:rgb(0%,0%,100%);fill-opacity:1;stroke-width:1;stroke-linecap:butt;stroke-linejoin:miter;stroke:rgb(0%,0%,0%);stroke-opacity:1;stroke-miterlimit:10;\" d=\"M 487.535156 87.058594 C 487.535156 92.390625 479.535156 92.390625 479.535156 87.058594 C 479.535156 81.726562 487.535156 81.726562 487.535156 87.058594 \"/>\n<path style=\"fill-rule:nonzero;fill:rgb(0%,0%,100%);fill-opacity:1;stroke-width:1;stroke-linecap:butt;stroke-linejoin:miter;stroke:rgb(0%,0%,0%);stroke-opacity:1;stroke-miterlimit:10;\" d=\"M 163.167969 207.699219 C 163.167969 213.035156 155.167969 213.035156 155.167969 207.699219 C 155.167969 202.367188 163.167969 202.367188 163.167969 207.699219 \"/>\n<path style=\"fill-rule:nonzero;fill:rgb(0%,0%,100%);fill-opacity:1;stroke-width:1;stroke-linecap:butt;stroke-linejoin:miter;stroke:rgb(0%,0%,0%);stroke-opacity:1;stroke-miterlimit:10;\" d=\"M 214.707031 141.546875 C 214.707031 146.882812 206.707031 146.882812 206.707031 141.546875 C 206.707031 136.214844 214.707031 136.214844 214.707031 141.546875 \"/>\n<path style=\"fill-rule:nonzero;fill:rgb(0%,0%,100%);fill-opacity:1;stroke-width:1;stroke-linecap:butt;stroke-linejoin:miter;stroke:rgb(0%,0%,0%);stroke-opacity:1;stroke-miterlimit:10;\" d=\"M 546.007812 245.660156 C 546.007812 250.996094 538.007812 250.996094 538.007812 245.660156 C 538.007812 240.328125 546.007812 240.328125 546.007812 245.660156 \"/>\n<path style=\"fill-rule:nonzero;fill:rgb(0%,0%,100%);fill-opacity:1;stroke-width:1;stroke-linecap:butt;stroke-linejoin:miter;stroke:rgb(0%,0%,0%);stroke-opacity:1;stroke-miterlimit:10;\" d=\"M 98.039062 339.363281 C 98.039062 344.699219 90.039062 344.699219 90.039062 339.363281 C 90.039062 334.03125 98.039062 334.03125 98.039062 339.363281 \"/>\n<path style=\"fill-rule:nonzero;fill:rgb(0%,0%,100%);fill-opacity:1;stroke-width:1;stroke-linecap:butt;stroke-linejoin:miter;stroke:rgb(0%,0%,0%);stroke-opacity:1;stroke-miterlimit:10;\" d=\"M 32.363281 236.980469 C 32.363281 242.3125 24.363281 242.3125 24.363281 236.980469 C 24.363281 231.644531 32.363281 231.644531 32.363281 236.980469 \"/>\n<path style=\"fill-rule:nonzero;fill:rgb(0%,0%,100%);fill-opacity:1;stroke-width:1;stroke-linecap:butt;stroke-linejoin:miter;stroke:rgb(0%,0%,0%);stroke-opacity:1;stroke-miterlimit:10;\" d=\"M 407.234375 152.066406 C 407.234375 157.398438 399.234375 157.398438 399.234375 152.066406 C 399.234375 146.730469 407.234375 146.730469 407.234375 152.066406 \"/>\n<path style=\"fill-rule:nonzero;fill:rgb(0%,0%,100%);fill-opacity:1;stroke-width:1;stroke-linecap:butt;stroke-linejoin:miter;stroke:rgb(0%,0%,0%);stroke-opacity:1;stroke-miterlimit:10;\" d=\"M 524.796875 183.023438 C 524.796875 188.355469 516.796875 188.355469 516.796875 183.023438 C 516.796875 177.6875 524.796875 177.6875 524.796875 183.023438 \"/>\n<path style=\"fill-rule:nonzero;fill:rgb(0%,0%,100%);fill-opacity:1;stroke-width:1;stroke-linecap:butt;stroke-linejoin:miter;stroke:rgb(0%,0%,0%);stroke-opacity:1;stroke-miterlimit:10;\" d=\"M 258.21875 546.734375 C 258.21875 552.066406 250.21875 552.066406 250.21875 546.734375 C 250.21875 541.398438 258.21875 541.398438 258.21875 546.734375 \"/>\n<path style=\"fill-rule:nonzero;fill:rgb(0%,0%,100%);fill-opacity:1;stroke-width:1;stroke-linecap:butt;stroke-linejoin:miter;stroke:rgb(0%,0%,0%);stroke-opacity:1;stroke-miterlimit:10;\" d=\"M 358.328125 545.925781 C 358.328125 551.257812 350.328125 551.257812 350.328125 545.925781 C 350.328125 540.589844 358.328125 540.589844 358.328125 545.925781 \"/>\n<path style=\"fill-rule:nonzero;fill:rgb(0%,0%,100%);fill-opacity:1;stroke-width:1;stroke-linecap:butt;stroke-linejoin:miter;stroke:rgb(0%,0%,0%);stroke-opacity:1;stroke-miterlimit:10;\" d=\"M 311.957031 280.46875 C 311.957031 285.800781 303.957031 285.800781 303.957031 280.46875 C 303.957031 275.132812 311.957031 275.132812 311.957031 280.46875 \"/>\n<path style=\"fill-rule:nonzero;fill:rgb(0%,0%,100%);fill-opacity:1;stroke-width:1;stroke-linecap:butt;stroke-linejoin:miter;stroke:rgb(0%,0%,0%);stroke-opacity:1;stroke-miterlimit:10;\" d=\"M 343.835938 83.503906 C 343.835938 88.835938 335.835938 88.835938 335.835938 83.503906 C 335.835938 78.171875 343.835938 78.171875 343.835938 83.503906 \"/>\n<path style=\"fill-rule:nonzero;fill:rgb(0%,0%,100%);fill-opacity:1;stroke-width:1;stroke-linecap:butt;stroke-linejoin:miter;stroke:rgb(0%,0%,0%);stroke-opacity:1;stroke-miterlimit:10;\" d=\"M 456.453125 189.496094 C 456.453125 194.832031 448.453125 194.832031 448.453125 189.496094 C 448.453125 184.164062 456.453125 184.164062 456.453125 189.496094 \"/>\n<path style=\"fill-rule:nonzero;fill:rgb(0%,0%,100%);fill-opacity:1;stroke-width:1;stroke-linecap:butt;stroke-linejoin:miter;stroke:rgb(0%,0%,0%);stroke-opacity:1;stroke-miterlimit:10;\" d=\"M 101.765625 170.683594 C 101.765625 176.015625 93.765625 176.015625 93.765625 170.683594 C 93.765625 165.347656 101.765625 165.347656 101.765625 170.683594 \"/>\n<path style=\"fill-rule:nonzero;fill:rgb(0%,0%,100%);fill-opacity:1;stroke-width:1;stroke-linecap:butt;stroke-linejoin:miter;stroke:rgb(0%,0%,0%);stroke-opacity:1;stroke-miterlimit:10;\" d=\"M 413.582031 316.492188 C 413.582031 321.824219 405.582031 321.824219 405.582031 316.492188 C 405.582031 311.15625 413.582031 311.15625 413.582031 316.492188 \"/>\n<path style=\"fill-rule:nonzero;fill:rgb(0%,0%,100%);fill-opacity:1;stroke-width:1;stroke-linecap:butt;stroke-linejoin:miter;stroke:rgb(0%,0%,0%);stroke-opacity:1;stroke-miterlimit:10;\" d=\"M 76.589844 462.761719 C 76.589844 468.09375 68.589844 468.09375 68.589844 462.761719 C 68.589844 457.429688 76.589844 457.429688 76.589844 462.761719 \"/>\n<path style=\"fill-rule:nonzero;fill:rgb(0%,0%,100%);fill-opacity:1;stroke-width:1;stroke-linecap:butt;stroke-linejoin:miter;stroke:rgb(0%,0%,0%);stroke-opacity:1;stroke-miterlimit:10;\" d=\"M 545.960938 441.636719 C 545.960938 446.96875 537.960938 446.96875 537.960938 441.636719 C 537.960938 436.304688 545.960938 436.304688 545.960938 441.636719 \"/>\n<path style=\"fill-rule:nonzero;fill:rgb(0%,0%,100%);fill-opacity:1;stroke-width:1;stroke-linecap:butt;stroke-linejoin:miter;stroke:rgb(0%,0%,0%);stroke-opacity:1;stroke-miterlimit:10;\" d=\"M 60.589844 435.125 C 60.589844 440.457031 52.589844 440.457031 52.589844 435.125 C 52.589844 429.792969 60.589844 429.792969 60.589844 435.125 \"/>\n<path style=\"fill-rule:nonzero;fill:rgb(0%,0%,100%);fill-opacity:1;stroke-width:1;stroke-linecap:butt;stroke-linejoin:miter;stroke:rgb(0%,0%,0%);stroke-opacity:1;stroke-miterlimit:10;\" d=\"M 54.472656 297.777344 C 54.472656 303.113281 46.472656 303.113281 46.472656 297.777344 C 46.472656 292.445312 54.472656 292.445312 54.472656 297.777344 \"/>\n<path style=\"fill-rule:nonzero;fill:rgb(0%,0%,100%);fill-opacity:1;stroke-width:1;stroke-linecap:butt;stroke-linejoin:miter;stroke:rgb(0%,0%,0%);stroke-opacity:1;stroke-miterlimit:10;\" d=\"M 421.351562 354.367188 C 421.351562 359.699219 413.351562 359.699219 413.351562 354.367188 C 413.351562 349.03125 421.351562 349.03125 421.351562 354.367188 \"/>\n<path style=\"fill-rule:nonzero;fill:rgb(0%,0%,100%);fill-opacity:1;stroke-width:1;stroke-linecap:butt;stroke-linejoin:miter;stroke:rgb(0%,0%,0%);stroke-opacity:1;stroke-miterlimit:10;\" d=\"M 553.449219 308.464844 C 553.449219 313.796875 545.449219 313.796875 545.449219 308.464844 C 545.449219 303.128906 553.449219 303.128906 553.449219 308.464844 \"/>\n<path style=\"fill-rule:nonzero;fill:rgb(0%,0%,100%);fill-opacity:1;stroke-width:1;stroke-linecap:butt;stroke-linejoin:miter;stroke:rgb(0%,0%,0%);stroke-opacity:1;stroke-miterlimit:10;\" d=\"M 178.84375 499.988281 C 178.84375 505.324219 170.84375 505.324219 170.84375 499.988281 C 170.84375 494.65625 178.84375 494.65625 178.84375 499.988281 \"/>\n<path style=\"fill-rule:nonzero;fill:rgb(0%,0%,100%);fill-opacity:1;stroke-width:1;stroke-linecap:butt;stroke-linejoin:miter;stroke:rgb(0%,0%,0%);stroke-opacity:1;stroke-miterlimit:10;\" d=\"M 121.875 515.652344 C 121.875 520.984375 113.875 520.984375 113.875 515.652344 C 113.875 510.316406 121.875 510.316406 121.875 515.652344 \"/>\n<path style=\"fill-rule:nonzero;fill:rgb(0%,0%,100%);fill-opacity:1;stroke-width:1;stroke-linecap:butt;stroke-linejoin:miter;stroke:rgb(0%,0%,0%);stroke-opacity:1;stroke-miterlimit:10;\" d=\"M 311.101562 182.03125 C 311.101562 187.363281 303.101562 187.363281 303.101562 182.03125 C 303.101562 176.699219 311.101562 176.699219 311.101562 182.03125 \"/>\n<path style=\"fill-rule:nonzero;fill:rgb(0%,0%,100%);fill-opacity:1;stroke-width:1;stroke-linecap:butt;stroke-linejoin:miter;stroke:rgb(0%,0%,0%);stroke-opacity:1;stroke-miterlimit:10;\" d=\"M 127.296875 96.519531 C 127.296875 101.851562 119.296875 101.851562 119.296875 96.519531 C 119.296875 91.1875 127.296875 91.1875 127.296875 96.519531 \"/>\n<path style=\"fill-rule:nonzero;fill:rgb(0%,0%,100%);fill-opacity:1;stroke-width:1;stroke-linecap:butt;stroke-linejoin:miter;stroke:rgb(0%,0%,0%);stroke-opacity:1;stroke-miterlimit:10;\" d=\"M 485.238281 349.375 C 485.238281 354.707031 477.238281 354.707031 477.238281 349.375 C 477.238281 344.042969 485.238281 344.042969 485.238281 349.375 \"/>\n<path style=\"fill-rule:nonzero;fill:rgb(0%,0%,100%);fill-opacity:1;stroke-width:1;stroke-linecap:butt;stroke-linejoin:miter;stroke:rgb(0%,0%,0%);stroke-opacity:1;stroke-miterlimit:10;\" d=\"M 410.734375 387.417969 C 410.734375 392.75 402.734375 392.75 402.734375 387.417969 C 402.734375 382.082031 410.734375 382.082031 410.734375 387.417969 \"/>\n<path style=\"fill-rule:nonzero;fill:rgb(0%,0%,100%);fill-opacity:1;stroke-width:1;stroke-linecap:butt;stroke-linejoin:miter;stroke:rgb(0%,0%,0%);stroke-opacity:1;stroke-miterlimit:10;\" d=\"M 214.988281 47.960938 C 214.988281 53.292969 206.988281 53.292969 206.988281 47.960938 C 206.988281 42.628906 214.988281 42.628906 214.988281 47.960938 \"/>\n<path style=\"fill-rule:nonzero;fill:rgb(0%,0%,100%);fill-opacity:1;stroke-width:1;stroke-linecap:butt;stroke-linejoin:miter;stroke:rgb(0%,0%,0%);stroke-opacity:1;stroke-miterlimit:10;\" d=\"M 420.464844 427.816406 C 420.464844 433.152344 412.464844 433.152344 412.464844 427.816406 C 412.464844 422.484375 420.464844 422.484375 420.464844 427.816406 \"/>\n<path style=\"fill-rule:nonzero;fill:rgb(0%,0%,100%);fill-opacity:1;stroke-width:1;stroke-linecap:butt;stroke-linejoin:miter;stroke:rgb(0%,0%,0%);stroke-opacity:1;stroke-miterlimit:10;\" d=\"M 209.042969 286.921875 C 209.042969 292.257812 201.042969 292.257812 201.042969 286.921875 C 201.042969 281.589844 209.042969 281.589844 209.042969 286.921875 \"/>\n<path style=\"fill-rule:nonzero;fill:rgb(0%,100%,0%);fill-opacity:1;stroke-width:1;stroke-linecap:butt;stroke-linejoin:miter;stroke:rgb(0%,0%,0%);stroke-opacity:1;stroke-miterlimit:10;\" d=\"M 330.863281 453.367188 C 330.863281 458.703125 322.863281 458.703125 322.863281 453.367188 C 322.863281 448.035156 330.863281 448.035156 330.863281 453.367188 \"/>\n<path style=\"fill-rule:nonzero;fill:rgb(0%,0%,100%);fill-opacity:1;stroke-width:1;stroke-linecap:butt;stroke-linejoin:miter;stroke:rgb(0%,0%,0%);stroke-opacity:1;stroke-miterlimit:10;\" d=\"M 363.550781 107.496094 C 363.550781 112.828125 355.550781 112.828125 355.550781 107.496094 C 355.550781 102.164062 363.550781 102.164062 363.550781 107.496094 \"/>\n<path style=\"fill-rule:nonzero;fill:rgb(0%,100%,0%);fill-opacity:1;stroke-width:1;stroke-linecap:butt;stroke-linejoin:miter;stroke:rgb(0%,0%,0%);stroke-opacity:1;stroke-miterlimit:10;\" d=\"M 343.339844 350.121094 C 343.339844 355.453125 335.339844 355.453125 335.339844 350.121094 C 335.339844 344.789062 343.339844 344.789062 343.339844 350.121094 \"/>\n<path style=\"fill-rule:nonzero;fill:rgb(0%,0%,100%);fill-opacity:1;stroke-width:1;stroke-linecap:butt;stroke-linejoin:miter;stroke:rgb(0%,0%,0%);stroke-opacity:1;stroke-miterlimit:10;\" d=\"M 287.140625 253.074219 C 287.140625 258.40625 279.140625 258.40625 279.140625 253.074219 C 279.140625 247.742188 287.140625 247.742188 287.140625 253.074219 \"/>\n<path style=\"fill-rule:nonzero;fill:rgb(0%,0%,100%);fill-opacity:1;stroke-width:1;stroke-linecap:butt;stroke-linejoin:miter;stroke:rgb(0%,0%,0%);stroke-opacity:1;stroke-miterlimit:10;\" d=\"M 456.84375 367.261719 C 456.84375 372.59375 448.84375 372.59375 448.84375 367.261719 C 448.84375 361.929688 456.84375 361.929688 456.84375 367.261719 \"/>\n<path style=\"fill-rule:nonzero;fill:rgb(0%,100%,0%);fill-opacity:1;stroke-width:1;stroke-linecap:butt;stroke-linejoin:miter;stroke:rgb(0%,0%,0%);stroke-opacity:1;stroke-miterlimit:10;\" d=\"M 311.570312 68.410156 C 311.570312 73.742188 303.570312 73.742188 303.570312 68.410156 C 303.570312 63.074219 311.570312 63.074219 311.570312 68.410156 \"/>\n<path style=\"fill-rule:nonzero;fill:rgb(0%,0%,100%);fill-opacity:1;stroke-width:1;stroke-linecap:butt;stroke-linejoin:miter;stroke:rgb(0%,0%,0%);stroke-opacity:1;stroke-miterlimit:10;\" d=\"M 259.730469 228.296875 C 259.730469 233.628906 251.730469 233.628906 251.730469 228.296875 C 251.730469 222.964844 259.730469 222.964844 259.730469 228.296875 \"/>\n<path style=\"fill-rule:nonzero;fill:rgb(0%,0%,100%);fill-opacity:1;stroke-width:1;stroke-linecap:butt;stroke-linejoin:miter;stroke:rgb(0%,0%,0%);stroke-opacity:1;stroke-miterlimit:10;\" d=\"M 84.058594 126.378906 C 84.058594 131.710938 76.058594 131.710938 76.058594 126.378906 C 76.058594 121.042969 84.058594 121.042969 84.058594 126.378906 \"/>\n<path style=\"fill-rule:nonzero;fill:rgb(0%,0%,100%);fill-opacity:1;stroke-width:1;stroke-linecap:butt;stroke-linejoin:miter;stroke:rgb(0%,0%,0%);stroke-opacity:1;stroke-miterlimit:10;\" d=\"M 281.730469 579.226562 C 281.730469 584.5625 273.730469 584.5625 273.730469 579.226562 C 273.730469 573.894531 281.730469 573.894531 281.730469 579.226562 \"/>\n<path style=\"fill-rule:nonzero;fill:rgb(0%,0%,100%);fill-opacity:1;stroke-width:1;stroke-linecap:butt;stroke-linejoin:miter;stroke:rgb(0%,0%,0%);stroke-opacity:1;stroke-miterlimit:10;\" d=\"M 473.9375 498.027344 C 473.9375 503.359375 465.9375 503.359375 465.9375 498.027344 C 465.9375 492.691406 473.9375 492.691406 473.9375 498.027344 \"/>\n<path style=\"fill-rule:nonzero;fill:rgb(0%,0%,100%);fill-opacity:1;stroke-width:1;stroke-linecap:butt;stroke-linejoin:miter;stroke:rgb(0%,0%,0%);stroke-opacity:1;stroke-miterlimit:10;\" d=\"M 219.707031 566.347656 C 219.707031 571.679688 211.707031 571.679688 211.707031 566.347656 C 211.707031 561.015625 219.707031 561.015625 219.707031 566.347656 \"/>\n<path style=\"fill-rule:nonzero;fill:rgb(0%,100%,0%);fill-opacity:1;stroke-width:1;stroke-linecap:butt;stroke-linejoin:miter;stroke:rgb(0%,0%,0%);stroke-opacity:1;stroke-miterlimit:10;\" d=\"M 347.65625 515.09375 C 347.65625 520.425781 339.65625 520.425781 339.65625 515.09375 C 339.65625 509.761719 347.65625 509.761719 347.65625 515.09375 \"/>\n<path style=\"fill-rule:nonzero;fill:rgb(0%,0%,100%);fill-opacity:1;stroke-width:1;stroke-linecap:butt;stroke-linejoin:miter;stroke:rgb(0%,0%,0%);stroke-opacity:1;stroke-miterlimit:10;\" d=\"M 430.808594 463.867188 C 430.808594 469.199219 422.808594 469.199219 422.808594 463.867188 C 422.808594 458.535156 430.808594 458.535156 430.808594 463.867188 \"/>\n<path style=\"fill-rule:nonzero;fill:rgb(0%,0%,100%);fill-opacity:1;stroke-width:1;stroke-linecap:butt;stroke-linejoin:miter;stroke:rgb(0%,0%,0%);stroke-opacity:1;stroke-miterlimit:10;\" d=\"M 337.632812 49.558594 C 337.632812 54.894531 329.632812 54.894531 329.632812 49.558594 C 329.632812 44.226562 337.632812 44.226562 337.632812 49.558594 \"/>\n<path style=\"fill-rule:nonzero;fill:rgb(0%,0%,100%);fill-opacity:1;stroke-width:1;stroke-linecap:butt;stroke-linejoin:miter;stroke:rgb(0%,0%,0%);stroke-opacity:1;stroke-miterlimit:10;\" d=\"M 225.609375 457.285156 C 225.609375 462.617188 217.609375 462.617188 217.609375 457.285156 C 217.609375 451.949219 225.609375 451.949219 225.609375 457.285156 \"/>\n<path style=\"fill-rule:nonzero;fill:rgb(0%,0%,100%);fill-opacity:1;stroke-width:1;stroke-linecap:butt;stroke-linejoin:miter;stroke:rgb(0%,0%,0%);stroke-opacity:1;stroke-miterlimit:10;\" d=\"M 78.574219 143.160156 C 78.574219 148.496094 70.574219 148.496094 70.574219 143.160156 C 70.574219 137.828125 78.574219 137.828125 78.574219 143.160156 \"/>\n<path style=\"fill-rule:nonzero;fill:rgb(0%,0%,100%);fill-opacity:1;stroke-width:1;stroke-linecap:butt;stroke-linejoin:miter;stroke:rgb(0%,0%,0%);stroke-opacity:1;stroke-miterlimit:10;\" d=\"M 214.621094 494.359375 C 214.621094 499.691406 206.621094 499.691406 206.621094 494.359375 C 206.621094 489.023438 214.621094 489.023438 214.621094 494.359375 \"/>\n<path style=\"fill-rule:nonzero;fill:rgb(0%,0%,100%);fill-opacity:1;stroke-width:1;stroke-linecap:butt;stroke-linejoin:miter;stroke:rgb(0%,0%,0%);stroke-opacity:1;stroke-miterlimit:10;\" d=\"M 166.59375 432.113281 C 166.59375 437.445312 158.59375 437.445312 158.59375 432.113281 C 158.59375 426.777344 166.59375 426.777344 166.59375 432.113281 \"/>\n<path style=\"fill-rule:nonzero;fill:rgb(0%,0%,100%);fill-opacity:1;stroke-width:1;stroke-linecap:butt;stroke-linejoin:miter;stroke:rgb(0%,0%,0%);stroke-opacity:1;stroke-miterlimit:10;\" d=\"M 302.765625 216.789062 C 302.765625 222.125 294.765625 222.125 294.765625 216.789062 C 294.765625 211.457031 302.765625 211.457031 302.765625 216.789062 \"/>\n<path style=\"fill-rule:nonzero;fill:rgb(0%,0%,100%);fill-opacity:1;stroke-width:1;stroke-linecap:butt;stroke-linejoin:miter;stroke:rgb(0%,0%,0%);stroke-opacity:1;stroke-miterlimit:10;\" d=\"M 243.640625 351.234375 C 243.640625 356.570312 235.640625 356.570312 235.640625 351.234375 C 235.640625 345.902344 243.640625 345.902344 243.640625 351.234375 \"/>\n<path style=\"fill-rule:nonzero;fill:rgb(0%,100%,0%);fill-opacity:1;stroke-width:1;stroke-linecap:butt;stroke-linejoin:miter;stroke:rgb(0%,0%,0%);stroke-opacity:1;stroke-miterlimit:10;\" d=\"M 402.285156 36.125 C 402.285156 41.460938 394.285156 41.460938 394.285156 36.125 C 394.285156 30.792969 402.285156 30.792969 402.285156 36.125 \"/>\n<path style=\"fill-rule:nonzero;fill:rgb(0%,0%,100%);fill-opacity:1;stroke-width:1;stroke-linecap:butt;stroke-linejoin:miter;stroke:rgb(0%,0%,0%);stroke-opacity:1;stroke-miterlimit:10;\" d=\"M 506.457031 152.933594 C 506.457031 158.265625 498.457031 158.265625 498.457031 152.933594 C 498.457031 147.597656 506.457031 147.597656 506.457031 152.933594 \"/>\n<path style=\"fill-rule:nonzero;fill:rgb(0%,0%,100%);fill-opacity:1;stroke-width:1;stroke-linecap:butt;stroke-linejoin:miter;stroke:rgb(0%,0%,0%);stroke-opacity:1;stroke-miterlimit:10;\" d=\"M 224.632812 535.984375 C 224.632812 541.320312 216.632812 541.320312 216.632812 535.984375 C 216.632812 530.652344 224.632812 530.652344 224.632812 535.984375 \"/>\n<path style=\"fill-rule:nonzero;fill:rgb(0%,0%,100%);fill-opacity:1;stroke-width:1;stroke-linecap:butt;stroke-linejoin:miter;stroke:rgb(0%,0%,0%);stroke-opacity:1;stroke-miterlimit:10;\" d=\"M 416.046875 119.210938 C 416.046875 124.546875 408.046875 124.546875 408.046875 119.210938 C 408.046875 113.878906 416.046875 113.878906 416.046875 119.210938 \"/>\n<path style=\"fill-rule:nonzero;fill:rgb(0%,100%,0%);fill-opacity:1;stroke-width:1;stroke-linecap:butt;stroke-linejoin:miter;stroke:rgb(0%,0%,0%);stroke-opacity:1;stroke-miterlimit:10;\" d=\"M 480.238281 406.585938 C 480.238281 411.921875 472.238281 411.921875 472.238281 406.585938 C 472.238281 401.253906 480.238281 401.253906 480.238281 406.585938 \"/>\n<path style=\"fill-rule:nonzero;fill:rgb(0%,0%,100%);fill-opacity:1;stroke-width:1;stroke-linecap:butt;stroke-linejoin:miter;stroke:rgb(0%,0%,0%);stroke-opacity:1;stroke-miterlimit:10;\" d=\"M 106.675781 457.328125 C 106.675781 462.664062 98.675781 462.664062 98.675781 457.328125 C 98.675781 451.996094 106.675781 451.996094 106.675781 457.328125 \"/>\n<path style=\"fill-rule:nonzero;fill:rgb(0%,0%,100%);fill-opacity:1;stroke-width:1;stroke-linecap:butt;stroke-linejoin:miter;stroke:rgb(0%,0%,0%);stroke-opacity:1;stroke-miterlimit:10;\" d=\"M 139.460938 451.765625 C 139.460938 457.101562 131.460938 457.101562 131.460938 451.765625 C 131.460938 446.433594 139.460938 446.433594 139.460938 451.765625 \"/>\n<path style=\"fill-rule:nonzero;fill:rgb(0%,0%,100%);fill-opacity:1;stroke-width:1;stroke-linecap:butt;stroke-linejoin:miter;stroke:rgb(0%,0%,0%);stroke-opacity:1;stroke-miterlimit:10;\" d=\"M 513.398438 246.949219 C 513.398438 252.285156 505.398438 252.285156 505.398438 246.949219 C 505.398438 241.617188 513.398438 241.617188 513.398438 246.949219 \"/>\n<path style=\"fill-rule:nonzero;fill:rgb(0%,0%,100%);fill-opacity:1;stroke-width:1;stroke-linecap:butt;stroke-linejoin:miter;stroke:rgb(0%,0%,0%);stroke-opacity:1;stroke-miterlimit:10;\" d=\"M 344.113281 164.21875 C 344.113281 169.550781 336.113281 169.550781 336.113281 164.21875 C 336.113281 158.886719 344.113281 158.886719 344.113281 164.21875 \"/>\n<path style=\"fill-rule:nonzero;fill:rgb(0%,0%,100%);fill-opacity:1;stroke-width:1;stroke-linecap:butt;stroke-linejoin:miter;stroke:rgb(0%,0%,0%);stroke-opacity:1;stroke-miterlimit:10;\" d=\"M 217.070312 384.558594 C 217.070312 389.890625 209.070312 389.890625 209.070312 384.558594 C 209.070312 379.222656 217.070312 379.222656 217.070312 384.558594 \"/>\n<path style=\"fill-rule:nonzero;fill:rgb(0%,0%,100%);fill-opacity:1;stroke-width:1;stroke-linecap:butt;stroke-linejoin:miter;stroke:rgb(0%,0%,0%);stroke-opacity:1;stroke-miterlimit:10;\" d=\"M 408.019531 489.386719 C 408.019531 494.71875 400.019531 494.71875 400.019531 489.386719 C 400.019531 484.050781 408.019531 484.050781 408.019531 489.386719 \"/>\n<path style=\"fill-rule:nonzero;fill:rgb(0%,0%,100%);fill-opacity:1;stroke-width:1;stroke-linecap:butt;stroke-linejoin:miter;stroke:rgb(0%,0%,0%);stroke-opacity:1;stroke-miterlimit:10;\" d=\"M 350.890625 409.492188 C 350.890625 414.824219 342.890625 414.824219 342.890625 409.492188 C 342.890625 404.15625 350.890625 404.15625 350.890625 409.492188 \"/>\n<path style=\"fill-rule:nonzero;fill:rgb(0%,0%,100%);fill-opacity:1;stroke-width:1;stroke-linecap:butt;stroke-linejoin:miter;stroke:rgb(0%,0%,0%);stroke-opacity:1;stroke-miterlimit:10;\" d=\"M 283.652344 118.058594 C 283.652344 123.390625 275.652344 123.390625 275.652344 118.058594 C 275.652344 112.726562 283.652344 112.726562 283.652344 118.058594 \"/>\n<path style=\"fill-rule:nonzero;fill:rgb(0%,0%,100%);fill-opacity:1;stroke-width:1;stroke-linecap:butt;stroke-linejoin:miter;stroke:rgb(0%,0%,0%);stroke-opacity:1;stroke-miterlimit:10;\" d=\"M 295.289062 455.570312 C 295.289062 460.902344 287.289062 460.902344 287.289062 455.570312 C 287.289062 450.238281 295.289062 450.238281 295.289062 455.570312 \"/>\n<path style=\"fill-rule:nonzero;fill:rgb(0%,0%,100%);fill-opacity:1;stroke-width:1;stroke-linecap:butt;stroke-linejoin:miter;stroke:rgb(0%,0%,0%);stroke-opacity:1;stroke-miterlimit:10;\" d=\"M 377.703125 176.867188 C 377.703125 182.199219 369.703125 182.199219 369.703125 176.867188 C 369.703125 171.535156 377.703125 171.535156 377.703125 176.867188 \"/>\n<path style=\"fill-rule:nonzero;fill:rgb(0%,0%,100%);fill-opacity:1;stroke-width:1;stroke-linecap:butt;stroke-linejoin:miter;stroke:rgb(0%,0%,0%);stroke-opacity:1;stroke-miterlimit:10;\" d=\"M 89.125 283.367188 C 89.125 288.699219 81.125 288.699219 81.125 283.367188 C 81.125 278.03125 89.125 278.03125 89.125 283.367188 \"/>\n<path style=\"fill-rule:nonzero;fill:rgb(0%,0%,100%);fill-opacity:1;stroke-width:1;stroke-linecap:butt;stroke-linejoin:miter;stroke:rgb(0%,0%,0%);stroke-opacity:1;stroke-miterlimit:10;\" d=\"M 348.503906 576.976562 C 348.503906 582.308594 340.503906 582.308594 340.503906 576.976562 C 340.503906 571.640625 348.503906 571.640625 348.503906 576.976562 \"/>\n<path style=\"fill-rule:nonzero;fill:rgb(0%,0%,100%);fill-opacity:1;stroke-width:1;stroke-linecap:butt;stroke-linejoin:miter;stroke:rgb(0%,0%,0%);stroke-opacity:1;stroke-miterlimit:10;\" d=\"M 332.089844 239.0625 C 332.089844 244.394531 324.089844 244.394531 324.089844 239.0625 C 324.089844 233.730469 332.089844 233.730469 332.089844 239.0625 \"/>\n<path style=\"fill-rule:nonzero;fill:rgb(0%,0%,100%);fill-opacity:1;stroke-width:1;stroke-linecap:butt;stroke-linejoin:miter;stroke:rgb(0%,0%,0%);stroke-opacity:1;stroke-miterlimit:10;\" d=\"M 26.675781 312.644531 C 26.675781 317.976562 18.675781 317.976562 18.675781 312.644531 C 18.675781 307.308594 26.675781 307.308594 26.675781 312.644531 \"/>\n<path style=\"fill-rule:nonzero;fill:rgb(0%,0%,100%);fill-opacity:1;stroke-width:1;stroke-linecap:butt;stroke-linejoin:miter;stroke:rgb(0%,0%,0%);stroke-opacity:1;stroke-miterlimit:10;\" d=\"M 249.964844 272.078125 C 249.964844 277.410156 241.964844 277.410156 241.964844 272.078125 C 241.964844 266.742188 249.964844 266.742188 249.964844 272.078125 \"/>\n<path style=\"fill-rule:nonzero;fill:rgb(0%,100%,0%);fill-opacity:1;stroke-width:1;stroke-linecap:butt;stroke-linejoin:miter;stroke:rgb(0%,0%,0%);stroke-opacity:1;stroke-miterlimit:10;\" d=\"M 53.167969 263.90625 C 53.167969 269.238281 45.167969 269.238281 45.167969 263.90625 C 45.167969 258.574219 53.167969 258.574219 53.167969 263.90625 \"/>\n<path style=\"fill-rule:nonzero;fill:rgb(0%,0%,100%);fill-opacity:1;stroke-width:1;stroke-linecap:butt;stroke-linejoin:miter;stroke:rgb(0%,0%,0%);stroke-opacity:1;stroke-miterlimit:10;\" d=\"M 420.925781 280.878906 C 420.925781 286.214844 412.925781 286.214844 412.925781 280.878906 C 412.925781 275.546875 420.925781 275.546875 420.925781 280.878906 \"/>\n<path style=\"fill-rule:nonzero;fill:rgb(0%,0%,100%);fill-opacity:1;stroke-width:1;stroke-linecap:butt;stroke-linejoin:miter;stroke:rgb(0%,0%,0%);stroke-opacity:1;stroke-miterlimit:10;\" d=\"M 90.457031 426.632812 C 90.457031 431.964844 82.457031 431.964844 82.457031 426.632812 C 82.457031 421.296875 90.457031 421.296875 90.457031 426.632812 \"/>\n<path style=\"fill-rule:nonzero;fill:rgb(0%,0%,100%);fill-opacity:1;stroke-width:1;stroke-linecap:butt;stroke-linejoin:miter;stroke:rgb(0%,0%,0%);stroke-opacity:1;stroke-miterlimit:10;\" d=\"M 440.5625 159.078125 C 440.5625 164.414062 432.5625 164.414062 432.5625 159.078125 C 432.5625 153.746094 440.5625 153.746094 440.5625 159.078125 \"/>\n<path style=\"fill-rule:nonzero;fill:rgb(0%,0%,100%);fill-opacity:1;stroke-width:1;stroke-linecap:butt;stroke-linejoin:miter;stroke:rgb(0%,0%,0%);stroke-opacity:1;stroke-miterlimit:10;\" d=\"M 572.417969 223.160156 C 572.417969 228.496094 564.417969 228.496094 564.417969 223.160156 C 564.417969 217.828125 572.417969 217.828125 572.417969 223.160156 \"/>\n<path style=\"fill-rule:nonzero;fill:rgb(0%,0%,100%);fill-opacity:1;stroke-width:1;stroke-linecap:butt;stroke-linejoin:miter;stroke:rgb(0%,0%,0%);stroke-opacity:1;stroke-miterlimit:10;\" d=\"M 68.722656 255.214844 C 68.722656 260.546875 60.722656 260.546875 60.722656 255.214844 C 60.722656 249.878906 68.722656 249.878906 68.722656 255.214844 \"/>\n<path style=\"fill-rule:nonzero;fill:rgb(0%,0%,100%);fill-opacity:1;stroke-width:1;stroke-linecap:butt;stroke-linejoin:miter;stroke:rgb(0%,0%,0%);stroke-opacity:1;stroke-miterlimit:10;\" d=\"M 385.144531 286.496094 C 385.144531 291.828125 377.144531 291.828125 377.144531 286.496094 C 377.144531 281.160156 385.144531 281.160156 385.144531 286.496094 \"/>\n<path style=\"fill-rule:nonzero;fill:rgb(0%,0%,100%);fill-opacity:1;stroke-width:1;stroke-linecap:butt;stroke-linejoin:miter;stroke:rgb(0%,0%,0%);stroke-opacity:1;stroke-miterlimit:10;\" d=\"M 278.929688 520.488281 C 278.929688 525.820312 270.929688 525.820312 270.929688 520.488281 C 270.929688 515.152344 278.929688 515.152344 278.929688 520.488281 \"/>\n<path style=\"fill-rule:nonzero;fill:rgb(0%,0%,100%);fill-opacity:1;stroke-width:1;stroke-linecap:butt;stroke-linejoin:miter;stroke:rgb(0%,0%,0%);stroke-opacity:1;stroke-miterlimit:10;\" d=\"M 195.242188 524.753906 C 195.242188 530.085938 187.242188 530.085938 187.242188 524.753906 C 187.242188 519.417969 195.242188 519.417969 195.242188 524.753906 \"/>\n<path style=\"fill-rule:nonzero;fill:rgb(0%,0%,100%);fill-opacity:1;stroke-width:1;stroke-linecap:butt;stroke-linejoin:miter;stroke:rgb(0%,0%,0%);stroke-opacity:1;stroke-miterlimit:10;\" d=\"M 459.132812 65.328125 C 459.132812 70.664062 451.132812 70.664062 451.132812 65.328125 C 451.132812 59.996094 459.132812 59.996094 459.132812 65.328125 \"/>\n<path style=\"fill-rule:nonzero;fill:rgb(0%,0%,100%);fill-opacity:1;stroke-width:1;stroke-linecap:butt;stroke-linejoin:miter;stroke:rgb(0%,0%,0%);stroke-opacity:1;stroke-miterlimit:10;\" d=\"M 480.40625 254.390625 C 480.40625 259.722656 472.40625 259.722656 472.40625 254.390625 C 472.40625 249.054688 480.40625 249.054688 480.40625 254.390625 \"/>\n<path style=\"fill-rule:nonzero;fill:rgb(0%,0%,100%);fill-opacity:1;stroke-width:1;stroke-linecap:butt;stroke-linejoin:miter;stroke:rgb(0%,0%,0%);stroke-opacity:1;stroke-miterlimit:10;\" d=\"M 181.800781 399.539062 C 181.800781 404.871094 173.800781 404.871094 173.800781 399.539062 C 173.800781 394.203125 181.800781 394.203125 181.800781 399.539062 \"/>\n<path style=\"fill-rule:nonzero;fill:rgb(0%,0%,100%);fill-opacity:1;stroke-width:1;stroke-linecap:butt;stroke-linejoin:miter;stroke:rgb(0%,0%,0%);stroke-opacity:1;stroke-miterlimit:10;\" d=\"M 237.667969 417.515625 C 237.667969 422.847656 229.667969 422.847656 229.667969 417.515625 C 229.667969 412.183594 237.667969 412.183594 237.667969 417.515625 \"/>\n<path style=\"fill-rule:nonzero;fill:rgb(0%,0%,100%);fill-opacity:1;stroke-width:1;stroke-linecap:butt;stroke-linejoin:miter;stroke:rgb(0%,0%,0%);stroke-opacity:1;stroke-miterlimit:10;\" d=\"M 223.875 80.589844 C 223.875 85.921875 215.875 85.921875 215.875 80.589844 C 215.875 75.257812 223.875 75.257812 223.875 80.589844 \"/>\n<path style=\"fill-rule:nonzero;fill:rgb(0%,0%,100%);fill-opacity:1;stroke-width:1;stroke-linecap:butt;stroke-linejoin:miter;stroke:rgb(0%,0%,0%);stroke-opacity:1;stroke-miterlimit:10;\" d=\"M 369.179688 61.90625 C 369.179688 67.242188 361.179688 67.242188 361.179688 61.90625 C 361.179688 56.574219 369.179688 56.574219 369.179688 61.90625 \"/>\n<path style=\"fill-rule:nonzero;fill:rgb(0%,0%,100%);fill-opacity:1;stroke-width:1;stroke-linecap:butt;stroke-linejoin:miter;stroke:rgb(0%,0%,0%);stroke-opacity:1;stroke-miterlimit:10;\" d=\"M 462.957031 467.828125 C 462.957031 473.160156 454.957031 473.160156 454.957031 467.828125 C 454.957031 462.492188 462.957031 462.492188 462.957031 467.828125 \"/>\n<path style=\"fill-rule:nonzero;fill:rgb(0%,0%,100%);fill-opacity:1;stroke-width:1;stroke-linecap:butt;stroke-linejoin:miter;stroke:rgb(0%,0%,0%);stroke-opacity:1;stroke-miterlimit:10;\" d=\"M 431.085938 51.140625 C 431.085938 56.472656 423.085938 56.472656 423.085938 51.140625 C 423.085938 45.808594 431.085938 45.808594 431.085938 51.140625 \"/>\n<path style=\"fill-rule:nonzero;fill:rgb(0%,0%,100%);fill-opacity:1;stroke-width:1;stroke-linecap:butt;stroke-linejoin:miter;stroke:rgb(0%,0%,0%);stroke-opacity:1;stroke-miterlimit:10;\" d=\"M 249.832031 575.046875 C 249.832031 580.382812 241.832031 580.382812 241.832031 575.046875 C 241.832031 569.714844 249.832031 569.714844 249.832031 575.046875 \"/>\n<path style=\"fill-rule:nonzero;fill:rgb(0%,0%,100%);fill-opacity:1;stroke-width:1;stroke-linecap:butt;stroke-linejoin:miter;stroke:rgb(0%,0%,0%);stroke-opacity:1;stroke-miterlimit:10;\" d=\"M 162.484375 473.511719 C 162.484375 478.84375 154.484375 478.84375 154.484375 473.511719 C 154.484375 468.179688 162.484375 468.179688 162.484375 473.511719 \"/>\n<path style=\"fill-rule:nonzero;fill:rgb(0%,0%,100%);fill-opacity:1;stroke-width:1;stroke-linecap:butt;stroke-linejoin:miter;stroke:rgb(0%,0%,0%);stroke-opacity:1;stroke-miterlimit:10;\" d=\"M 416.050781 188.5625 C 416.050781 193.898438 408.050781 193.898438 408.050781 188.5625 C 408.050781 183.230469 416.050781 183.230469 416.050781 188.5625 \"/>\n<path style=\"fill-rule:nonzero;fill:rgb(0%,0%,100%);fill-opacity:1;stroke-width:1;stroke-linecap:butt;stroke-linejoin:miter;stroke:rgb(0%,0%,0%);stroke-opacity:1;stroke-miterlimit:10;\" d=\"M 201.597656 37.082031 C 201.597656 42.414062 193.597656 42.414062 193.597656 37.082031 C 193.597656 31.746094 201.597656 31.746094 201.597656 37.082031 \"/>\n<path style=\"fill-rule:nonzero;fill:rgb(0%,0%,100%);fill-opacity:1;stroke-width:1;stroke-linecap:butt;stroke-linejoin:miter;stroke:rgb(0%,0%,0%);stroke-opacity:1;stroke-miterlimit:10;\" d=\"M 372.160156 29.347656 C 372.160156 34.683594 364.160156 34.683594 364.160156 29.347656 C 364.160156 24.015625 372.160156 24.015625 372.160156 29.347656 \"/>\n<path style=\"fill-rule:nonzero;fill:rgb(0%,0%,100%);fill-opacity:1;stroke-width:1;stroke-linecap:butt;stroke-linejoin:miter;stroke:rgb(0%,0%,0%);stroke-opacity:1;stroke-miterlimit:10;\" d=\"M 556.28125 275.945312 C 556.28125 281.28125 548.28125 281.28125 548.28125 275.945312 C 548.28125 270.613281 556.28125 270.613281 556.28125 275.945312 \"/>\n<path style=\"fill-rule:nonzero;fill:rgb(0%,0%,100%);fill-opacity:1;stroke-width:1;stroke-linecap:butt;stroke-linejoin:miter;stroke:rgb(0%,0%,0%);stroke-opacity:1;stroke-miterlimit:10;\" d=\"M 445.3125 398.328125 C 445.3125 403.660156 437.3125 403.660156 437.3125 398.328125 C 437.3125 392.992188 445.3125 392.992188 445.3125 398.328125 \"/>\n<path style=\"fill-rule:nonzero;fill:rgb(0%,0%,100%);fill-opacity:1;stroke-width:1;stroke-linecap:butt;stroke-linejoin:miter;stroke:rgb(0%,0%,0%);stroke-opacity:1;stroke-miterlimit:10;\" d=\"M 142.28125 398.242188 C 142.28125 403.578125 134.28125 403.578125 134.28125 398.242188 C 134.28125 392.910156 142.28125 392.910156 142.28125 398.242188 \"/>\n<path style=\"fill-rule:nonzero;fill:rgb(0%,0%,100%);fill-opacity:1;stroke-width:1;stroke-linecap:butt;stroke-linejoin:miter;stroke:rgb(0%,0%,0%);stroke-opacity:1;stroke-miterlimit:10;\" d=\"M 395.433594 457.699219 C 395.433594 463.035156 387.433594 463.035156 387.433594 457.699219 C 387.433594 452.367188 395.433594 452.367188 395.433594 457.699219 \"/>\n<path style=\"fill-rule:nonzero;fill:rgb(0%,0%,100%);fill-opacity:1;stroke-width:1;stroke-linecap:butt;stroke-linejoin:miter;stroke:rgb(0%,0%,0%);stroke-opacity:1;stroke-miterlimit:10;\" d=\"M 165.875 281.722656 C 165.875 287.054688 157.875 287.054688 157.875 281.722656 C 157.875 276.386719 165.875 276.386719 165.875 281.722656 \"/>\n<path style=\"fill-rule:nonzero;fill:rgb(0%,0%,100%);fill-opacity:1;stroke-width:1;stroke-linecap:butt;stroke-linejoin:miter;stroke:rgb(0%,0%,0%);stroke-opacity:1;stroke-miterlimit:10;\" d=\"M 473.566406 220.675781 C 473.566406 226.007812 465.566406 226.007812 465.566406 220.675781 C 465.566406 215.339844 473.566406 215.339844 473.566406 220.675781 \"/>\n<path style=\"fill-rule:nonzero;fill:rgb(0%,0%,100%);fill-opacity:1;stroke-width:1;stroke-linecap:butt;stroke-linejoin:miter;stroke:rgb(0%,0%,0%);stroke-opacity:1;stroke-miterlimit:10;\" d=\"M 188.238281 253.097656 C 188.238281 258.429688 180.238281 258.429688 180.238281 253.097656 C 180.238281 247.765625 188.238281 247.765625 188.238281 253.097656 \"/>\n<path style=\"fill-rule:nonzero;fill:rgb(0%,0%,100%);fill-opacity:1;stroke-width:1;stroke-linecap:butt;stroke-linejoin:miter;stroke:rgb(0%,0%,0%);stroke-opacity:1;stroke-miterlimit:10;\" d=\"M 51.09375 185.78125 C 51.09375 191.113281 43.09375 191.113281 43.09375 185.78125 C 43.09375 180.449219 51.09375 180.449219 51.09375 185.78125 \"/>\n<path style=\"fill-rule:nonzero;fill:rgb(0%,0%,100%);fill-opacity:1;stroke-width:1;stroke-linecap:butt;stroke-linejoin:miter;stroke:rgb(0%,0%,0%);stroke-opacity:1;stroke-miterlimit:10;\" d=\"M 189.953125 114.199219 C 189.953125 119.53125 181.953125 119.53125 181.953125 114.199219 C 181.953125 108.867188 189.953125 108.867188 189.953125 114.199219 \"/>\n<path style=\"fill-rule:nonzero;fill:rgb(0%,0%,100%);fill-opacity:1;stroke-width:1;stroke-linecap:butt;stroke-linejoin:miter;stroke:rgb(0%,0%,0%);stroke-opacity:1;stroke-miterlimit:10;\" d=\"M 324.214844 487.414062 C 324.214844 492.746094 316.214844 492.746094 316.214844 487.414062 C 316.214844 482.078125 324.214844 482.078125 324.214844 487.414062 \"/>\n<path style=\"fill-rule:nonzero;fill:rgb(0%,0%,100%);fill-opacity:1;stroke-width:1;stroke-linecap:butt;stroke-linejoin:miter;stroke:rgb(0%,0%,0%);stroke-opacity:1;stroke-miterlimit:10;\" d=\"M 62.042969 172.203125 C 62.042969 177.535156 54.042969 177.535156 54.042969 172.203125 C 54.042969 166.867188 62.042969 166.867188 62.042969 172.203125 \"/>\n<path style=\"fill-rule:nonzero;fill:rgb(0%,0%,100%);fill-opacity:1;stroke-width:1;stroke-linecap:butt;stroke-linejoin:miter;stroke:rgb(0%,0%,0%);stroke-opacity:1;stroke-miterlimit:10;\" d=\"M 507.375 214.144531 C 507.375 219.476562 499.375 219.476562 499.375 214.144531 C 499.375 208.808594 507.375 208.808594 507.375 214.144531 \"/>\n<path style=\"fill-rule:nonzero;fill:rgb(0%,0%,100%);fill-opacity:1;stroke-width:1;stroke-linecap:butt;stroke-linejoin:miter;stroke:rgb(0%,0%,0%);stroke-opacity:1;stroke-miterlimit:10;\" d=\"M 316.65625 323.296875 C 316.65625 328.628906 308.65625 328.628906 308.65625 323.296875 C 308.65625 317.964844 316.65625 317.964844 316.65625 323.296875 \"/>\n<path style=\"fill-rule:nonzero;fill:rgb(0%,0%,100%);fill-opacity:1;stroke-width:1;stroke-linecap:butt;stroke-linejoin:miter;stroke:rgb(0%,0%,0%);stroke-opacity:1;stroke-miterlimit:10;\" d=\"M 122.554688 361.300781 C 122.554688 366.632812 114.554688 366.632812 114.554688 361.300781 C 114.554688 355.96875 122.554688 355.96875 122.554688 361.300781 \"/>\n<path style=\"fill-rule:nonzero;fill:rgb(0%,0%,100%);fill-opacity:1;stroke-width:1;stroke-linecap:butt;stroke-linejoin:miter;stroke:rgb(0%,0%,0%);stroke-opacity:1;stroke-miterlimit:10;\" d=\"M 580.203125 254.796875 C 580.203125 260.128906 572.203125 260.128906 572.203125 254.796875 C 572.203125 249.464844 580.203125 249.464844 580.203125 254.796875 \"/>\n<path style=\"fill-rule:nonzero;fill:rgb(0%,0%,100%);fill-opacity:1;stroke-width:1;stroke-linecap:butt;stroke-linejoin:miter;stroke:rgb(0%,0%,0%);stroke-opacity:1;stroke-miterlimit:10;\" d=\"M 408.042969 244.683594 C 408.042969 250.015625 400.042969 250.015625 400.042969 244.683594 C 400.042969 239.347656 408.042969 239.347656 408.042969 244.683594 \"/>\n<path style=\"fill-rule:nonzero;fill:rgb(0%,0%,100%);fill-opacity:1;stroke-width:1;stroke-linecap:butt;stroke-linejoin:miter;stroke:rgb(0%,0%,0%);stroke-opacity:1;stroke-miterlimit:10;\" d=\"M 195.183594 216.488281 C 195.183594 221.824219 187.183594 221.824219 187.183594 216.488281 C 187.183594 211.15625 195.183594 211.15625 195.183594 216.488281 \"/>\n<path style=\"fill-rule:nonzero;fill:rgb(0%,0%,100%);fill-opacity:1;stroke-width:1;stroke-linecap:butt;stroke-linejoin:miter;stroke:rgb(0%,0%,0%);stroke-opacity:1;stroke-miterlimit:10;\" d=\"M 315.039062 580 C 315.039062 585.332031 307.039062 585.332031 307.039062 580 C 307.039062 574.667969 315.039062 574.667969 315.039062 580 \"/>\n<path style=\"fill-rule:nonzero;fill:rgb(0%,0%,100%);fill-opacity:1;stroke-width:1;stroke-linecap:butt;stroke-linejoin:miter;stroke:rgb(0%,0%,0%);stroke-opacity:1;stroke-miterlimit:10;\" d=\"M 293.460938 551.148438 C 293.460938 556.480469 285.460938 556.480469 285.460938 551.148438 C 285.460938 545.8125 293.460938 545.8125 293.460938 551.148438 \"/>\n<path style=\"fill-rule:nonzero;fill:rgb(0%,0%,100%);fill-opacity:1;stroke-width:1;stroke-linecap:butt;stroke-linejoin:miter;stroke:rgb(0%,0%,0%);stroke-opacity:1;stroke-miterlimit:10;\" d=\"M 526.890625 468.800781 C 526.890625 474.136719 518.890625 474.136719 518.890625 468.800781 C 518.890625 463.46875 526.890625 463.46875 526.890625 468.800781 \"/>\n<path style=\"fill-rule:nonzero;fill:rgb(0%,0%,100%);fill-opacity:1;stroke-width:1;stroke-linecap:butt;stroke-linejoin:miter;stroke:rgb(0%,0%,0%);stroke-opacity:1;stroke-miterlimit:10;\" d=\"M 271.417969 154.9375 C 271.417969 160.269531 263.417969 160.269531 263.417969 154.9375 C 263.417969 149.601562 271.417969 149.601562 271.417969 154.9375 \"/>\n<path style=\"fill-rule:nonzero;fill:rgb(0%,0%,100%);fill-opacity:1;stroke-width:1;stroke-linecap:butt;stroke-linejoin:miter;stroke:rgb(0%,0%,0%);stroke-opacity:1;stroke-miterlimit:10;\" d=\"M 519.253906 351.898438 C 519.253906 357.230469 511.253906 357.230469 511.253906 351.898438 C 511.253906 346.5625 519.253906 346.5625 519.253906 351.898438 \"/>\n<path style=\"fill-rule:nonzero;fill:rgb(0%,0%,100%);fill-opacity:1;stroke-width:1;stroke-linecap:butt;stroke-linejoin:miter;stroke:rgb(0%,0%,0%);stroke-opacity:1;stroke-miterlimit:10;\" d=\"M 314.128906 419.445312 C 314.128906 424.777344 306.128906 424.777344 306.128906 419.445312 C 306.128906 414.113281 314.128906 414.113281 314.128906 419.445312 \"/>\n<path style=\"fill-rule:nonzero;fill:rgb(0%,0%,100%);fill-opacity:1;stroke-width:1;stroke-linecap:butt;stroke-linejoin:miter;stroke:rgb(0%,0%,0%);stroke-opacity:1;stroke-miterlimit:10;\" d=\"M 271.5 191.6875 C 271.5 197.019531 263.5 197.019531 263.5 191.6875 C 263.5 186.355469 271.5 186.355469 271.5 191.6875 \"/>\n<path style=\"fill-rule:nonzero;fill:rgb(0%,0%,100%);fill-opacity:1;stroke-width:1;stroke-linecap:butt;stroke-linejoin:miter;stroke:rgb(0%,0%,0%);stroke-opacity:1;stroke-miterlimit:10;\" d=\"M 474.125 153.335938 C 474.125 158.671875 466.125 158.671875 466.125 153.335938 C 466.125 148.003906 474.125 148.003906 474.125 153.335938 \"/>\n<path style=\"fill-rule:nonzero;fill:rgb(0%,0%,100%);fill-opacity:1;stroke-width:1;stroke-linecap:butt;stroke-linejoin:miter;stroke:rgb(0%,0%,0%);stroke-opacity:1;stroke-miterlimit:10;\" d=\"M 66 324.253906 C 66 329.585938 58 329.585938 58 324.253906 C 58 318.917969 66 318.917969 66 324.253906 \"/>\n<path style=\"fill-rule:nonzero;fill:rgb(0%,0%,100%);fill-opacity:1;stroke-width:1;stroke-linecap:butt;stroke-linejoin:miter;stroke:rgb(0%,0%,0%);stroke-opacity:1;stroke-miterlimit:10;\" d=\"M 133.710938 78.058594 C 133.710938 83.394531 125.710938 83.394531 125.710938 78.058594 C 125.710938 72.726562 133.710938 72.726562 133.710938 78.058594 \"/>\n<path style=\"fill-rule:nonzero;fill:rgb(0%,0%,100%);fill-opacity:1;stroke-width:1;stroke-linecap:butt;stroke-linejoin:miter;stroke:rgb(0%,0%,0%);stroke-opacity:1;stroke-miterlimit:10;\" d=\"M 497.136719 468.730469 C 497.136719 474.0625 489.136719 474.0625 489.136719 468.730469 C 489.136719 463.398438 497.136719 463.398438 497.136719 468.730469 \"/>\n</g>\n</svg>\n",
            "text/plain": [
              "<igraph.drawing.Plot at 0x7f7d7a8b3820>"
            ]
          },
          "execution_count": 621,
          "metadata": {
            "image/svg+xml": {
              "isolated": true
            }
          },
          "output_type": "execute_result"
        }
      ],
      "source": [
        "# STATEDICT ={1 : \"Susceptible\", 2: \"Exposed\", 3: \"Infectious\", 4: \"Recovered\"}\n",
        "\n",
        "\n",
        "def networkGraphAtTimet(networkData, statusMatrix, time):\n",
        "    query =  \"time=={time}\".format(time = time)\n",
        "    numOfNodes = statusMatrix.shape[1]\n",
        "    graph = ig.Graph(n=numOfNodes, edges=networkData.query(query)[['node-i','node-j']].values)\n",
        "    graph.vs[\"state\"] = statusMatrix[time]\n",
        "    color_dict = {1: \"blue\", 2: \"yellow\", 3:\"red\", 4:\"green\"}\n",
        "    graph.vs[\"color\"] = [color_dict[state] for state in graph.vs[\"state\"]]\n",
        "    return graph\n",
        "\n",
        "ig.plot(networkGraphAtTimet(networkData, statusMatrix, 82), vertex_size=8)"
      ]
    }
  ],
  "metadata": {
    "colab": {
      "collapsed_sections": [],
      "name": "SEIRModel_with_Vaccination.ipynb",
      "provenance": []
    },
    "kernelspec": {
      "display_name": "Python 3",
      "name": "python3"
    },
    "language_info": {
      "codemirror_mode": {
        "name": "ipython",
        "version": 3
      },
      "file_extension": ".py",
      "mimetype": "text/x-python",
      "name": "python",
      "nbconvert_exporter": "python",
      "pygments_lexer": "ipython3",
      "version": "3.9.7"
    }
  },
  "nbformat": 4,
  "nbformat_minor": 0
}
