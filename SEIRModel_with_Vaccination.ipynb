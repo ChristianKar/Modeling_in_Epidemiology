{
  "cells": [
    {
      "cell_type": "markdown",
      "metadata": {
        "id": "Eh0JtAPY5buW"
      },
      "source": [
        "\n",
        "Optionals: \n",
        "1. We might need to implement random data at the end of the project."
      ]
    },
    {
      "cell_type": "markdown",
      "metadata": {},
      "source": [
        "# Import of Important Library, Network and Meta Data"
      ]
    },
    {
      "cell_type": "code",
      "execution_count": 98,
      "metadata": {
        "id": "awUsYD2q1oS5"
      },
      "outputs": [],
      "source": [
        "import igraph as ig\n",
        "import numpy as np\n",
        "import pandas as pd\n",
        "import matplotlib.pyplot as plt"
      ]
    },
    {
      "cell_type": "code",
      "execution_count": 99,
      "metadata": {
        "colab": {
          "base_uri": "https://localhost:8080/",
          "height": 423
        },
        "id": "S9C8f-sP2mlV",
        "outputId": "7847fabb-f91b-44d0-b6c2-c174e1bdb7e4"
      },
      "outputs": [
        {
          "data": {
            "text/html": [
              "<div>\n",
              "<style scoped>\n",
              "    .dataframe tbody tr th:only-of-type {\n",
              "        vertical-align: middle;\n",
              "    }\n",
              "\n",
              "    .dataframe tbody tr th {\n",
              "        vertical-align: top;\n",
              "    }\n",
              "\n",
              "    .dataframe thead th {\n",
              "        text-align: right;\n",
              "    }\n",
              "</style>\n",
              "<table border=\"1\" class=\"dataframe\">\n",
              "  <thead>\n",
              "    <tr style=\"text-align: right;\">\n",
              "      <th></th>\n",
              "      <th>time</th>\n",
              "      <th>node-i</th>\n",
              "      <th>node-j</th>\n",
              "    </tr>\n",
              "  </thead>\n",
              "  <tbody>\n",
              "    <tr>\n",
              "      <th>0</th>\n",
              "      <td>0</td>\n",
              "      <td>58</td>\n",
              "      <td>63</td>\n",
              "    </tr>\n",
              "    <tr>\n",
              "      <th>1</th>\n",
              "      <td>0</td>\n",
              "      <td>59</td>\n",
              "      <td>64</td>\n",
              "    </tr>\n",
              "    <tr>\n",
              "      <th>2</th>\n",
              "      <td>0</td>\n",
              "      <td>63</td>\n",
              "      <td>66</td>\n",
              "    </tr>\n",
              "    <tr>\n",
              "      <th>3</th>\n",
              "      <td>0</td>\n",
              "      <td>85</td>\n",
              "      <td>190</td>\n",
              "    </tr>\n",
              "    <tr>\n",
              "      <th>4</th>\n",
              "      <td>0</td>\n",
              "      <td>85</td>\n",
              "      <td>214</td>\n",
              "    </tr>\n",
              "    <tr>\n",
              "      <th>...</th>\n",
              "      <td>...</td>\n",
              "      <td>...</td>\n",
              "      <td>...</td>\n",
              "    </tr>\n",
              "    <tr>\n",
              "      <th>125768</th>\n",
              "      <td>3099</td>\n",
              "      <td>152</td>\n",
              "      <td>172</td>\n",
              "    </tr>\n",
              "    <tr>\n",
              "      <th>125769</th>\n",
              "      <td>3099</td>\n",
              "      <td>152</td>\n",
              "      <td>174</td>\n",
              "    </tr>\n",
              "    <tr>\n",
              "      <th>125770</th>\n",
              "      <td>3099</td>\n",
              "      <td>167</td>\n",
              "      <td>180</td>\n",
              "    </tr>\n",
              "    <tr>\n",
              "      <th>125771</th>\n",
              "      <td>3099</td>\n",
              "      <td>172</td>\n",
              "      <td>178</td>\n",
              "    </tr>\n",
              "    <tr>\n",
              "      <th>125772</th>\n",
              "      <td>3099</td>\n",
              "      <td>236</td>\n",
              "      <td>241</td>\n",
              "    </tr>\n",
              "  </tbody>\n",
              "</table>\n",
              "<p>125773 rows × 3 columns</p>\n",
              "</div>"
            ],
            "text/plain": [
              "        time  node-i  node-j\n",
              "0          0      58      63\n",
              "1          0      59      64\n",
              "2          0      63      66\n",
              "3          0      85     190\n",
              "4          0      85     214\n",
              "...      ...     ...     ...\n",
              "125768  3099     152     172\n",
              "125769  3099     152     174\n",
              "125770  3099     167     180\n",
              "125771  3099     172     178\n",
              "125772  3099     236     241\n",
              "\n",
              "[125773 rows x 3 columns]"
            ]
          },
          "execution_count": 99,
          "metadata": {},
          "output_type": "execute_result"
        }
      ],
      "source": [
        "# Import Network data\n",
        "networkData = pd.read_csv('TD3_primary_undirected_temporal.csv')\n",
        "networkData"
      ]
    },
    {
      "cell_type": "code",
      "execution_count": 100,
      "metadata": {},
      "outputs": [
        {
          "data": {
            "text/html": [
              "<div>\n",
              "<style scoped>\n",
              "    .dataframe tbody tr th:only-of-type {\n",
              "        vertical-align: middle;\n",
              "    }\n",
              "\n",
              "    .dataframe tbody tr th {\n",
              "        vertical-align: top;\n",
              "    }\n",
              "\n",
              "    .dataframe thead th {\n",
              "        text-align: right;\n",
              "    }\n",
              "</style>\n",
              "<table border=\"1\" class=\"dataframe\">\n",
              "  <thead>\n",
              "    <tr style=\"text-align: right;\">\n",
              "      <th></th>\n",
              "      <th>node-index</th>\n",
              "      <th>class</th>\n",
              "      <th>gender</th>\n",
              "    </tr>\n",
              "  </thead>\n",
              "  <tbody>\n",
              "    <tr>\n",
              "      <th>0</th>\n",
              "      <td>0</td>\n",
              "      <td>5B</td>\n",
              "      <td>M</td>\n",
              "    </tr>\n",
              "    <tr>\n",
              "      <th>1</th>\n",
              "      <td>1</td>\n",
              "      <td>5B</td>\n",
              "      <td>F</td>\n",
              "    </tr>\n",
              "    <tr>\n",
              "      <th>2</th>\n",
              "      <td>2</td>\n",
              "      <td>5B</td>\n",
              "      <td>M</td>\n",
              "    </tr>\n",
              "    <tr>\n",
              "      <th>3</th>\n",
              "      <td>3</td>\n",
              "      <td>5B</td>\n",
              "      <td>F</td>\n",
              "    </tr>\n",
              "    <tr>\n",
              "      <th>4</th>\n",
              "      <td>4</td>\n",
              "      <td>5B</td>\n",
              "      <td>M</td>\n",
              "    </tr>\n",
              "    <tr>\n",
              "      <th>...</th>\n",
              "      <td>...</td>\n",
              "      <td>...</td>\n",
              "      <td>...</td>\n",
              "    </tr>\n",
              "    <tr>\n",
              "      <th>237</th>\n",
              "      <td>237</td>\n",
              "      <td>2A</td>\n",
              "      <td>M</td>\n",
              "    </tr>\n",
              "    <tr>\n",
              "      <th>238</th>\n",
              "      <td>238</td>\n",
              "      <td>2A</td>\n",
              "      <td>F</td>\n",
              "    </tr>\n",
              "    <tr>\n",
              "      <th>239</th>\n",
              "      <td>239</td>\n",
              "      <td>2A</td>\n",
              "      <td>M</td>\n",
              "    </tr>\n",
              "    <tr>\n",
              "      <th>240</th>\n",
              "      <td>240</td>\n",
              "      <td>1B</td>\n",
              "      <td>F</td>\n",
              "    </tr>\n",
              "    <tr>\n",
              "      <th>241</th>\n",
              "      <td>241</td>\n",
              "      <td>2A</td>\n",
              "      <td>F</td>\n",
              "    </tr>\n",
              "  </tbody>\n",
              "</table>\n",
              "<p>242 rows × 3 columns</p>\n",
              "</div>"
            ],
            "text/plain": [
              "     node-index class gender\n",
              "0             0    5B      M\n",
              "1             1    5B      F\n",
              "2             2    5B      M\n",
              "3             3    5B      F\n",
              "4             4    5B      M\n",
              "..          ...   ...    ...\n",
              "237         237    2A      M\n",
              "238         238    2A      F\n",
              "239         239    2A      M\n",
              "240         240    1B      F\n",
              "241         241    2A      F\n",
              "\n",
              "[242 rows x 3 columns]"
            ]
          },
          "execution_count": 100,
          "metadata": {},
          "output_type": "execute_result"
        }
      ],
      "source": [
        "# Import MetaData [information on the nodes (class, gender)]\n",
        "metadata = pd.read_csv(\"TD3_primary_metadata.csv\")\n",
        "metadata"
      ]
    },
    {
      "cell_type": "markdown",
      "metadata": {},
      "source": [
        "# Initialisation of Simulation"
      ]
    },
    {
      "cell_type": "markdown",
      "metadata": {},
      "source": [
        "\n",
        "1. 1 / alpha : latent period of virus\n",
        "2. 1 / gamma : mean infectious period\n",
        "3. beta : contact rate"
      ]
    },
    {
      "cell_type": "code",
      "execution_count": 101,
      "metadata": {},
      "outputs": [],
      "source": [
        "ALPHA = 1 #S -> E\n",
        "BETA = 0.1  #E -> I\n",
        "GAMMA = 0.01 #I -> R\n",
        "\n",
        "## Flags of State of Nodes\n",
        "SUSCEPTIBLE = 1\n",
        "EXPOSED = 2\n",
        "INFECTIOUS = 3\n",
        "RECOVERED = 4"
      ]
    },
    {
      "cell_type": "markdown",
      "metadata": {},
      "source": [
        "# Simulation"
      ]
    },
    {
      "cell_type": "code",
      "execution_count": 102,
      "metadata": {},
      "outputs": [
        {
          "name": "stdout",
          "output_type": "stream",
          "text": [
            "Number of Nodes:  242\n",
            "(3100, 242)\n"
          ]
        }
      ],
      "source": [
        "tMax = networkData['time'].max()\n",
        "\n",
        "numOfNodes = metadata.shape[0]\n",
        "print(\"Number of Nodes: \", numOfNodes)\n",
        "\n",
        "#Initisaltion od Status Matrix, where everyone is susceptible\n",
        "statusMatrix = np.full((tMax+1, numOfNodes), SUSCEPTIBLE)\n",
        "print(statusMatrix.shape)"
      ]
    },
    {
      "cell_type": "code",
      "execution_count": 103,
      "metadata": {},
      "outputs": [
        {
          "name": "stdout",
          "output_type": "stream",
          "text": [
            "[1 1 1 1 1 1 1 1 1 2 1 1 1 1 1 1 1 1 1 1 1 2 1 1 1 2 1 1 2 2 1 2 2 1 2 1 2\n",
            " 1 1 2 1 1 1 1 1 1 1 2 1 1 1 1 1 1 1 1 1 1 2 1 1 1 1 1 1 1 1 2 1 1 2 1 2 1\n",
            " 1 1 1 2 1 2 1 2 2 1 1 1 1 2 2 1 1 1 1 1 1 1 1 1 1 2 1 1 1 2 1 1 1 1 1 1 1\n",
            " 1 1 1 2 2 1 2 1 1 1 1 1 1 1 1 1 2 1 1 1 1 1 1 1 1 1 1 1 1 2 1 2 1 1 1 1 2\n",
            " 2 1 1 2 1 1 1 1 1 1 1 1 1 1 1 2 1 2 1 2 1 1 1 1 2 1 2 2 1 2 1 1 1 1 1 2 1\n",
            " 2 1 1 1 1 1 1 2 2 1 2 1 2 1 1 1 1 2 2 1 1 1 1 2 1 1 2 1 1 1 1 2 1 1 1 1 1\n",
            " 1 1 1 1 1 1 1 1 2 1 1 1 1 1 1 1 1 1 1 1]\n"
          ]
        }
      ],
      "source": [
        "NUMOFPATIENTZERO = int(0.25*numOfNodes)\n",
        "np.random.seed(0)\n",
        "patientZerosArray = np.random.randint(0, numOfNodes, size=NUMOFPATIENTZERO)\n",
        "for patientZero in patientZerosArray:\n",
        "    statusMatrix[0][patientZero] = EXPOSED\n",
        "\n",
        "print(statusMatrix[0])"
      ]
    },
    {
      "cell_type": "code",
      "execution_count": 104,
      "metadata": {},
      "outputs": [
        {
          "name": "stdout",
          "output_type": "stream",
          "text": [
            "defaultdict(<class 'list'>, {58: [63], 63: [58, 66], 59: [64], 64: [59], 66: [63], 85: [190, 214], 190: [85], 214: [85, 191], 102: [115], 115: [102], 191: [199, 214], 199: [191]})\n"
          ]
        }
      ],
      "source": [
        "from collections import defaultdict\n",
        "edgesDictionaryWRTTime = [defaultdict(list) for time in range(0, tMax + 1)]\n",
        "\n",
        "for time, node_i, node_j in networkData.values:\n",
        "    edgesDictionaryWRTTime[time][node_i].append(node_j)\n",
        "    edgesDictionaryWRTTime[time][node_j].append(node_i)\n",
        "print(edgesDictionaryWRTTime[0])"
      ]
    },
    {
      "cell_type": "code",
      "execution_count": 105,
      "metadata": {},
      "outputs": [],
      "source": [
        "rand = lambda proba, numOfNodes: np.random.uniform(0, 1, size=numOfNodes) < proba"
      ]
    },
    {
      "cell_type": "code",
      "execution_count": 106,
      "metadata": {},
      "outputs": [
        {
          "name": "stdout",
          "output_type": "stream",
          "text": [
            "[  0   1   2   3   4   7   8   9  11  12  13  14  15  17  18  19  20  21\n",
            "  22  23  24  25  28  29  30  31  32  33  34  36  37  38  39  41  44  45\n",
            "  46  47  48  49  51  52  53  54  56  58  59  60  61  62  63  64  65  66\n",
            "  67  68  69  70  71  72  74  75  76  77  78  79  80  81  82  83  84  85\n",
            "  87  88  90  92  93  94  95  96  97  98  99 100 101 102 103 104 105 106\n",
            " 107 108 109 110 111 112 113 114 115 116 117 118 119 120 121 122 124 127\n",
            " 128 130 131 132 133 134 135 136 137 138 139 140 141 142 143 144 146 147\n",
            " 148 149 151 152 153 154 156 157 159 160 161 163 165 166 167 169 170 171\n",
            " 172 173 174 175 176 177 178 179 182 183 185 188 189 192 193 194 195 197\n",
            " 200 201 202 203 204 205 206 207 208 209 210 211 212 214 215 216 219 220\n",
            " 222 223 226 227 228 229 230 231 232 235 237 238 239 240 241]\n"
          ]
        }
      ],
      "source": [
        "for t in range(tMax):\n",
        "    statusMatrix[t+1] = statusMatrix[t]\n",
        "    exposedPopulation = np.where(statusMatrix[t]==EXPOSED)[0]\n",
        "    newlyInfected = exposedPopulation[rand(ALPHA,len(exposedPopulation))]\n",
        "    statusMatrix[t+1, newlyInfected] = INFECTIOUS\n",
        "\n",
        "    infectedPopulation = np.where(statusMatrix[t]==INFECTIOUS)[0]\n",
        "    riskContact = np.array([node_j for node_i in infectedPopulation for node_j in edgesDictionaryWRTTime[t][node_i] if statusMatrix[t,node_j]==SUSCEPTIBLE], dtype=int)\n",
        "    newlyExposed = riskContact[rand(BETA, len(riskContact))]\n",
        "    statusMatrix[t+1, newlyExposed] = EXPOSED\n",
        "    \n",
        "    newlyRecovered = infectedPopulation[rand(GAMMA, len(infectedPopulation))]\n",
        "    statusMatrix[t+1, newlyRecovered] = RECOVERED\n",
        "    \n",
        "print(np.where(statusMatrix[tMax]==RECOVERED)[0])"
      ]
    }
  ],
  "metadata": {
    "colab": {
      "collapsed_sections": [],
      "name": "SEIRModel_with_Vaccination.ipynb",
      "provenance": []
    },
    "kernelspec": {
      "display_name": "Python 3",
      "name": "python3"
    },
    "language_info": {
      "codemirror_mode": {
        "name": "ipython",
        "version": 3
      },
      "file_extension": ".py",
      "mimetype": "text/x-python",
      "name": "python",
      "nbconvert_exporter": "python",
      "pygments_lexer": "ipython3",
      "version": "3.9.7"
    }
  },
  "nbformat": 4,
  "nbformat_minor": 0
}
