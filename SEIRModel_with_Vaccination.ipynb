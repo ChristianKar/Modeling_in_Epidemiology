{
  "cells": [
    {
      "cell_type": "markdown",
      "metadata": {
        "id": "Eh0JtAPY5buW"
      },
      "source": [
        "\n",
        "Optionals: \n",
        "1. We might need to implement random data at the end of the project."
      ]
    },
    {
      "cell_type": "markdown",
      "metadata": {},
      "source": [
        "# Import of Important Library, Network and Meta Data"
      ]
    },
    {
      "cell_type": "code",
      "execution_count": 321,
      "metadata": {
        "id": "awUsYD2q1oS5"
      },
      "outputs": [],
      "source": [
        "import igraph as ig\n",
        "import numpy as np\n",
        "import pandas as pd\n",
        "import matplotlib.pyplot as plt"
      ]
    },
    {
      "cell_type": "code",
      "execution_count": 322,
      "metadata": {
        "colab": {
          "base_uri": "https://localhost:8080/",
          "height": 423
        },
        "id": "S9C8f-sP2mlV",
        "outputId": "7847fabb-f91b-44d0-b6c2-c174e1bdb7e4"
      },
      "outputs": [
        {
          "data": {
            "text/html": [
              "<div>\n",
              "<style scoped>\n",
              "    .dataframe tbody tr th:only-of-type {\n",
              "        vertical-align: middle;\n",
              "    }\n",
              "\n",
              "    .dataframe tbody tr th {\n",
              "        vertical-align: top;\n",
              "    }\n",
              "\n",
              "    .dataframe thead th {\n",
              "        text-align: right;\n",
              "    }\n",
              "</style>\n",
              "<table border=\"1\" class=\"dataframe\">\n",
              "  <thead>\n",
              "    <tr style=\"text-align: right;\">\n",
              "      <th></th>\n",
              "      <th>time</th>\n",
              "      <th>node-i</th>\n",
              "      <th>node-j</th>\n",
              "    </tr>\n",
              "  </thead>\n",
              "  <tbody>\n",
              "    <tr>\n",
              "      <th>0</th>\n",
              "      <td>0</td>\n",
              "      <td>58</td>\n",
              "      <td>63</td>\n",
              "    </tr>\n",
              "    <tr>\n",
              "      <th>1</th>\n",
              "      <td>0</td>\n",
              "      <td>59</td>\n",
              "      <td>64</td>\n",
              "    </tr>\n",
              "    <tr>\n",
              "      <th>2</th>\n",
              "      <td>0</td>\n",
              "      <td>63</td>\n",
              "      <td>66</td>\n",
              "    </tr>\n",
              "    <tr>\n",
              "      <th>3</th>\n",
              "      <td>0</td>\n",
              "      <td>85</td>\n",
              "      <td>190</td>\n",
              "    </tr>\n",
              "    <tr>\n",
              "      <th>4</th>\n",
              "      <td>0</td>\n",
              "      <td>85</td>\n",
              "      <td>214</td>\n",
              "    </tr>\n",
              "    <tr>\n",
              "      <th>...</th>\n",
              "      <td>...</td>\n",
              "      <td>...</td>\n",
              "      <td>...</td>\n",
              "    </tr>\n",
              "    <tr>\n",
              "      <th>125768</th>\n",
              "      <td>3099</td>\n",
              "      <td>152</td>\n",
              "      <td>172</td>\n",
              "    </tr>\n",
              "    <tr>\n",
              "      <th>125769</th>\n",
              "      <td>3099</td>\n",
              "      <td>152</td>\n",
              "      <td>174</td>\n",
              "    </tr>\n",
              "    <tr>\n",
              "      <th>125770</th>\n",
              "      <td>3099</td>\n",
              "      <td>167</td>\n",
              "      <td>180</td>\n",
              "    </tr>\n",
              "    <tr>\n",
              "      <th>125771</th>\n",
              "      <td>3099</td>\n",
              "      <td>172</td>\n",
              "      <td>178</td>\n",
              "    </tr>\n",
              "    <tr>\n",
              "      <th>125772</th>\n",
              "      <td>3099</td>\n",
              "      <td>236</td>\n",
              "      <td>241</td>\n",
              "    </tr>\n",
              "  </tbody>\n",
              "</table>\n",
              "<p>125773 rows × 3 columns</p>\n",
              "</div>"
            ],
            "text/plain": [
              "        time  node-i  node-j\n",
              "0          0      58      63\n",
              "1          0      59      64\n",
              "2          0      63      66\n",
              "3          0      85     190\n",
              "4          0      85     214\n",
              "...      ...     ...     ...\n",
              "125768  3099     152     172\n",
              "125769  3099     152     174\n",
              "125770  3099     167     180\n",
              "125771  3099     172     178\n",
              "125772  3099     236     241\n",
              "\n",
              "[125773 rows x 3 columns]"
            ]
          },
          "execution_count": 322,
          "metadata": {},
          "output_type": "execute_result"
        }
      ],
      "source": [
        "# Import Network data\n",
        "networkData = pd.read_csv('TD3_primary_undirected_temporal.csv')\n",
        "networkData"
      ]
    },
    {
      "cell_type": "code",
      "execution_count": 323,
      "metadata": {},
      "outputs": [
        {
          "data": {
            "text/html": [
              "<div>\n",
              "<style scoped>\n",
              "    .dataframe tbody tr th:only-of-type {\n",
              "        vertical-align: middle;\n",
              "    }\n",
              "\n",
              "    .dataframe tbody tr th {\n",
              "        vertical-align: top;\n",
              "    }\n",
              "\n",
              "    .dataframe thead th {\n",
              "        text-align: right;\n",
              "    }\n",
              "</style>\n",
              "<table border=\"1\" class=\"dataframe\">\n",
              "  <thead>\n",
              "    <tr style=\"text-align: right;\">\n",
              "      <th></th>\n",
              "      <th>node-index</th>\n",
              "      <th>class</th>\n",
              "      <th>gender</th>\n",
              "    </tr>\n",
              "  </thead>\n",
              "  <tbody>\n",
              "    <tr>\n",
              "      <th>0</th>\n",
              "      <td>0</td>\n",
              "      <td>5B</td>\n",
              "      <td>M</td>\n",
              "    </tr>\n",
              "    <tr>\n",
              "      <th>1</th>\n",
              "      <td>1</td>\n",
              "      <td>5B</td>\n",
              "      <td>F</td>\n",
              "    </tr>\n",
              "    <tr>\n",
              "      <th>2</th>\n",
              "      <td>2</td>\n",
              "      <td>5B</td>\n",
              "      <td>M</td>\n",
              "    </tr>\n",
              "    <tr>\n",
              "      <th>3</th>\n",
              "      <td>3</td>\n",
              "      <td>5B</td>\n",
              "      <td>F</td>\n",
              "    </tr>\n",
              "    <tr>\n",
              "      <th>4</th>\n",
              "      <td>4</td>\n",
              "      <td>5B</td>\n",
              "      <td>M</td>\n",
              "    </tr>\n",
              "    <tr>\n",
              "      <th>...</th>\n",
              "      <td>...</td>\n",
              "      <td>...</td>\n",
              "      <td>...</td>\n",
              "    </tr>\n",
              "    <tr>\n",
              "      <th>237</th>\n",
              "      <td>237</td>\n",
              "      <td>2A</td>\n",
              "      <td>M</td>\n",
              "    </tr>\n",
              "    <tr>\n",
              "      <th>238</th>\n",
              "      <td>238</td>\n",
              "      <td>2A</td>\n",
              "      <td>F</td>\n",
              "    </tr>\n",
              "    <tr>\n",
              "      <th>239</th>\n",
              "      <td>239</td>\n",
              "      <td>2A</td>\n",
              "      <td>M</td>\n",
              "    </tr>\n",
              "    <tr>\n",
              "      <th>240</th>\n",
              "      <td>240</td>\n",
              "      <td>1B</td>\n",
              "      <td>F</td>\n",
              "    </tr>\n",
              "    <tr>\n",
              "      <th>241</th>\n",
              "      <td>241</td>\n",
              "      <td>2A</td>\n",
              "      <td>F</td>\n",
              "    </tr>\n",
              "  </tbody>\n",
              "</table>\n",
              "<p>242 rows × 3 columns</p>\n",
              "</div>"
            ],
            "text/plain": [
              "     node-index class gender\n",
              "0             0    5B      M\n",
              "1             1    5B      F\n",
              "2             2    5B      M\n",
              "3             3    5B      F\n",
              "4             4    5B      M\n",
              "..          ...   ...    ...\n",
              "237         237    2A      M\n",
              "238         238    2A      F\n",
              "239         239    2A      M\n",
              "240         240    1B      F\n",
              "241         241    2A      F\n",
              "\n",
              "[242 rows x 3 columns]"
            ]
          },
          "execution_count": 323,
          "metadata": {},
          "output_type": "execute_result"
        }
      ],
      "source": [
        "# Import MetaData [information on the nodes (class, gender)]\n",
        "metadata = pd.read_csv(\"TD3_primary_metadata.csv\")\n",
        "metadata"
      ]
    },
    {
      "cell_type": "code",
      "execution_count": 324,
      "metadata": {},
      "outputs": [
        {
          "data": {
            "text/plain": [
              "0        0\n",
              "1        1\n",
              "2        2\n",
              "3        3\n",
              "4        4\n",
              "5        5\n",
              "6        6\n",
              "7        7\n",
              "8        8\n",
              "9        9\n",
              "10      10\n",
              "11      11\n",
              "19      19\n",
              "21      21\n",
              "22      22\n",
              "25      25\n",
              "26      26\n",
              "28      28\n",
              "29      29\n",
              "61      61\n",
              "67      67\n",
              "70      70\n",
              "71      71\n",
              "150    150\n",
              "Name: node-index, dtype: int64"
            ]
          },
          "execution_count": 324,
          "metadata": {},
          "output_type": "execute_result"
        }
      ],
      "source": [
        "metadata[ metadata['class']=='5B' ]['node-index']"
      ]
    },
    {
      "cell_type": "markdown",
      "metadata": {},
      "source": [
        "# Initialisation of Simulation"
      ]
    },
    {
      "cell_type": "markdown",
      "metadata": {},
      "source": [
        "\n",
        "1. 1 / alpha : latent period of virus\n",
        "2. 1 / gamma : mean infectious period\n",
        "3. beta : contact rate"
      ]
    },
    {
      "cell_type": "code",
      "execution_count": 325,
      "metadata": {},
      "outputs": [],
      "source": [
        "ALPHA = 1 #S -> E\n",
        "BETA = 0.1  #E -> I\n",
        "GAMMA = 0.01 #I -> R\n",
        "\n",
        "## Flags of State of Nodes\n",
        "SUSCEPTIBLE = 1\n",
        "EXPOSED = 2\n",
        "INFECTIOUS = 3\n",
        "RECOVERED = 4"
      ]
    },
    {
      "cell_type": "markdown",
      "metadata": {},
      "source": [
        "# Simulation"
      ]
    },
    {
      "cell_type": "code",
      "execution_count": 326,
      "metadata": {},
      "outputs": [
        {
          "name": "stdout",
          "output_type": "stream",
          "text": [
            "Number of Nodes:  242\n",
            "(3100, 242)\n"
          ]
        }
      ],
      "source": [
        "tMax = networkData['time'].max()\n",
        "\n",
        "numOfNodes = metadata.shape[0]\n",
        "print(\"Number of Nodes: \", numOfNodes)\n",
        "\n",
        "#Initialisation od Status Matrix, where everyone is susceptible\n",
        "statusMatrix = np.full((tMax+1, numOfNodes), SUSCEPTIBLE)\n",
        "print(statusMatrix.shape)"
      ]
    },
    {
      "cell_type": "code",
      "execution_count": 327,
      "metadata": {},
      "outputs": [
        {
          "name": "stdout",
          "output_type": "stream",
          "text": [
            "[1 1 1 1 1 1 1 1 1 2 1 1 1 1 1 1 1 1 1 1 1 2 1 1 1 2 1 1 2 2 1 2 2 1 2 1 2\n",
            " 1 1 2 1 1 1 1 1 1 1 2 1 1 1 1 1 1 1 1 1 1 2 1 1 1 1 1 1 1 1 2 1 1 2 1 2 1\n",
            " 1 1 1 2 1 2 1 2 2 1 1 1 1 2 2 1 1 1 1 1 1 1 1 1 1 2 1 1 1 2 1 1 1 1 1 1 1\n",
            " 1 1 1 2 2 1 2 1 1 1 1 1 1 1 1 1 2 1 1 1 1 1 1 1 1 1 1 1 1 2 1 2 1 1 1 1 2\n",
            " 2 1 1 2 1 1 1 1 1 1 1 1 1 1 1 2 1 2 1 2 1 1 1 1 2 1 2 2 1 2 1 1 1 1 1 2 1\n",
            " 2 1 1 1 1 1 1 2 2 1 2 1 2 1 1 1 1 2 2 1 1 1 1 2 1 1 2 1 1 1 1 2 1 1 1 1 1\n",
            " 1 1 1 1 1 1 1 1 2 1 1 1 1 1 1 1 1 1 1 1]\n"
          ]
        }
      ],
      "source": [
        "NUMOFPATIENTZERO = int(0.25*numOfNodes)\n",
        "np.random.seed(0)\n",
        "patientZerosArray = np.random.randint(0, numOfNodes, size=NUMOFPATIENTZERO)\n",
        "for patientZero in patientZerosArray:\n",
        "    statusMatrix[0][patientZero] = EXPOSED\n",
        "\n",
        "print(statusMatrix[0])"
      ]
    },
    {
      "cell_type": "code",
      "execution_count": 328,
      "metadata": {},
      "outputs": [
        {
          "name": "stdout",
          "output_type": "stream",
          "text": [
            "defaultdict(<class 'list'>, {58: [63], 63: [58, 66], 59: [64], 64: [59], 66: [63], 85: [190, 214], 190: [85], 214: [85, 191], 102: [115], 115: [102], 191: [199, 214], 199: [191]})\n"
          ]
        }
      ],
      "source": [
        "from collections import defaultdict\n",
        "edgesDictionaryWRTTime = [defaultdict(list) for time in range(0, tMax + 1)]\n",
        "\n",
        "for time, node_i, node_j in networkData.values:\n",
        "    edgesDictionaryWRTTime[time][node_i].append(node_j)\n",
        "    edgesDictionaryWRTTime[time][node_j].append(node_i)\n",
        "print(edgesDictionaryWRTTime[0])"
      ]
    },
    {
      "cell_type": "code",
      "execution_count": 329,
      "metadata": {},
      "outputs": [],
      "source": [
        "rand = lambda proba, numOfNodes: np.random.uniform(0, 1, size=numOfNodes) < proba"
      ]
    },
    {
      "cell_type": "markdown",
      "metadata": {},
      "source": [
        "# Vaccination Strategies \n",
        "\n",
        "This section defines functions that are run for each timestep, and vaccinate susceptible people based on some strategy.\n",
        " "
      ]
    },
    {
      "cell_type": "markdown",
      "metadata": {},
      "source": [
        "### 1. Random vaccination\n",
        "\n",
        "Randomly vaccinate a proportion of the population to vaccinate on pre-decided time-steps."
      ]
    },
    {
      "cell_type": "code",
      "execution_count": 330,
      "metadata": {},
      "outputs": [],
      "source": [
        "def random_vaccination_strategy(\n",
        "    curr_timestep, \n",
        "    VAX_TIMESTEPS, \n",
        "    statusMatrix, \n",
        "    proportionToVax\n",
        "    ): \n",
        "    if curr_timestep in VAX_TIMESTEPS: \n",
        "        # Vaccinating people in each valid timestep \n",
        "        susceptiblePopulation = np.where(statusMatrix[curr_timestep] == SUSCEPTIBLE)[0]\n",
        "        newlyVaccinated = susceptiblePopulation[rand(proportionToVax, len(susceptiblePopulation))]\n",
        "        statusMatrix[curr_timestep, newlyVaccinated] = RECOVERED\n",
        "    return statusMatrix"
      ]
    },
    {
      "cell_type": "markdown",
      "metadata": {},
      "source": [
        "### 2. Periodic Timestep Vaccination \n",
        " \n",
        " Randomly vaccinate a certain amount of the population based on the period given"
      ]
    },
    {
      "cell_type": "code",
      "execution_count": 331,
      "metadata": {},
      "outputs": [],
      "source": [
        "def periodic_vaccination_strategy(curr_timestep, PERIOD, statusMatrix, proportionToVax):  \n",
        "    # We will reuse the random vaccination strat function, \n",
        "    # But the effect is the same\n",
        "    return random_vaccination_strategy(\n",
        "            curr_timestep, \n",
        "            VAX_TIMESTEPS=range(1, tMax, PERIOD), \n",
        "            statusMatrix=statusMatrix, \n",
        "            proportionToVax=proportionToVax\n",
        "            )"
      ]
    },
    {
      "cell_type": "markdown",
      "metadata": {},
      "source": [
        "### 3. Constants doses of Vaccin\n",
        "Now, we want to know, given a constant number of vaccine doses, if we've better to give all doses on the same time at the beginning of the epidemic discovery or to split it continuously during a certain period of time."
      ]
    },
    {
      "cell_type": "code",
      "execution_count": 332,
      "metadata": {},
      "outputs": [],
      "source": [
        "def periodic_vaccination_strategy(curr_timestep, PERIODBETWEENVAX, NDOSES, statusMatrix, NDOSESUSED):  \n",
        "    # We will reuse the random vaccination strat function, \n",
        "    # But the effect is the same\n",
        "    return random_vaccination_strategy(\n",
        "            curr_timestep, \n",
        "            VAX_TIMESTEPS=[PERIODBETWEENVAX*k for k in range(NDOSES//NDOSESUSED)], \n",
        "            statusMatrix=statusMatrix, \n",
        "            proportionToVax=NDOSESUSED/len(statusMatrix[0])\n",
        "            )"
      ]
    },
    {
      "cell_type": "markdown",
      "metadata": {},
      "source": [
        "### 4. Stratified Vaccination\n",
        "\n",
        "Here, we vaccinate a percentage of each class, say 5A or 5B as part of the strategy. For example, we can vaccinate 10% of 5A and 10% of 5B so as to vaccinate 20% of the population as before, but the difference comes in the potential networks that we can have due to the classes."
      ]
    },
    {
      "cell_type": "code",
      "execution_count": 333,
      "metadata": {},
      "outputs": [],
      "source": [
        "def stratified_vaccination_strategy (\n",
        "    curr_timestep, \n",
        "    VAX_TIMESTEPS,\n",
        "    percentage_per_class, \n",
        "    statusMatrix, \n",
        "    ): \n",
        "    \n",
        "# Here, we need to select `class_percent` of each class, \n",
        "# and vaccinate them according to random_vaccination_strategy. \n",
        "# We assume that `metadata` from the file `TD3_primary_metadata.csv` \n",
        "# is available.\n",
        "    if curr_timestep not in VAX_TIMESTEPS: \n",
        "        # Do nothing if we shouldn't vaclass_percentcinate this round\n",
        "        return statusMatrix; \n",
        "    \n",
        "    # Else, we vaccinate stratified-ly :)\n",
        "    for _class, class_percent in percentage_per_class.items(): \n",
        "        nodes = metadata[ metadata['class']==_class ]['node-index']\n",
        "        print( statusMatrix[timestep][nodes])\n",
        "        statusMatrix[:][nodes] = random_vaccination_strategy(\n",
        "            curr_timestep, VAX_TIMESTEPS,\n",
        "            statusMatrix[:][nodes], \n",
        "            class_percent\n",
        "        ); \n",
        "    return statusMatrix"
      ]
    },
    {
      "cell_type": "code",
      "execution_count": 334,
      "metadata": {},
      "outputs": [
        {
          "name": "stdout",
          "output_type": "stream",
          "text": [
            "[  0   1   2   4   5   6   7   9  10  11  12  13  17  18  19  20  21  22\n",
            "  23  25  28  29  30  31  32  34  35  36  37  38  39  41  43  44  45  47\n",
            "  50  52  55  56  57  58  59  60  62  63  64  65  66  67  68  69  70  71\n",
            "  72  74  75  77  78  79  80  81  82  83  87  88  89  90  91  94  95  96\n",
            "  97  98  99 100 101 102 103 104 105 106 107 108 109 110 111 112 113 114\n",
            " 115 116 117 118 120 121 122 123 124 125 126 127 129 130 131 132 133 134\n",
            " 135 137 140 141 142 143 144 146 147 148 149 151 152 153 154 155 156 157\n",
            " 158 159 160 161 162 163 164 165 166 167 169 170 172 173 174 175 176 177\n",
            " 178 180 182 183 184 185 186 188 189 192 193 195 197 198 199 200 201 202\n",
            " 203 204 205 206 207 208 210 211 212 213 214 216 218 220 222 223 228 230\n",
            " 231 232 233 234 235 236 237 238 239 240 241]\n"
          ]
        }
      ],
      "source": [
        "VAX_TIMESTEPS = [2] # For random vaccination strategy\n",
        "VAX_PERIOD = 7 # For the periodic vaccinations strategy\n",
        "VAX_STRATIFIED = {'5B': 0.1, '2A': 0.1}; # For the stratified vaccination strategy.\n",
        "PERIODBETWEENVAX = 100\n",
        "NDOSES = 100\n",
        "NDOSESUSED = 20\n",
        "\n",
        "for t in range(tMax):\n",
        "    \n",
        "    # Now vaccinating at timesteps near you ... \n",
        "    # 1. Random strat -\n",
        "    # statusMatrix = random_vaccination_strategy(t, VAX_TIMESTEPS, statusMatrix, proportionToVax=0.1)\n",
        "    \n",
        "    # 2. Periodic strat - \n",
        "    #statusMatrix = periodic_vaccination_strategy(t, VAX_PERIOD, statusMatrix, proportionToVax=0.1)\n",
        "    \n",
        "    # 3. constant doses of Vaccins\n",
        "    statusMatrix = periodic_vaccination_strategy(t, PERIODBETWEENVAX, NDOSES, statusMatrix, NDOSESUSED)\n",
        "\n",
        "    # 4. Stratified Vaccination Strategy \n",
        "    # statusMatrix = stratified_vaccination_strategy(\n",
        "    #     curr_timestep=t, \n",
        "    #     VAX_TIMESTEPS=VAX_TIMESTEPS,\n",
        "    #     percentage_per_class=VAX_STRATIFIED, \n",
        "    #     statusMatrix=statusMatrix\n",
        "    # )\n",
        "\n",
        "    \n",
        "    statusMatrix[t+1] = statusMatrix[t]\n",
        "    exposedPopulation = np.where(statusMatrix[t]==EXPOSED)[0]\n",
        "    newlyInfectious = exposedPopulation[rand(ALPHA,len(exposedPopulation))]\n",
        "    statusMatrix[t+1, newlyInfectious] = INFECTIOUS\n",
        "\n",
        "    InfectiousPopulation = np.where(statusMatrix[t]==INFECTIOUS)[0]\n",
        "    riskContact = np.array([node_j for node_i in InfectiousPopulation for node_j in edgesDictionaryWRTTime[t][node_i] if statusMatrix[t,node_j]==SUSCEPTIBLE], dtype=int)\n",
        "    newlyExposed = riskContact[rand(BETA, len(riskContact))]\n",
        "    statusMatrix[t+1, newlyExposed] = EXPOSED\n",
        "    \n",
        "    newlyRecovered = InfectiousPopulation[rand(GAMMA, len(InfectiousPopulation))]\n",
        "    statusMatrix[t+1, newlyRecovered] = RECOVERED\n",
        "\n",
        "    \n",
        "print(np.where(statusMatrix[tMax]==RECOVERED)[0])"
      ]
    },
    {
      "cell_type": "code",
      "execution_count": 335,
      "metadata": {},
      "outputs": [
        {
          "name": "stdout",
          "output_type": "stream",
          "text": [
            "[1 1 1 1 1 1 1 1 1 3 1 1 1 1 1 1 1 1 4 1 1 3 1 1 1 3 1 1 3 3 1 3 3 1 3 1 3\n",
            " 1 1 3 1 1 1 4 1 1 1 3 1 1 4 1 4 1 1 1 1 1 3 1 1 1 1 1 1 1 1 3 1 1 3 4 3 1\n",
            " 1 1 1 3 1 3 1 3 3 1 1 1 1 3 3 1 1 1 1 1 1 1 1 1 1 3 1 1 1 3 1 1 1 1 1 1 1\n",
            " 1 1 1 3 3 1 3 1 1 1 1 1 1 1 1 1 3 1 1 4 1 1 1 1 1 1 1 1 1 3 1 3 1 1 1 1 3\n",
            " 3 4 1 3 1 1 1 1 1 4 1 1 1 4 1 3 4 3 1 3 1 1 1 1 3 1 3 3 1 3 1 1 1 1 1 3 1\n",
            " 3 1 1 1 4 1 1 3 3 1 3 1 3 1 1 1 1 3 3 1 1 1 1 3 1 1 3 1 1 4 1 3 1 1 1 1 1\n",
            " 1 1 1 1 1 1 1 1 3 1 1 1 1 1 1 1 4 1 1 1]\n",
            "     1   2   4   3\n",
            "0  178  51  13   0\n",
            "1  178   0  13  51\n",
            "2  178   0  14  50\n",
            "3  177   1  16  48\n",
            "4  176   1  16  49\n"
          ]
        }
      ],
      "source": [
        "# Plotting the growth of S, E, I and R populations\n",
        "listPopulations = [] # List of dicts, indexed by timestep #np.zeros(shape=(tMax))\n",
        "print(statusMatrix[1])\n",
        "for timestep in range(tMax):\n",
        "    temp = np.unique(statusMatrix[timestep], return_counts=True)\n",
        "    #print(temp)\n",
        "    listPopulations.append( dict(zip(temp[0], temp[1])) )\n",
        "\n",
        "listPopulations = pd.DataFrame.from_dict(listPopulations).fillna(0).astype(int)\n",
        "print(listPopulations.head())\n",
        "# Do this at your own risk.\n",
        "# print(listPopulations)"
      ]
    },
    {
      "cell_type": "code",
      "execution_count": 336,
      "metadata": {},
      "outputs": [
        {
          "data": {
            "image/png": "[encoded data removed]",
            "text/plain": [
              "<Figure size 432x288 with 1 Axes>"
            ]
          },
          "metadata": {
            "needs_background": "light"
          },
          "output_type": "display_data"
        }
      ],
      "source": [
        "# Now we're plotting things\n",
        "listPopulations.rename(columns={1 : \"Susceptible\", 2: \"Exposed\", 3: \"Infectious\", 4: \"Recovered\"}, inplace=True)\n",
        "listPopulations.plot()\n",
        "plt.legend()\n",
        "plt.grid()"
      ]
    },
    {
      "cell_type": "code",
      "execution_count": 337,
      "metadata": {},
      "outputs": [
        {
          "name": "stderr",
          "output_type": "stream",
          "text": [
            "No handles with labels found to put in legend.\n"
          ]
        },
        {
          "data": {
            "image/png": "[encoded data removed]",
            "text/plain": [
              "<Figure size 432x288 with 1 Axes>"
            ]
          },
          "metadata": {
            "needs_background": "light"
          },
          "output_type": "display_data"
        }
      ],
      "source": [
        "plt.plot (listPopulations['Infectious']/listPopulations['Susceptible'])\n",
        "plt.legend()\n",
        "plt.grid()"
      ]
    }
  ],
  "metadata": {
    "colab": {
      "collapsed_sections": [],
      "name": "SEIRModel_with_Vaccination.ipynb",
      "provenance": []
    },
    "kernelspec": {
      "display_name": "Python 3",
      "name": "python3"
    },
    "language_info": {
      "codemirror_mode": {
        "name": "ipython",
        "version": 3
      },
      "file_extension": ".py",
      "mimetype": "text/x-python",
      "name": "python",
      "nbconvert_exporter": "python",
      "pygments_lexer": "ipython3",
      "version": "3.9.7"
    }
  },
  "nbformat": 4,
  "nbformat_minor": 0
}
