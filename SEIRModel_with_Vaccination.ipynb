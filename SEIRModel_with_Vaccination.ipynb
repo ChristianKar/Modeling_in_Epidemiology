{
  "cells": [
    {
      "cell_type": "markdown",
      "metadata": {
        "id": "Eh0JtAPY5buW"
      },
      "source": [
        "\n",
        "Optionals: \n",
        "1. We might need to implement random data at the end of the project."
      ]
    },
    {
      "cell_type": "markdown",
      "metadata": {},
      "source": [
        "# Import of Important Library, Network and Meta Data"
      ]
    },
    {
      "cell_type": "code",
<<<<<<< HEAD
      "execution_count": 1,
=======
      "execution_count": 321,
>>>>>>> b2f24dfcc245677e613b9cac2d35548f146f9e9d
      "metadata": {
        "id": "awUsYD2q1oS5"
      },
      "outputs": [],
      "source": [
        "import igraph as ig\n",
        "import numpy as np\n",
        "import pandas as pd\n",
        "import matplotlib.pyplot as plt"
      ]
    },
    {
      "cell_type": "code",
<<<<<<< HEAD
      "execution_count": 2,
=======
      "execution_count": 322,
>>>>>>> b2f24dfcc245677e613b9cac2d35548f146f9e9d
      "metadata": {
        "colab": {
          "base_uri": "https://localhost:8080/",
          "height": 423
        },
        "id": "S9C8f-sP2mlV",
        "outputId": "7847fabb-f91b-44d0-b6c2-c174e1bdb7e4"
      },
      "outputs": [
        {
          "data": {
            "text/html": [
              "<div>\n",
              "<style scoped>\n",
              "    .dataframe tbody tr th:only-of-type {\n",
              "        vertical-align: middle;\n",
              "    }\n",
              "\n",
              "    .dataframe tbody tr th {\n",
              "        vertical-align: top;\n",
              "    }\n",
              "\n",
              "    .dataframe thead th {\n",
              "        text-align: right;\n",
              "    }\n",
              "</style>\n",
              "<table border=\"1\" class=\"dataframe\">\n",
              "  <thead>\n",
              "    <tr style=\"text-align: right;\">\n",
              "      <th></th>\n",
              "      <th>time</th>\n",
              "      <th>node-i</th>\n",
              "      <th>node-j</th>\n",
              "    </tr>\n",
              "  </thead>\n",
              "  <tbody>\n",
              "    <tr>\n",
              "      <th>0</th>\n",
              "      <td>0</td>\n",
              "      <td>58</td>\n",
              "      <td>63</td>\n",
              "    </tr>\n",
              "    <tr>\n",
              "      <th>1</th>\n",
              "      <td>0</td>\n",
              "      <td>59</td>\n",
              "      <td>64</td>\n",
              "    </tr>\n",
              "    <tr>\n",
              "      <th>2</th>\n",
              "      <td>0</td>\n",
              "      <td>63</td>\n",
              "      <td>66</td>\n",
              "    </tr>\n",
              "    <tr>\n",
              "      <th>3</th>\n",
              "      <td>0</td>\n",
              "      <td>85</td>\n",
              "      <td>190</td>\n",
              "    </tr>\n",
              "    <tr>\n",
              "      <th>4</th>\n",
              "      <td>0</td>\n",
              "      <td>85</td>\n",
              "      <td>214</td>\n",
              "    </tr>\n",
              "    <tr>\n",
              "      <th>...</th>\n",
              "      <td>...</td>\n",
              "      <td>...</td>\n",
              "      <td>...</td>\n",
              "    </tr>\n",
              "    <tr>\n",
              "      <th>125768</th>\n",
              "      <td>3099</td>\n",
              "      <td>152</td>\n",
              "      <td>172</td>\n",
              "    </tr>\n",
              "    <tr>\n",
              "      <th>125769</th>\n",
              "      <td>3099</td>\n",
              "      <td>152</td>\n",
              "      <td>174</td>\n",
              "    </tr>\n",
              "    <tr>\n",
              "      <th>125770</th>\n",
              "      <td>3099</td>\n",
              "      <td>167</td>\n",
              "      <td>180</td>\n",
              "    </tr>\n",
              "    <tr>\n",
              "      <th>125771</th>\n",
              "      <td>3099</td>\n",
              "      <td>172</td>\n",
              "      <td>178</td>\n",
              "    </tr>\n",
              "    <tr>\n",
              "      <th>125772</th>\n",
              "      <td>3099</td>\n",
              "      <td>236</td>\n",
              "      <td>241</td>\n",
              "    </tr>\n",
              "  </tbody>\n",
              "</table>\n",
              "<p>125773 rows × 3 columns</p>\n",
              "</div>"
            ],
            "text/plain": [
              "        time  node-i  node-j\n",
              "0          0      58      63\n",
              "1          0      59      64\n",
              "2          0      63      66\n",
              "3          0      85     190\n",
              "4          0      85     214\n",
              "...      ...     ...     ...\n",
              "125768  3099     152     172\n",
              "125769  3099     152     174\n",
              "125770  3099     167     180\n",
              "125771  3099     172     178\n",
              "125772  3099     236     241\n",
              "\n",
              "[125773 rows x 3 columns]"
            ]
          },
<<<<<<< HEAD
          "execution_count": 2,
=======
          "execution_count": 322,
>>>>>>> b2f24dfcc245677e613b9cac2d35548f146f9e9d
          "metadata": {},
          "output_type": "execute_result"
        }
      ],
      "source": [
        "# Import Network data\n",
        "networkData = pd.read_csv('TD3_primary_undirected_temporal.csv')\n",
        "networkData"
      ]
    },
    {
      "cell_type": "code",
<<<<<<< HEAD
      "execution_count": 3,
=======
      "execution_count": 323,
>>>>>>> b2f24dfcc245677e613b9cac2d35548f146f9e9d
      "metadata": {},
      "outputs": [
        {
          "data": {
            "text/html": [
              "<div>\n",
              "<style scoped>\n",
              "    .dataframe tbody tr th:only-of-type {\n",
              "        vertical-align: middle;\n",
              "    }\n",
              "\n",
              "    .dataframe tbody tr th {\n",
              "        vertical-align: top;\n",
              "    }\n",
              "\n",
              "    .dataframe thead th {\n",
              "        text-align: right;\n",
              "    }\n",
              "</style>\n",
              "<table border=\"1\" class=\"dataframe\">\n",
              "  <thead>\n",
              "    <tr style=\"text-align: right;\">\n",
              "      <th></th>\n",
              "      <th>node-index</th>\n",
              "      <th>class</th>\n",
              "      <th>gender</th>\n",
              "    </tr>\n",
              "  </thead>\n",
              "  <tbody>\n",
              "    <tr>\n",
              "      <th>0</th>\n",
              "      <td>0</td>\n",
              "      <td>5B</td>\n",
              "      <td>M</td>\n",
              "    </tr>\n",
              "    <tr>\n",
              "      <th>1</th>\n",
              "      <td>1</td>\n",
              "      <td>5B</td>\n",
              "      <td>F</td>\n",
              "    </tr>\n",
              "    <tr>\n",
              "      <th>2</th>\n",
              "      <td>2</td>\n",
              "      <td>5B</td>\n",
              "      <td>M</td>\n",
              "    </tr>\n",
              "    <tr>\n",
              "      <th>3</th>\n",
              "      <td>3</td>\n",
              "      <td>5B</td>\n",
              "      <td>F</td>\n",
              "    </tr>\n",
              "    <tr>\n",
              "      <th>4</th>\n",
              "      <td>4</td>\n",
              "      <td>5B</td>\n",
              "      <td>M</td>\n",
              "    </tr>\n",
              "    <tr>\n",
              "      <th>...</th>\n",
              "      <td>...</td>\n",
              "      <td>...</td>\n",
              "      <td>...</td>\n",
              "    </tr>\n",
              "    <tr>\n",
              "      <th>237</th>\n",
              "      <td>237</td>\n",
              "      <td>2A</td>\n",
              "      <td>M</td>\n",
              "    </tr>\n",
              "    <tr>\n",
              "      <th>238</th>\n",
              "      <td>238</td>\n",
              "      <td>2A</td>\n",
              "      <td>F</td>\n",
              "    </tr>\n",
              "    <tr>\n",
              "      <th>239</th>\n",
              "      <td>239</td>\n",
              "      <td>2A</td>\n",
              "      <td>M</td>\n",
              "    </tr>\n",
              "    <tr>\n",
              "      <th>240</th>\n",
              "      <td>240</td>\n",
              "      <td>1B</td>\n",
              "      <td>F</td>\n",
              "    </tr>\n",
              "    <tr>\n",
              "      <th>241</th>\n",
              "      <td>241</td>\n",
              "      <td>2A</td>\n",
              "      <td>F</td>\n",
              "    </tr>\n",
              "  </tbody>\n",
              "</table>\n",
              "<p>242 rows × 3 columns</p>\n",
              "</div>"
            ],
            "text/plain": [
              "     node-index class gender\n",
              "0             0    5B      M\n",
              "1             1    5B      F\n",
              "2             2    5B      M\n",
              "3             3    5B      F\n",
              "4             4    5B      M\n",
              "..          ...   ...    ...\n",
              "237         237    2A      M\n",
              "238         238    2A      F\n",
              "239         239    2A      M\n",
              "240         240    1B      F\n",
              "241         241    2A      F\n",
              "\n",
              "[242 rows x 3 columns]"
            ]
          },
<<<<<<< HEAD
          "execution_count": 3,
=======
          "execution_count": 323,
>>>>>>> b2f24dfcc245677e613b9cac2d35548f146f9e9d
          "metadata": {},
          "output_type": "execute_result"
        }
      ],
      "source": [
        "# Import MetaData [information on the nodes (class, gender)]\n",
        "metadata = pd.read_csv(\"TD3_primary_metadata.csv\")\n",
        "metadata"
      ]
    },
    {
      "cell_type": "code",
<<<<<<< HEAD
      "execution_count": 4,
=======
      "execution_count": 324,
>>>>>>> b2f24dfcc245677e613b9cac2d35548f146f9e9d
      "metadata": {},
      "outputs": [
        {
          "data": {
            "text/plain": [
              "0        0\n",
              "1        1\n",
              "2        2\n",
              "3        3\n",
              "4        4\n",
              "5        5\n",
              "6        6\n",
              "7        7\n",
              "8        8\n",
              "9        9\n",
              "10      10\n",
              "11      11\n",
              "19      19\n",
              "21      21\n",
              "22      22\n",
              "25      25\n",
              "26      26\n",
              "28      28\n",
              "29      29\n",
              "61      61\n",
              "67      67\n",
              "70      70\n",
              "71      71\n",
              "150    150\n",
              "Name: node-index, dtype: int64"
            ]
          },
<<<<<<< HEAD
          "execution_count": 4,
=======
          "execution_count": 324,
>>>>>>> b2f24dfcc245677e613b9cac2d35548f146f9e9d
          "metadata": {},
          "output_type": "execute_result"
        }
      ],
      "source": [
        "metadata[ metadata['class']=='5B' ]['node-index']"
      ]
    },
    {
      "cell_type": "markdown",
      "metadata": {},
      "source": [
        "# Initialisation of Simulation"
      ]
    },
    {
      "cell_type": "markdown",
      "metadata": {},
      "source": [
        "\n",
        "1. 1 / alpha : latent period of virus\n",
        "2. 1 / gamma : mean infectious period\n",
        "3. beta : contact rate"
      ]
    },
    {
      "cell_type": "code",
<<<<<<< HEAD
      "execution_count": 5,
=======
      "execution_count": 325,
>>>>>>> b2f24dfcc245677e613b9cac2d35548f146f9e9d
      "metadata": {},
      "outputs": [],
      "source": [
        "ALPHA = 1 #S -> E\n",
        "BETA = 0.1  #E -> I\n",
        "GAMMA = 0.01 #I -> R\n",
        "\n",
        "## Flags of State of Nodes\n",
        "SUSCEPTIBLE = 1\n",
        "EXPOSED = 2\n",
        "INFECTIOUS = 3\n",
        "RECOVERED = 4"
      ]
    },
    {
      "cell_type": "markdown",
      "metadata": {},
      "source": [
        "# Simulation"
      ]
    },
    {
      "cell_type": "code",
<<<<<<< HEAD
      "execution_count": 6,
=======
      "execution_count": 326,
>>>>>>> b2f24dfcc245677e613b9cac2d35548f146f9e9d
      "metadata": {},
      "outputs": [
        {
          "name": "stdout",
          "output_type": "stream",
          "text": [
            "Number of Nodes:  242\n",
            "(3100, 242)\n"
          ]
        }
      ],
      "source": [
        "tMax = networkData['time'].max()\n",
        "\n",
        "numOfNodes = metadata.shape[0]\n",
        "print(\"Number of Nodes: \", numOfNodes)\n",
        "\n",
        "#Initialisation od Status Matrix, where everyone is susceptible\n",
        "statusMatrix = np.full((tMax+1, numOfNodes), SUSCEPTIBLE)\n",
        "print(statusMatrix.shape)"
      ]
    },
    {
      "cell_type": "code",
<<<<<<< HEAD
      "execution_count": 8,
=======
      "execution_count": 327,
>>>>>>> b2f24dfcc245677e613b9cac2d35548f146f9e9d
      "metadata": {},
      "outputs": [],
      "source": [
        "NUMOFPATIENTZERO = int(0.25*numOfNodes)\n",
        "np.random.seed(0)\n",
        "patientZerosArray = np.random.randint(0, numOfNodes, size=NUMOFPATIENTZERO)\n",
        "for patientZero in patientZerosArray:\n",
        "    statusMatrix[0][patientZero] = EXPOSED\n",
        "\n",
        "# print(statusMatrix[0])"
      ]
    },
    {
      "cell_type": "code",
<<<<<<< HEAD
      "execution_count": 9,
=======
      "execution_count": 328,
>>>>>>> b2f24dfcc245677e613b9cac2d35548f146f9e9d
      "metadata": {},
      "outputs": [],
      "source": [
        "from collections import defaultdict\n",
        "edgesDictionaryWRTTime = [defaultdict(list) for time in range(0, tMax + 1)]\n",
        "\n",
        "for time, node_i, node_j in networkData.values:\n",
        "    edgesDictionaryWRTTime[time][node_i].append(node_j)\n",
        "    edgesDictionaryWRTTime[time][node_j].append(node_i)\n",
        "# print(edgesDictionaryWRTTime[0])"
      ]
    },
    {
      "cell_type": "code",
<<<<<<< HEAD
      "execution_count": 10,
=======
      "execution_count": 329,
>>>>>>> b2f24dfcc245677e613b9cac2d35548f146f9e9d
      "metadata": {},
      "outputs": [],
      "source": [
        "rand = lambda proba, numOfNodes: np.random.uniform(0, 1, size=numOfNodes) < proba"
      ]
    },
    {
      "cell_type": "markdown",
      "metadata": {},
      "source": [
        "# Vaccination Strategies \n",
        "\n",
        "This section defines functions that are run for each timestep, and vaccinate susceptible people based on some strategy.\n",
        " "
      ]
    },
    {
      "cell_type": "markdown",
      "metadata": {},
      "source": [
        "### 1. Random vaccination\n",
        "\n",
        "Randomly vaccinate a proportion of the population to vaccinate on pre-decided time-steps."
      ]
    },
    {
      "cell_type": "code",
<<<<<<< HEAD
      "execution_count": 11,
=======
      "execution_count": 330,
>>>>>>> b2f24dfcc245677e613b9cac2d35548f146f9e9d
      "metadata": {},
      "outputs": [],
      "source": [
        "def random_vaccination_strategy(\n",
        "    curr_timestep, \n",
        "    VAX_TIMESTEPS, \n",
        "    statusMatrix, \n",
        "    proportionToVax\n",
        "    ): \n",
        "    if curr_timestep in VAX_TIMESTEPS: \n",
        "        # Vaccinating people in each valid timestep \n",
        "        susceptiblePopulation = np.where(statusMatrix[curr_timestep] == SUSCEPTIBLE)[0]\n",
        "        newlyVaccinated = susceptiblePopulation[rand(proportionToVax, len(susceptiblePopulation))]\n",
        "        statusMatrix[curr_timestep, newlyVaccinated] = RECOVERED\n",
        "    return statusMatrix"
      ]
    },
    {
      "cell_type": "markdown",
      "metadata": {},
      "source": [
        "### 2. Periodic Timestep Vaccination \n",
        " \n",
        " Randomly vaccinate a certain amount of the population based on the period given"
      ]
    },
    {
      "cell_type": "code",
<<<<<<< HEAD
      "execution_count": null,
=======
      "execution_count": 331,
>>>>>>> b2f24dfcc245677e613b9cac2d35548f146f9e9d
      "metadata": {},
      "outputs": [],
      "source": [
        "def periodic_vaccination_strategy(curr_timestep, PERIOD, statusMatrix, proportionToVax):  \n",
        "    # We will reuse the random vaccination strat function, \n",
        "    # But the effect is the same\n",
        "    return random_vaccination_strategy(\n",
        "            curr_timestep, \n",
        "            VAX_TIMESTEPS=range(1, tMax, PERIOD), \n",
        "            statusMatrix=statusMatrix, \n",
        "            proportionToVax=proportionToVax\n",
        "            )"
      ]
    },
    {
      "cell_type": "markdown",
      "metadata": {},
      "source": [
        "### 3. Constants doses of Vaccin\n",
        "Now, we want to know, given a constant number of vaccine doses, if we've better to give all doses on the same time at the beginning of the epidemic discovery or to split it continuously during a certain period of time."
      ]
    },
    {
      "cell_type": "code",
      "execution_count": 332,
      "metadata": {},
      "outputs": [],
      "source": [
        "def periodic_vaccination_strategy(curr_timestep, PERIODBETWEENVAX, NDOSES, statusMatrix, NDOSESUSED):  \n",
        "    # We will reuse the random vaccination strat function, \n",
        "    # But the effect is the same\n",
        "    return random_vaccination_strategy(\n",
        "            curr_timestep, \n",
        "            VAX_TIMESTEPS=[PERIODBETWEENVAX*k for k in range(NDOSES//NDOSESUSED)], \n",
        "            statusMatrix=statusMatrix, \n",
        "            proportionToVax=NDOSESUSED/len(statusMatrix[0])\n",
        "            )"
      ]
    },
    {
      "cell_type": "markdown",
      "metadata": {},
      "source": [
        "### 4. Stratified Vaccination\n",
        "\n",
        "Here, we vaccinate a percentage of each class, say 5A or 5B as part of the strategy. For example, we can vaccinate 10% of 5A and 10% of 5B so as to vaccinate 20% of the population as before, but the difference comes in the potential networks that we can have due to the classes."
      ]
    },
    {
      "cell_type": "code",
<<<<<<< HEAD
      "execution_count": null,
=======
      "execution_count": 333,
>>>>>>> b2f24dfcc245677e613b9cac2d35548f146f9e9d
      "metadata": {},
      "outputs": [],
      "source": [
        "def stratified_vaccination_strategy (\n",
        "    curr_timestep, \n",
        "    VAX_TIMESTEPS,\n",
        "    percentage_per_class, \n",
        "    statusMatrix, \n",
        "    ): \n",
        "    \n",
        "# Here, we need to select `class_percent` of each class, \n",
        "# and vaccinate them according to random_vaccination_strategy. \n",
        "# We assume that `metadata` from the file `TD3_primary_metadata.csv` \n",
        "# is available.\n",
        "    if curr_timestep not in VAX_TIMESTEPS: \n",
        "        # Do nothing if we shouldn't vaclass_percentcinate this round\n",
        "        return statusMatrix; \n",
        "    \n",
        "    # Else, we vaccinate stratified-ly :)\n",
        "    for _class, class_percent in percentage_per_class.items(): \n",
        "        nodes = metadata[ metadata['class']==_class ]['node-index']\n",
        "        print( statusMatrix[timestep][nodes])\n",
        "        statusMatrix[:][nodes] = random_vaccination_strategy(\n",
        "            curr_timestep, VAX_TIMESTEPS,\n",
        "            statusMatrix[:][nodes], \n",
        "            class_percent\n",
        "        ); \n",
        "    return statusMatrix"
      ]
    },
    {
      "cell_type": "code",
<<<<<<< HEAD
      "execution_count": 12,
=======
      "execution_count": 334,
>>>>>>> b2f24dfcc245677e613b9cac2d35548f146f9e9d
      "metadata": {},
      "outputs": [
        {
          "name": "stdout",
          "output_type": "stream",
          "text": [
<<<<<<< HEAD
            "[  0   1   3   4   5   6   7   8   9  10  11  12  14  15  16  17  18  19\n",
            "  20  21  22  23  24  25  26  27  28  29  31  32  33  34  35  36  38  39\n",
            "  40  43  44  47  48  49  50  54  57  58  59  62  63  64  66  67  68  69\n",
            "  70  71  72  74  75  76  77  78  79  80  81  82  83  87  88  90  91  92\n",
            "  94  95  96  97  98  99 102 103 104 105 106 107 108 110 111 112 113 114\n",
            " 115 116 117 118 120 122 124 125 127 128 130 131 132 133 134 137 138 140\n",
            " 141 142 144 146 147 148 150 151 152 153 155 156 157 159 160 161 162 163\n",
            " 164 165 166 167 169 171 172 173 174 175 176 177 178 183 185 188 191 192\n",
            " 193 194 195 197 202 203 204 205 206 207 208 209 211 212 215 216 218 220\n",
            " 222 223 226 227 228 229 230 231 232 234 235 237 238 239 240 241]\n"
=======
            "[  0   1   2   4   5   6   7   9  10  11  12  13  17  18  19  20  21  22\n",
            "  23  25  28  29  30  31  32  34  35  36  37  38  39  41  43  44  45  47\n",
            "  50  52  55  56  57  58  59  60  62  63  64  65  66  67  68  69  70  71\n",
            "  72  74  75  77  78  79  80  81  82  83  87  88  89  90  91  94  95  96\n",
            "  97  98  99 100 101 102 103 104 105 106 107 108 109 110 111 112 113 114\n",
            " 115 116 117 118 120 121 122 123 124 125 126 127 129 130 131 132 133 134\n",
            " 135 137 140 141 142 143 144 146 147 148 149 151 152 153 154 155 156 157\n",
            " 158 159 160 161 162 163 164 165 166 167 169 170 172 173 174 175 176 177\n",
            " 178 180 182 183 184 185 186 188 189 192 193 195 197 198 199 200 201 202\n",
            " 203 204 205 206 207 208 210 211 212 213 214 216 218 220 222 223 228 230\n",
            " 231 232 233 234 235 236 237 238 239 240 241]\n"
>>>>>>> b2f24dfcc245677e613b9cac2d35548f146f9e9d
          ]
        }
      ],
      "source": [
        "VAX_TIMESTEPS = [2] # For random vaccination strategy\n",
        "VAX_PERIOD = 7 # For the periodic vaccinations strategy\n",
        "VAX_STRATIFIED = {'5B': 0.1, '2A': 0.1}; # For the stratified vaccination strategy.\n",
        "PERIODBETWEENVAX = 100\n",
        "NDOSES = 100\n",
        "NDOSESUSED = 20\n",
        "\n",
        "for t in range(tMax):\n",
        "    \n",
        "    # Now vaccinating at timesteps near you ... \n",
        "    # 1. Random strat -\n",
        "    # statusMatrix = random_vaccination_strategy(t, VAX_TIMESTEPS, statusMatrix, proportionToVax=0.1)\n",
        "    \n",
        "    # 2. Periodic strat - \n",
        "    #statusMatrix = periodic_vaccination_strategy(t, VAX_PERIOD, statusMatrix, proportionToVax=0.1)\n",
        "    \n",
        "    # 3. constant doses of Vaccins\n",
        "    statusMatrix = periodic_vaccination_strategy(t, PERIODBETWEENVAX, NDOSES, statusMatrix, NDOSESUSED)\n",
        "\n",
        "    # 4. Stratified Vaccination Strategy \n",
        "    # statusMatrix = stratified_vaccination_strategy(\n",
        "    #     curr_timestep=t, \n",
        "    #     VAX_TIMESTEPS=VAX_TIMESTEPS,\n",
        "    #     percentage_per_class=VAX_STRATIFIED, \n",
        "    #     statusMatrix=statusMatrix\n",
        "    # )\n",
        "\n",
        "    \n",
        "    statusMatrix[t+1] = statusMatrix[t]\n",
        "    exposedPopulation = np.where(statusMatrix[t]==EXPOSED)[0]\n",
        "    newlyInfectious = exposedPopulation[rand(ALPHA,len(exposedPopulation))]\n",
        "    statusMatrix[t+1, newlyInfectious] = INFECTIOUS\n",
        "\n",
        "    InfectiousPopulation = np.where(statusMatrix[t]==INFECTIOUS)[0]\n",
        "    riskContact = np.array([node_j for node_i in InfectiousPopulation for node_j in edgesDictionaryWRTTime[t][node_i] if statusMatrix[t,node_j]==SUSCEPTIBLE], dtype=int)\n",
        "    newlyExposed = riskContact[rand(BETA, len(riskContact))]\n",
        "    statusMatrix[t+1, newlyExposed] = EXPOSED\n",
        "    \n",
        "    newlyRecovered = InfectiousPopulation[rand(GAMMA, len(InfectiousPopulation))]\n",
        "    statusMatrix[t+1, newlyRecovered] = RECOVERED\n",
        "\n",
        "    \n",
        "print(np.where(statusMatrix[tMax]==RECOVERED)[0])"
      ]
    },
    {
      "cell_type": "code",
<<<<<<< HEAD
      "execution_count": 13,
=======
      "execution_count": 335,
>>>>>>> b2f24dfcc245677e613b9cac2d35548f146f9e9d
      "metadata": {},
      "outputs": [
        {
          "name": "stdout",
          "output_type": "stream",
          "text": [
            "[1 1 1 1 1 1 1 1 1 3 1 1 1 1 1 1 1 1 4 1 1 3 1 1 1 3 1 1 3 3 1 3 3 1 3 1 3\n",
            " 1 1 3 1 1 1 4 1 1 1 3 1 1 4 1 4 1 1 1 1 1 3 1 1 1 1 1 1 1 1 3 1 1 3 4 3 1\n",
            " 1 1 1 3 1 3 1 3 3 1 1 1 1 3 3 1 1 1 1 1 1 1 1 1 1 3 1 1 1 3 1 1 1 1 1 1 1\n",
<<<<<<< HEAD
            " 1 1 1 3 3 1 3 1 1 1 1 1 1 1 1 1 3 1 1 1 1 1 1 1 1 1 1 1 1 3 1 3 1 1 1 1 3\n",
            " 3 1 1 3 1 1 1 1 1 1 1 1 1 1 1 3 1 3 1 3 1 1 1 1 3 1 3 3 1 3 1 1 1 1 1 3 1\n",
            " 3 1 1 1 1 1 1 3 3 1 3 1 3 1 1 1 1 3 3 1 1 1 1 3 1 1 3 1 1 1 1 3 1 1 1 1 1\n",
            " 1 1 1 1 1 1 1 1 3 1 1 1 1 1 1 1 1 1 1 1]\n",
            "     1   2   3   4\n",
            "0  191  51   0   0\n",
            "1  191   0  51   0\n",
            "2  173   0  50  19\n",
            "3  172   1  48  21\n",
            "4  171   1  49  21\n"
=======
            " 1 1 1 3 3 1 3 1 1 1 1 1 1 1 1 1 3 1 1 4 1 1 1 1 1 1 1 1 1 3 1 3 1 1 1 1 3\n",
            " 3 4 1 3 1 1 1 1 1 4 1 1 1 4 1 3 4 3 1 3 1 1 1 1 3 1 3 3 1 3 1 1 1 1 1 3 1\n",
            " 3 1 1 1 4 1 1 3 3 1 3 1 3 1 1 1 1 3 3 1 1 1 1 3 1 1 3 1 1 4 1 3 1 1 1 1 1\n",
            " 1 1 1 1 1 1 1 1 3 1 1 1 1 1 1 1 4 1 1 1]\n",
            "     1   2   4   3\n",
            "0  178  51  13   0\n",
            "1  178   0  13  51\n",
            "2  178   0  14  50\n",
            "3  177   1  16  48\n",
            "4  176   1  16  49\n"
>>>>>>> b2f24dfcc245677e613b9cac2d35548f146f9e9d
          ]
        }
      ],
      "source": [
        "# Plotting the growth of S, E, I and R populations\n",
        "listPopulations = [] # List of dicts, indexed by timestep #np.zeros(shape=(tMax))\n",
        "print(statusMatrix[1])\n",
        "for timestep in range(tMax):\n",
        "    temp = np.unique(statusMatrix[timestep], return_counts=True)\n",
        "    #print(temp)\n",
        "    listPopulations.append( dict(zip(temp[0], temp[1])) )\n",
        "\n",
        "listPopulations = pd.DataFrame.from_dict(listPopulations).fillna(0).astype(int)\n",
        "print(listPopulations.head())\n",
        "# Do this at your own risk.\n",
        "# print(listPopulations)"
      ]
    },
    {
      "cell_type": "code",
<<<<<<< HEAD
      "execution_count": 14,
=======
      "execution_count": 336,
>>>>>>> b2f24dfcc245677e613b9cac2d35548f146f9e9d
      "metadata": {},
      "outputs": [
        {
          "data": {
<<<<<<< HEAD
            "image/png": "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",
=======
            "image/png": "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",
>>>>>>> b2f24dfcc245677e613b9cac2d35548f146f9e9d
            "text/plain": [
              "<Figure size 432x288 with 1 Axes>"
            ]
          },
          "metadata": {
            "needs_background": "light"
          },
          "output_type": "display_data"
        }
      ],
      "source": [
        "# Now we're plotting things\n",
        "listPopulations.rename(columns={1 : \"Susceptible\", 2: \"Exposed\", 3: \"Infectious\", 4: \"Recovered\"}, inplace=True)\n",
        "listPopulations.plot()\n",
        "plt.legend()\n",
        "plt.grid()"
      ]
    },
    {
      "cell_type": "code",
<<<<<<< HEAD
      "execution_count": 15,
=======
      "execution_count": 337,
>>>>>>> b2f24dfcc245677e613b9cac2d35548f146f9e9d
      "metadata": {},
      "outputs": [
        {
          "name": "stderr",
          "output_type": "stream",
          "text": [
            "No handles with labels found to put in legend.\n"
          ]
        },
        {
          "data": {
<<<<<<< HEAD
            "image/png": "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",
=======
            "image/png": "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",
>>>>>>> b2f24dfcc245677e613b9cac2d35548f146f9e9d
            "text/plain": [
              "<Figure size 432x288 with 1 Axes>"
            ]
          },
          "metadata": {
            "needs_background": "light"
          },
          "output_type": "display_data"
        }
      ],
      "source": [
        "plt.plot (listPopulations['Infectious']/listPopulations['Susceptible'])\n",
        "plt.legend()\n",
        "plt.grid()"
      ]
    }
  ],
  "metadata": {
    "colab": {
      "collapsed_sections": [],
      "name": "SEIRModel_with_Vaccination.ipynb",
      "provenance": []
    },
    "kernelspec": {
      "display_name": "Python 3",
      "name": "python3"
    },
    "language_info": {
      "codemirror_mode": {
        "name": "ipython",
        "version": 3
      },
      "file_extension": ".py",
      "mimetype": "text/x-python",
      "name": "python",
      "nbconvert_exporter": "python",
      "pygments_lexer": "ipython3",
      "version": "3.9.7"
    }
  },
  "nbformat": 4,
  "nbformat_minor": 0
}
