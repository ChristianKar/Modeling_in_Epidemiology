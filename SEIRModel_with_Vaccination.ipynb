{
  "cells": [
    {
      "cell_type": "markdown",
      "metadata": {
        "id": "Eh0JtAPY5buW"
      },
      "source": [
        "\n",
        "Optionals: \n",
        "1. We might need to implement random data at the end of the project."
      ]
    },
    {
      "cell_type": "markdown",
      "metadata": {},
      "source": [
        "# Import of Important Library, Network and Meta Data"
      ]
    },
    {
      "cell_type": "code",
      "execution_count": 999,
      "metadata": {
        "id": "awUsYD2q1oS5"
      },
      "outputs": [],
      "source": [
        "import igraph as ig\n",
        "import numpy as np\n",
        "import pandas as pd\n",
        "import matplotlib.pyplot as plt"
      ]
    },
    {
      "cell_type": "code",
      "execution_count": 1000,
      "metadata": {
        "colab": {
          "base_uri": "https://localhost:8080/",
          "height": 423
        },
        "id": "S9C8f-sP2mlV",
        "outputId": "7847fabb-f91b-44d0-b6c2-c174e1bdb7e4"
      },
      "outputs": [
        {
          "data": {
            "text/html": [
              "<div>\n",
              "<style scoped>\n",
              "    .dataframe tbody tr th:only-of-type {\n",
              "        vertical-align: middle;\n",
              "    }\n",
              "\n",
              "    .dataframe tbody tr th {\n",
              "        vertical-align: top;\n",
              "    }\n",
              "\n",
              "    .dataframe thead th {\n",
              "        text-align: right;\n",
              "    }\n",
              "</style>\n",
              "<table border=\"1\" class=\"dataframe\">\n",
              "  <thead>\n",
              "    <tr style=\"text-align: right;\">\n",
              "      <th></th>\n",
              "      <th>time</th>\n",
              "      <th>node-i</th>\n",
              "      <th>node-j</th>\n",
              "    </tr>\n",
              "  </thead>\n",
              "  <tbody>\n",
              "    <tr>\n",
              "      <th>0</th>\n",
              "      <td>0</td>\n",
              "      <td>58</td>\n",
              "      <td>63</td>\n",
              "    </tr>\n",
              "    <tr>\n",
              "      <th>1</th>\n",
              "      <td>0</td>\n",
              "      <td>59</td>\n",
              "      <td>64</td>\n",
              "    </tr>\n",
              "    <tr>\n",
              "      <th>2</th>\n",
              "      <td>0</td>\n",
              "      <td>63</td>\n",
              "      <td>66</td>\n",
              "    </tr>\n",
              "    <tr>\n",
              "      <th>3</th>\n",
              "      <td>0</td>\n",
              "      <td>85</td>\n",
              "      <td>190</td>\n",
              "    </tr>\n",
              "    <tr>\n",
              "      <th>4</th>\n",
              "      <td>0</td>\n",
              "      <td>85</td>\n",
              "      <td>214</td>\n",
              "    </tr>\n",
              "    <tr>\n",
              "      <th>...</th>\n",
              "      <td>...</td>\n",
              "      <td>...</td>\n",
              "      <td>...</td>\n",
              "    </tr>\n",
              "    <tr>\n",
              "      <th>125768</th>\n",
              "      <td>387</td>\n",
              "      <td>152</td>\n",
              "      <td>172</td>\n",
              "    </tr>\n",
              "    <tr>\n",
              "      <th>125769</th>\n",
              "      <td>387</td>\n",
              "      <td>152</td>\n",
              "      <td>174</td>\n",
              "    </tr>\n",
              "    <tr>\n",
              "      <th>125770</th>\n",
              "      <td>387</td>\n",
              "      <td>167</td>\n",
              "      <td>180</td>\n",
              "    </tr>\n",
              "    <tr>\n",
              "      <th>125771</th>\n",
              "      <td>387</td>\n",
              "      <td>172</td>\n",
              "      <td>178</td>\n",
              "    </tr>\n",
              "    <tr>\n",
              "      <th>125772</th>\n",
              "      <td>387</td>\n",
              "      <td>236</td>\n",
              "      <td>241</td>\n",
              "    </tr>\n",
              "  </tbody>\n",
              "</table>\n",
              "<p>125773 rows × 3 columns</p>\n",
              "</div>"
            ],
            "text/plain": [
              "        time  node-i  node-j\n",
              "0          0      58      63\n",
              "1          0      59      64\n",
              "2          0      63      66\n",
              "3          0      85     190\n",
              "4          0      85     214\n",
              "...      ...     ...     ...\n",
              "125768   387     152     172\n",
              "125769   387     152     174\n",
              "125770   387     167     180\n",
              "125771   387     172     178\n",
              "125772   387     236     241\n",
              "\n",
              "[125773 rows x 3 columns]"
            ]
          },
          "execution_count": 1000,
          "metadata": {},
          "output_type": "execute_result"
        }
      ],
      "source": [
        "# Import Network data\n",
        "networkData = pd.read_csv('TD3_primary_undirected_temporal.csv')\n",
        "networkData[\"time\"] //= 8\n",
        "networkData"
      ]
    },
    {
      "cell_type": "code",
      "execution_count": 1001,
      "metadata": {},
      "outputs": [
        {
          "data": {
            "text/html": [
              "<div>\n",
              "<style scoped>\n",
              "    .dataframe tbody tr th:only-of-type {\n",
              "        vertical-align: middle;\n",
              "    }\n",
              "\n",
              "    .dataframe tbody tr th {\n",
              "        vertical-align: top;\n",
              "    }\n",
              "\n",
              "    .dataframe thead th {\n",
              "        text-align: right;\n",
              "    }\n",
              "</style>\n",
              "<table border=\"1\" class=\"dataframe\">\n",
              "  <thead>\n",
              "    <tr style=\"text-align: right;\">\n",
              "      <th></th>\n",
              "      <th>node-index</th>\n",
              "      <th>class</th>\n",
              "      <th>gender</th>\n",
              "    </tr>\n",
              "  </thead>\n",
              "  <tbody>\n",
              "    <tr>\n",
              "      <th>0</th>\n",
              "      <td>0</td>\n",
              "      <td>5B</td>\n",
              "      <td>M</td>\n",
              "    </tr>\n",
              "    <tr>\n",
              "      <th>1</th>\n",
              "      <td>1</td>\n",
              "      <td>5B</td>\n",
              "      <td>F</td>\n",
              "    </tr>\n",
              "    <tr>\n",
              "      <th>2</th>\n",
              "      <td>2</td>\n",
              "      <td>5B</td>\n",
              "      <td>M</td>\n",
              "    </tr>\n",
              "    <tr>\n",
              "      <th>3</th>\n",
              "      <td>3</td>\n",
              "      <td>5B</td>\n",
              "      <td>F</td>\n",
              "    </tr>\n",
              "    <tr>\n",
              "      <th>4</th>\n",
              "      <td>4</td>\n",
              "      <td>5B</td>\n",
              "      <td>M</td>\n",
              "    </tr>\n",
              "    <tr>\n",
              "      <th>...</th>\n",
              "      <td>...</td>\n",
              "      <td>...</td>\n",
              "      <td>...</td>\n",
              "    </tr>\n",
              "    <tr>\n",
              "      <th>237</th>\n",
              "      <td>237</td>\n",
              "      <td>2A</td>\n",
              "      <td>M</td>\n",
              "    </tr>\n",
              "    <tr>\n",
              "      <th>238</th>\n",
              "      <td>238</td>\n",
              "      <td>2A</td>\n",
              "      <td>F</td>\n",
              "    </tr>\n",
              "    <tr>\n",
              "      <th>239</th>\n",
              "      <td>239</td>\n",
              "      <td>2A</td>\n",
              "      <td>M</td>\n",
              "    </tr>\n",
              "    <tr>\n",
              "      <th>240</th>\n",
              "      <td>240</td>\n",
              "      <td>1B</td>\n",
              "      <td>F</td>\n",
              "    </tr>\n",
              "    <tr>\n",
              "      <th>241</th>\n",
              "      <td>241</td>\n",
              "      <td>2A</td>\n",
              "      <td>F</td>\n",
              "    </tr>\n",
              "  </tbody>\n",
              "</table>\n",
              "<p>242 rows × 3 columns</p>\n",
              "</div>"
            ],
            "text/plain": [
              "     node-index class gender\n",
              "0             0    5B      M\n",
              "1             1    5B      F\n",
              "2             2    5B      M\n",
              "3             3    5B      F\n",
              "4             4    5B      M\n",
              "..          ...   ...    ...\n",
              "237         237    2A      M\n",
              "238         238    2A      F\n",
              "239         239    2A      M\n",
              "240         240    1B      F\n",
              "241         241    2A      F\n",
              "\n",
              "[242 rows x 3 columns]"
            ]
          },
          "execution_count": 1001,
          "metadata": {},
          "output_type": "execute_result"
        }
      ],
      "source": [
        "# Import MetaData [information on the nodes (class, gender)]\n",
        "metadata = pd.read_csv(\"TD3_primary_metadata.csv\")\n",
        "metadata"
      ]
    },
    {
      "cell_type": "code",
      "execution_count": 1002,
      "metadata": {},
      "outputs": [
        {
          "data": {
            "text/plain": [
              "0        0\n",
              "1        1\n",
              "2        2\n",
              "3        3\n",
              "4        4\n",
              "5        5\n",
              "6        6\n",
              "7        7\n",
              "8        8\n",
              "9        9\n",
              "10      10\n",
              "11      11\n",
              "19      19\n",
              "21      21\n",
              "22      22\n",
              "25      25\n",
              "26      26\n",
              "28      28\n",
              "29      29\n",
              "61      61\n",
              "67      67\n",
              "70      70\n",
              "71      71\n",
              "150    150\n",
              "Name: node-index, dtype: int64"
            ]
          },
          "execution_count": 1002,
          "metadata": {},
          "output_type": "execute_result"
        }
      ],
      "source": [
        "metadata[ metadata['class']=='5B' ]['node-index']"
      ]
    },
    {
      "cell_type": "markdown",
      "metadata": {},
      "source": [
        "# Initialisation of Simulation"
      ]
    },
    {
      "cell_type": "markdown",
      "metadata": {},
      "source": [
        "\n",
        "1. 1 / alpha : latent period of virus\n",
        "2. 1 / gamma : mean infectious period\n",
        "3. beta : contact rate"
      ]
    },
    {
      "cell_type": "code",
      "execution_count": 1003,
      "metadata": {},
      "outputs": [],
      "source": [
        "ALPHA = 1/2 #S -> E\n",
        "BETA = 0.8 #E -> I \n",
        "GAMMA = 1/14 #I -> R \n",
        "\n",
        "## Flags of State of Nodes\n",
        "SUSCEPTIBLE = 1\n",
        "EXPOSED = 2\n",
        "INFECTIOUS = 3\n",
        "RECOVERED = 4"
      ]
    },
    {
      "cell_type": "markdown",
      "metadata": {},
      "source": [
        "# Simulation"
      ]
    },
    {
      "cell_type": "code",
      "execution_count": 1004,
      "metadata": {},
      "outputs": [
        {
          "name": "stdout",
          "output_type": "stream",
          "text": [
            "Number of Nodes:  242\n",
            "(388, 242)\n"
          ]
        }
      ],
      "source": [
        "tMax = networkData['time'].max()\n",
        "\n",
        "numOfNodes = metadata.shape[0]\n",
        "print(\"Number of Nodes: \", numOfNodes)\n",
        "\n",
        "#Initialisation od Status Matrix, where everyone is susceptible\n",
        "statusMatrix = np.full((tMax+1, numOfNodes), SUSCEPTIBLE)\n",
        "print(statusMatrix.shape)"
      ]
    },
    {
      "cell_type": "code",
      "execution_count": 1005,
      "metadata": {},
      "outputs": [
        {
          "name": "stdout",
          "output_type": "stream",
          "text": [
            "[1 1 1 1 1 1 1 1 1 1 1 1 1 1 1 1 1 1 1 1 1 1 1 1 1 1 1 1 1 1 1 1 1 1 1 1 1\n",
            " 1 1 1 1 1 1 1 1 1 1 1 1 1 1 1 1 1 1 1 1 1 1 1 1 1 1 1 1 1 1 1 1 1 1 1 1 1\n",
            " 1 1 1 1 1 1 1 1 1 1 1 1 1 1 1 1 1 1 1 1 1 1 1 1 1 1 1 1 1 1 1 1 1 1 1 1 1\n",
            " 1 1 1 1 1 1 1 1 1 1 1 1 1 1 1 1 1 1 1 1 1 1 1 1 1 1 1 1 1 1 1 1 1 1 1 1 1\n",
            " 1 1 1 1 1 1 1 1 1 1 1 1 1 1 1 1 1 1 1 1 1 1 1 1 2 1 1 1 1 1 1 1 1 1 1 1 1\n",
            " 1 1 1 1 1 1 1 1 1 1 1 1 1 1 1 1 1 1 1 1 1 1 1 1 1 1 1 1 1 1 1 1 1 1 1 1 1\n",
            " 1 1 1 1 1 1 1 1 1 1 1 1 1 1 1 1 1 1 1 1]\n"
          ]
        }
      ],
      "source": [
        "NUMOFPATIENTZERO = 1\n",
        "np.random.seed(0)\n",
        "patientZerosArray = np.random.randint(0, numOfNodes, size=NUMOFPATIENTZERO)\n",
        "for patientZero in patientZerosArray:\n",
        "    statusMatrix[0][patientZero] = EXPOSED\n",
        "\n",
        "print(statusMatrix[0])"
      ]
    },
    {
      "cell_type": "code",
      "execution_count": 1006,
      "metadata": {},
      "outputs": [
        {
          "name": "stdout",
          "output_type": "stream",
          "text": [
            "defaultdict(<class 'set'>, {58: {62, 63}, 63: {58, 66, 62}, 59: {64}, 64: {59}, 66: {62, 63}, 85: {214, 190, 191}, 190: {85}, 214: {85, 191}, 102: {115}, 115: {102}, 191: {85, 214, 199}, 199: {191}, 143: {192}, 192: {143}, 188: {194, 134}, 194: {188, 134}, 62: {58, 66, 63}, 163: {172}, 172: {154, 163, 157}, 184: {186, 196, 198}, 186: {184}, 196: {184}, 36: {50, 51}, 51: {36}, 154: {176, 172, 156, 157}, 156: {154}, 17: {32, 41, 27, 39}, 39: {17}, 80: {87}, 87: {80}, 157: {154, 172}, 13: {32, 41, 16, 23, 27}, 32: {41, 13, 17, 23, 27}, 41: {32, 13, 17, 20, 23, 27}, 20: {41, 15}, 35: {24, 43, 15}, 43: {35}, 50: {36}, 88: {90}, 90: {88}, 152: {168}, 168: {152, 166}, 161: {164}, 164: {161}, 162: {173}, 173: {162}, 166: {168}, 23: {32, 16, 13, 41}, 27: {32, 17, 13, 41}, 15: {35, 20}, 24: {35}, 76: {79}, 79: {76}, 78: {83}, 83: {78}, 134: {194, 188}, 176: {154}, 12: {30, 31}, 30: {18, 12, 31}, 31: {18, 12, 30}, 16: {18, 13, 23}, 18: {16, 30, 31}, 198: {184}})\n"
          ]
        }
      ],
      "source": [
        "from collections import defaultdict\n",
        "edgesDictionaryWRTTime = [defaultdict(set) for time in range(0, tMax + 1)]\n",
        "\n",
        "for time, node_i, node_j in networkData.values:\n",
        "    edgesDictionaryWRTTime[time][node_i].add(node_j)\n",
        "    edgesDictionaryWRTTime[time][node_j].add(node_i)\n",
        "print(edgesDictionaryWRTTime[0])"
      ]
    },
    {
      "cell_type": "code",
      "execution_count": 1007,
      "metadata": {},
      "outputs": [],
      "source": [
        "rand = lambda proba, numOfNodes: np.random.uniform(0, 1, size=numOfNodes) < proba"
      ]
    },
    {
      "cell_type": "markdown",
      "metadata": {},
      "source": [
        "# Vaccination Strategies \n",
        "\n",
        "This section defines functions that are run for each timestep, and vaccinate susceptible people based on some strategy.\n",
        " "
      ]
    },
    {
      "cell_type": "markdown",
      "metadata": {},
      "source": [
        "### 1. Random vaccination\n",
        "\n",
        "Randomly vaccinate a proportion of the population to vaccinate on pre-decided time-steps."
      ]
    },
    {
      "cell_type": "code",
      "execution_count": 1008,
      "metadata": {},
      "outputs": [],
      "source": [
        "def random_vaccination_strategy(\n",
        "    curr_timestep, \n",
        "    VAX_TIMESTEPS, \n",
        "    statusMatrix, \n",
        "    proportionToVax\n",
        "    ): \n",
        "    if curr_timestep in VAX_TIMESTEPS: \n",
        "        # Vaccinating people in each valid timestep \n",
        "        susceptiblePopulation = np.where(statusMatrix[curr_timestep] == SUSCEPTIBLE)[0]\n",
        "        newlyVaccinated = susceptiblePopulation[rand(proportionToVax, len(susceptiblePopulation))]\n",
        "        statusMatrix[curr_timestep, newlyVaccinated] = RECOVERED\n",
        "    return statusMatrix"
      ]
    },
    {
      "cell_type": "markdown",
      "metadata": {},
      "source": [
        "### 2. Periodic Timestep Vaccination \n",
        " \n",
        " Randomly vaccinate a certain amount of the population based on the period given"
      ]
    },
    {
      "cell_type": "code",
      "execution_count": 1009,
      "metadata": {},
      "outputs": [],
      "source": [
        "def periodic_vaccination_strategy(curr_timestep, PERIOD, statusMatrix, proportionToVax):  \n",
        "    # We will reuse the random vaccination strat function, \n",
        "    # But the effect is the same\n",
        "    return random_vaccination_strategy(\n",
        "            curr_timestep, \n",
        "            VAX_TIMESTEPS=range(1, tMax, PERIOD), \n",
        "            statusMatrix=statusMatrix, \n",
        "            proportionToVax=proportionToVax\n",
        "            )"
      ]
    },
    {
      "cell_type": "markdown",
      "metadata": {},
      "source": [
        "### 3. Constants doses of Vaccine\n",
        "Now, we want to know, given a constant number of vaccine doses, if we've better to give all doses on the same time at the beginning of the epidemic discovery or to split it continuously during a certain period of time."
      ]
    },
    {
      "cell_type": "code",
      "execution_count": 1010,
      "metadata": {},
      "outputs": [],
      "source": [
        "def periodic_vaccination_strategy2(curr_timestep, PERIODBETWEENVAX, NDOSES, statusMatrix, NDOSESUSED):  \n",
        "    # We will reuse the random vaccination strat function, \n",
        "    # But the effect is the same\n",
        "    return random_vaccination_strategy(\n",
        "            curr_timestep, \n",
        "            VAX_TIMESTEPS=[PERIODBETWEENVAX*k for k in range(NDOSES//NDOSESUSED)], \n",
        "            statusMatrix=statusMatrix, \n",
        "            proportionToVax=NDOSESUSED/len(statusMatrix[0])\n",
        "            )"
      ]
    },
    {
      "cell_type": "markdown",
      "metadata": {},
      "source": [
        "### 4. Stratified Vaccination\n",
        "\n",
        "Here, we vaccinate a percentage of each class, say 5A or 5B as part of the strategy. For example, we can vaccinate 10% of 5A and 10% of 5B so as to vaccinate 20% of the population as before, but the difference comes in the potential networks that we can have due to the classes."
      ]
    },
    {
      "cell_type": "code",
      "execution_count": 1011,
      "metadata": {},
      "outputs": [],
      "source": [
        "def stratified_vaccination_strategy (\n",
        "    curr_timestep, \n",
        "    VAX_TIMESTEPS,\n",
        "    percentage_per_class, \n",
        "    statusMatrix, \n",
        "    ): \n",
        "    \n",
        "# Here, we need to select `class_percent` of each class, \n",
        "# and vaccinate them according to random_vaccination_strategy. \n",
        "# We assume that `metadata` from the file `TD3_primary_metadata.csv` \n",
        "# is available.\n",
        "    if curr_timestep not in VAX_TIMESTEPS: \n",
        "        # Do nothing if we shouldn't vaclass_percentcinate this round\n",
        "        return statusMatrix; \n",
        "    \n",
        "    # Else, we vaccinate stratified-ly :)\n",
        "    for _class, class_percent in percentage_per_class.items(): \n",
        "        nodes = metadata[ metadata['class']==_class ]['node-index'].values\n",
        "        # print(nodes)\n",
        "        print( \"before class {}\", _class) \n",
        "        print( statusMatrix[curr_timestep]) \n",
        "        # Vaccinating people in each valid timestep \n",
        "        susceptiblePopulation = np.where(statusMatrix[curr_timestep,nodes] == SUSCEPTIBLE)[0]\n",
        "        print('sus-',susceptiblePopulation)\n",
        "        print('nodes-sus-',nodes[susceptiblePopulation])\n",
        "        newlyVaccinated = susceptiblePopulation[rand(class_percent, len(susceptiblePopulation))]\n",
        "\n",
        "        print('vax-',newlyVaccinated)\n",
        "        print('actual-vax-',nodes[newlyVaccinated])\n",
        "        statusMatrix[curr_timestep, nodes[newlyVaccinated]] = RECOVERED\n",
        "        print( \"after class{}\", _class) \n",
        "        print( statusMatrix[curr_timestep])\n",
        "        \n",
        "    return statusMatrix"
      ]
    },
    {
      "cell_type": "code",
      "execution_count": 1012,
      "metadata": {},
      "outputs": [
        {
          "name": "stdout",
          "output_type": "stream",
          "text": [
            "before class {} 1A\n",
            "[1 1 1 1 1 1 1 1 1 1 1 1 1 1 1 1 1 1 1 1 1 1 1 1 1 1 1 1 1 1 1 1 1 1 1 1 1\n",
            " 1 1 1 1 1 1 1 1 1 1 1 1 1 1 1 1 1 1 1 1 1 1 1 1 1 1 1 1 1 1 1 1 1 1 1 1 1\n",
            " 1 1 1 1 1 1 1 1 1 1 1 1 1 1 1 1 1 1 1 1 1 1 1 1 1 1 1 1 1 1 1 1 1 1 1 1 1\n",
            " 1 1 1 1 1 1 1 1 1 1 1 1 1 1 1 1 1 1 1 1 1 1 1 1 1 1 1 1 1 1 1 1 1 1 1 1 1\n",
            " 1 1 1 1 1 1 1 1 1 1 1 1 1 1 1 1 1 1 1 1 1 1 1 1 2 1 1 1 1 1 1 1 1 1 1 1 1\n",
            " 1 1 1 1 1 1 1 1 1 1 1 1 1 1 1 1 1 1 1 1 1 1 1 1 1 1 1 1 1 1 1 1 1 1 1 1 1\n",
            " 1 1 1 1 1 1 1 1 1 1 1 1 1 1 1 1 1 1 1 1]\n",
            "sus- [ 0  1  2  3  4  5  6  7  8  9 10 11 12 13 14 16 17 18 19 20 21 22]\n",
            "nodes-sus- [125 152 154 155 156 157 159 161 162 163 164 165 166 167 168 173 174 175\n",
            " 176 178 180 181]\n",
            "vax- [ 5  6  7  8 12 14 17 19]\n",
            "actual-vax- [157 159 161 162 166 168 174 176]\n",
            "after class{} 1A\n",
            "[1 1 1 1 1 1 1 1 1 1 1 1 1 1 1 1 1 1 1 1 1 1 1 1 1 1 1 1 1 1 1 1 1 1 1 1 1\n",
            " 1 1 1 1 1 1 1 1 1 1 1 1 1 1 1 1 1 1 1 1 1 1 1 1 1 1 1 1 1 1 1 1 1 1 1 1 1\n",
            " 1 1 1 1 1 1 1 1 1 1 1 1 1 1 1 1 1 1 1 1 1 1 1 1 1 1 1 1 1 1 1 1 1 1 1 1 1\n",
            " 1 1 1 1 1 1 1 1 1 1 1 1 1 1 1 1 1 1 1 1 1 1 1 1 1 1 1 1 1 1 1 1 1 1 1 1 1\n",
            " 1 1 1 1 1 1 1 1 1 4 1 4 1 4 4 1 1 1 4 1 4 1 1 1 2 1 4 1 4 1 1 1 1 1 1 1 1\n",
            " 1 1 1 1 1 1 1 1 1 1 1 1 1 1 1 1 1 1 1 1 1 1 1 1 1 1 1 1 1 1 1 1 1 1 1 1 1\n",
            " 1 1 1 1 1 1 1 1 1 1 1 1 1 1 1 1 1 1 1 1]\n",
            "before class {} 1B\n",
            "[1 1 1 1 1 1 1 1 1 1 1 1 1 1 1 1 1 1 1 1 1 1 1 1 1 1 1 1 1 1 1 1 1 1 1 1 1\n",
            " 1 1 1 1 1 1 1 1 1 1 1 1 1 1 1 1 1 1 1 1 1 1 1 1 1 1 1 1 1 1 1 1 1 1 1 1 1\n",
            " 1 1 1 1 1 1 1 1 1 1 1 1 1 1 1 1 1 1 1 1 1 1 1 1 1 1 1 1 1 1 1 1 1 1 1 1 1\n",
            " 1 1 1 1 1 1 1 1 1 1 1 1 1 1 1 1 1 1 1 1 1 1 1 1 1 1 1 1 1 1 1 1 1 1 1 1 1\n",
            " 1 1 1 1 1 1 1 1 1 4 1 4 1 4 4 1 1 1 4 1 4 1 1 1 2 1 4 1 4 1 1 1 1 1 1 1 1\n",
            " 1 1 1 1 1 1 1 1 1 1 1 1 1 1 1 1 1 1 1 1 1 1 1 1 1 1 1 1 1 1 1 1 1 1 1 1 1\n",
            " 1 1 1 1 1 1 1 1 1 1 1 1 1 1 1 1 1 1 1 1]\n",
            "sus- [ 0  1  2  3  4  5  6  7  8  9 10 11 12 13 14 15 16 17 18 19 20 21 22 23\n",
            " 24]\n",
            "nodes-sus- [ 94  95  96  97  98  99 101 102 103 104 105 106 107 108 110 111 112 113\n",
            " 114 115 160 169 231 235 240]\n",
            "vax- [ 6  8 10 11 12 13 14 15 20 23 24]\n",
            "actual-vax- [101 103 105 106 107 108 110 111 160 235 240]\n",
            "after class{} 1B\n",
            "[1 1 1 1 1 1 1 1 1 1 1 1 1 1 1 1 1 1 1 1 1 1 1 1 1 1 1 1 1 1 1 1 1 1 1 1 1\n",
            " 1 1 1 1 1 1 1 1 1 1 1 1 1 1 1 1 1 1 1 1 1 1 1 1 1 1 1 1 1 1 1 1 1 1 1 1 1\n",
            " 1 1 1 1 1 1 1 1 1 1 1 1 1 1 1 1 1 1 1 1 1 1 1 1 1 1 1 4 1 4 1 4 4 4 4 1 4\n",
            " 4 1 1 1 1 1 1 1 1 1 1 1 1 1 1 1 1 1 1 1 1 1 1 1 1 1 1 1 1 1 1 1 1 1 1 1 1\n",
            " 1 1 1 1 1 1 1 1 1 4 1 4 4 4 4 1 1 1 4 1 4 1 1 1 2 1 4 1 4 1 1 1 1 1 1 1 1\n",
            " 1 1 1 1 1 1 1 1 1 1 1 1 1 1 1 1 1 1 1 1 1 1 1 1 1 1 1 1 1 1 1 1 1 1 1 1 1\n",
            " 1 1 1 1 1 1 1 1 1 1 1 1 1 4 1 1 1 1 4 1]\n",
            "before class {} 2A\n",
            "[1 1 1 1 1 1 1 1 1 1 1 1 1 1 1 1 1 1 1 1 1 1 1 1 1 1 1 1 1 1 1 1 1 1 1 1 1\n",
            " 1 1 1 1 1 1 1 1 1 1 1 1 1 1 1 1 1 1 1 1 1 1 1 1 1 1 1 1 1 1 1 1 1 1 1 1 1\n",
            " 1 1 1 1 1 1 1 1 1 1 1 1 1 1 1 1 1 1 1 1 1 1 1 1 1 1 1 4 1 4 1 4 4 4 4 1 4\n",
            " 4 1 1 1 1 1 1 1 1 1 1 1 1 1 1 1 1 1 1 1 1 1 1 1 1 1 1 1 1 1 1 1 1 1 1 1 1\n",
            " 1 1 1 1 1 1 1 1 1 4 1 4 4 4 4 1 1 1 4 1 4 1 1 1 2 1 4 1 4 1 1 1 1 1 1 1 1\n",
            " 1 1 1 1 1 1 1 1 1 1 1 1 1 1 1 1 1 1 1 1 1 1 1 1 1 1 1 1 1 1 1 1 1 1 1 1 1\n",
            " 1 1 1 1 1 1 1 1 1 1 1 1 1 4 1 1 1 1 4 1]\n",
            "sus- [ 0  1  2  3  4  5  6  7  8  9 10 11 12 13 14 15 16 17 18 19 20 21 22]\n",
            "nodes-sus- [ 74  75  76  77  78  79  80  82  83  87  88  89  90  91 228 229 230 234\n",
            " 236 237 238 239 241]\n",
            "vax- [ 2  3 13 15 19]\n",
            "actual-vax- [ 76  77  91 229 237]\n",
            "after class{} 2A\n",
            "[1 1 1 1 1 1 1 1 1 1 1 1 1 1 1 1 1 1 1 1 1 1 1 1 1 1 1 1 1 1 1 1 1 1 1 1 1\n",
            " 1 1 1 1 1 1 1 1 1 1 1 1 1 1 1 1 1 1 1 1 1 1 1 1 1 1 1 1 1 1 1 1 1 1 1 1 1\n",
            " 1 1 4 4 1 1 1 1 1 1 1 1 1 1 1 1 1 4 1 1 1 1 1 1 1 1 1 4 1 4 1 4 4 4 4 1 4\n",
            " 4 1 1 1 1 1 1 1 1 1 1 1 1 1 1 1 1 1 1 1 1 1 1 1 1 1 1 1 1 1 1 1 1 1 1 1 1\n",
            " 1 1 1 1 1 1 1 1 1 4 1 4 4 4 4 1 1 1 4 1 4 1 1 1 2 1 4 1 4 1 1 1 1 1 1 1 1\n",
            " 1 1 1 1 1 1 1 1 1 1 1 1 1 1 1 1 1 1 1 1 1 1 1 1 1 1 1 1 1 1 1 1 1 1 1 1 1\n",
            " 1 1 1 1 1 1 1 4 1 1 1 1 1 4 1 4 1 1 4 1]\n",
            "before class {} 2B\n",
            "[1 1 1 1 1 1 1 1 1 1 1 1 1 1 1 1 1 1 1 1 1 1 1 1 1 1 1 1 1 1 1 1 1 1 1 1 1\n",
            " 1 1 1 1 1 1 1 1 1 1 1 1 1 1 1 1 1 1 1 1 1 1 1 1 1 1 1 1 1 1 1 1 1 1 1 1 1\n",
            " 1 1 4 4 1 1 1 1 1 1 1 1 1 1 1 1 1 4 1 1 1 1 1 1 1 1 1 4 1 4 1 4 4 4 4 1 4\n",
            " 4 1 1 1 1 1 1 1 1 1 1 1 1 1 1 1 1 1 1 1 1 1 1 1 1 1 1 1 1 1 1 1 1 1 1 1 1\n",
            " 1 1 1 1 1 1 1 1 1 4 1 4 4 4 4 1 1 1 4 1 4 1 1 1 2 1 4 1 4 1 1 1 1 1 1 1 1\n",
            " 1 1 1 1 1 1 1 1 1 1 1 1 1 1 1 1 1 1 1 1 1 1 1 1 1 1 1 1 1 1 1 1 1 1 1 1 1\n",
            " 1 1 1 1 1 1 1 4 1 1 1 1 1 4 1 4 1 1 4 1]\n",
            "sus- [ 0  1  2  3  4  5  6  7  8  9 10 11 12 13 14 15 16 17 18 19 20 21 22 23\n",
            " 24 25]\n",
            "nodes-sus- [117 118 120 122 124 127 129 130 138 142 144 149 204 206 207 209 211 212\n",
            " 215 216 218 220 222 223 226 227]\n",
            "vax- [ 2  4  7 12 18 19 20 24 25]\n",
            "actual-vax- [120 124 130 204 215 216 218 226 227]\n",
            "after class{} 2B\n",
            "[1 1 1 1 1 1 1 1 1 1 1 1 1 1 1 1 1 1 1 1 1 1 1 1 1 1 1 1 1 1 1 1 1 1 1 1 1\n",
            " 1 1 1 1 1 1 1 1 1 1 1 1 1 1 1 1 1 1 1 1 1 1 1 1 1 1 1 1 1 1 1 1 1 1 1 1 1\n",
            " 1 1 4 4 1 1 1 1 1 1 1 1 1 1 1 1 1 4 1 1 1 1 1 1 1 1 1 4 1 4 1 4 4 4 4 1 4\n",
            " 4 1 1 1 1 1 1 1 1 4 1 1 1 4 1 1 1 1 1 4 1 1 1 1 1 1 1 1 1 1 1 1 1 1 1 1 1\n",
            " 1 1 1 1 1 1 1 1 1 4 1 4 4 4 4 1 1 1 4 1 4 1 1 1 2 1 4 1 4 1 1 1 1 1 1 1 1\n",
            " 1 1 1 1 1 1 1 1 1 1 1 1 1 1 1 1 1 1 1 4 1 1 1 1 1 1 1 1 1 1 4 4 1 4 1 1 1\n",
            " 1 1 1 1 4 4 1 4 1 1 1 1 1 4 1 4 1 1 4 1]\n",
            "before class {} 3A\n",
            "[1 1 1 1 1 1 1 1 1 1 1 1 1 1 1 1 1 1 1 1 1 1 1 1 1 1 1 1 1 1 1 1 1 1 1 1 1\n",
            " 1 1 1 1 1 1 1 1 1 1 1 1 1 1 1 1 1 1 1 1 1 1 1 1 1 1 1 1 1 1 1 1 1 1 1 1 1\n",
            " 1 1 4 4 1 1 1 1 1 1 1 1 1 1 1 1 1 4 1 1 1 1 1 1 1 1 1 4 1 4 1 4 4 4 4 1 4\n",
            " 4 1 1 1 1 1 1 1 1 4 1 1 1 4 1 1 1 1 1 4 1 1 1 1 1 1 1 1 1 1 1 1 1 1 1 1 1\n",
            " 1 1 1 1 1 1 1 1 1 4 1 4 4 4 4 1 1 1 4 1 4 1 1 1 2 1 4 1 4 1 1 1 1 1 1 1 1\n",
            " 1 1 1 1 1 1 1 1 1 1 1 1 1 1 1 1 1 1 1 4 1 1 1 1 1 1 1 1 1 1 4 4 1 4 1 1 1\n",
            " 1 1 1 1 4 4 1 4 1 1 1 1 1 4 1 4 1 1 4 1]\n",
            "sus- [ 0  1  2  3  4  5  6  7  8  9 10 11 12 13 14 15 16 17 18 19 20 21 22]\n",
            "nodes-sus- [128 131 132 133 134 140 141 143 148 158 170 171 177 182 183 188 192 194\n",
            " 197 201 202 210 232]\n",
            "vax- [ 1  2  3  6  9 16 20 21]\n",
            "actual-vax- [131 132 133 141 158 192 202 210]\n",
            "after class{} 3A\n",
            "[1 1 1 1 1 1 1 1 1 1 1 1 1 1 1 1 1 1 1 1 1 1 1 1 1 1 1 1 1 1 1 1 1 1 1 1 1\n",
            " 1 1 1 1 1 1 1 1 1 1 1 1 1 1 1 1 1 1 1 1 1 1 1 1 1 1 1 1 1 1 1 1 1 1 1 1 1\n",
            " 1 1 4 4 1 1 1 1 1 1 1 1 1 1 1 1 1 4 1 1 1 1 1 1 1 1 1 4 1 4 1 4 4 4 4 1 4\n",
            " 4 1 1 1 1 1 1 1 1 4 1 1 1 4 1 1 1 1 1 4 4 4 4 1 1 1 1 1 1 1 4 1 1 1 1 1 1\n",
            " 1 1 1 1 1 1 1 1 1 4 4 4 4 4 4 1 1 1 4 1 4 1 1 1 2 1 4 1 4 1 1 1 1 1 1 1 1\n",
            " 1 1 1 1 1 1 1 4 1 1 1 1 1 1 1 1 1 4 1 4 1 1 1 1 1 4 1 1 1 1 4 4 1 4 1 1 1\n",
            " 1 1 1 1 4 4 1 4 1 1 1 1 1 4 1 4 1 1 4 1]\n",
            "before class {} 3B\n",
            "[1 1 1 1 1 1 1 1 1 1 1 1 1 1 1 1 1 1 1 1 1 1 1 1 1 1 1 1 1 1 1 1 1 1 1 1 1\n",
            " 1 1 1 1 1 1 1 1 1 1 1 1 1 1 1 1 1 1 1 1 1 1 1 1 1 1 1 1 1 1 1 1 1 1 1 1 1\n",
            " 1 1 4 4 1 1 1 1 1 1 1 1 1 1 1 1 1 4 1 1 1 1 1 1 1 1 1 4 1 4 1 4 4 4 4 1 4\n",
            " 4 1 1 1 1 1 1 1 1 4 1 1 1 4 1 1 1 1 1 4 4 4 4 1 1 1 1 1 1 1 4 1 1 1 1 1 1\n",
            " 1 1 1 1 1 1 1 1 1 4 4 4 4 4 4 1 1 1 4 1 4 1 1 1 2 1 4 1 4 1 1 1 1 1 1 1 1\n",
            " 1 1 1 1 1 1 1 4 1 1 1 1 1 1 1 1 1 4 1 4 1 1 1 1 1 4 1 1 1 1 4 4 1 4 1 1 1\n",
            " 1 1 1 1 4 4 1 4 1 1 1 1 1 4 1 4 1 1 4 1]\n",
            "sus- [ 0  1  2  3  4  5  6  7  8  9 10 11 12 13 14 15 16 17 18 19 20 21]\n",
            "nodes-sus- [ 55  56  57  58  59  60  62  63  64  65  66  68  69  72 109 116 121 126\n",
            " 135 137 139 145]\n",
            "vax- [ 3  4  9 10 13 14 15 17 19 20 21]\n",
            "actual-vax- [ 58  59  65  66  72 109 116 126 137 139 145]\n",
            "after class{} 3B\n",
            "[1 1 1 1 1 1 1 1 1 1 1 1 1 1 1 1 1 1 1 1 1 1 1 1 1 1 1 1 1 1 1 1 1 1 1 1 1\n",
            " 1 1 1 1 1 1 1 1 1 1 1 1 1 1 1 1 1 1 1 1 1 4 4 1 1 1 1 1 4 4 1 1 1 1 1 4 1\n",
            " 1 1 4 4 1 1 1 1 1 1 1 1 1 1 1 1 1 4 1 1 1 1 1 1 1 1 1 4 1 4 1 4 4 4 4 4 4\n",
            " 4 1 1 1 1 4 1 1 1 4 1 1 1 4 1 4 1 1 1 4 4 4 4 1 1 1 4 1 4 1 4 1 1 1 4 1 1\n",
            " 1 1 1 1 1 1 1 1 1 4 4 4 4 4 4 1 1 1 4 1 4 1 1 1 2 1 4 1 4 1 1 1 1 1 1 1 1\n",
            " 1 1 1 1 1 1 1 4 1 1 1 1 1 1 1 1 1 4 1 4 1 1 1 1 1 4 1 1 1 1 4 4 1 4 1 1 1\n",
            " 1 1 1 1 4 4 1 4 1 1 1 1 1 4 1 4 1 1 4 1]\n",
            "before class {} 4A\n",
            "[1 1 1 1 1 1 1 1 1 1 1 1 1 1 1 1 1 1 1 1 1 1 1 1 1 1 1 1 1 1 1 1 1 1 1 1 1\n",
            " 1 1 1 1 1 1 1 1 1 1 1 1 1 1 1 1 1 1 1 1 1 4 4 1 1 1 1 1 4 4 1 1 1 1 1 4 1\n",
            " 1 1 4 4 1 1 1 1 1 1 1 1 1 1 1 1 1 4 1 1 1 1 1 1 1 1 1 4 1 4 1 4 4 4 4 4 4\n",
            " 4 1 1 1 1 4 1 1 1 4 1 1 1 4 1 4 1 1 1 4 4 4 4 1 1 1 4 1 4 1 4 1 1 1 4 1 1\n",
            " 1 1 1 1 1 1 1 1 1 4 4 4 4 4 4 1 1 1 4 1 4 1 1 1 2 1 4 1 4 1 1 1 1 1 1 1 1\n",
            " 1 1 1 1 1 1 1 4 1 1 1 1 1 1 1 1 1 4 1 4 1 1 1 1 1 4 1 1 1 1 4 4 1 4 1 1 1\n",
            " 1 1 1 1 4 4 1 4 1 1 1 1 1 4 1 4 1 1 4 1]\n",
            "sus- [ 0  1  2  3  4  5  6  7  8  9 10 11 12 13 14 15 16 17 18 19 20]\n",
            "nodes-sus- [ 33  36  37  40  44  45  46  47  48  49  50  51  52  53  54  81 119 136\n",
            " 179 189 200]\n",
            "vax- [ 0  2  5  6 10 12 16 17 19]\n",
            "actual-vax- [ 33  37  45  46  50  52 119 136 189]\n",
            "after class{} 4A\n",
            "[1 1 1 1 1 1 1 1 1 1 1 1 1 1 1 1 1 1 1 1 1 1 1 1 1 1 1 1 1 1 1 1 1 4 1 1 1\n",
            " 4 1 1 1 1 1 1 1 4 4 1 1 1 4 1 4 1 1 1 1 1 4 4 1 1 1 1 1 4 4 1 1 1 1 1 4 1\n",
            " 1 1 4 4 1 1 1 1 1 1 1 1 1 1 1 1 1 4 1 1 1 1 1 1 1 1 1 4 1 4 1 4 4 4 4 4 4\n",
            " 4 1 1 1 1 4 1 1 4 4 1 1 1 4 1 4 1 1 1 4 4 4 4 1 1 4 4 1 4 1 4 1 1 1 4 1 1\n",
            " 1 1 1 1 1 1 1 1 1 4 4 4 4 4 4 1 1 1 4 1 4 1 1 1 2 1 4 1 4 1 1 1 1 1 1 1 1\n",
            " 1 1 1 1 4 1 1 4 1 1 1 1 1 1 1 1 1 4 1 4 1 1 1 1 1 4 1 1 1 1 4 4 1 4 1 1 1\n",
            " 1 1 1 1 4 4 1 4 1 1 1 1 1 4 1 4 1 1 4 1]\n",
            "before class {} 4B\n",
            "[1 1 1 1 1 1 1 1 1 1 1 1 1 1 1 1 1 1 1 1 1 1 1 1 1 1 1 1 1 1 1 1 1 4 1 1 1\n",
            " 4 1 1 1 1 1 1 1 4 4 1 1 1 4 1 4 1 1 1 1 1 4 4 1 1 1 1 1 4 4 1 1 1 1 1 4 1\n",
            " 1 1 4 4 1 1 1 1 1 1 1 1 1 1 1 1 1 4 1 1 1 1 1 1 1 1 1 4 1 4 1 4 4 4 4 4 4\n",
            " 4 1 1 1 1 4 1 1 4 4 1 1 1 4 1 4 1 1 1 4 4 4 4 1 1 4 4 1 4 1 4 1 1 1 4 1 1\n",
            " 1 1 1 1 1 1 1 1 1 4 4 4 4 4 4 1 1 1 4 1 4 1 1 1 2 1 4 1 4 1 1 1 1 1 1 1 1\n",
            " 1 1 1 1 4 1 1 4 1 1 1 1 1 1 1 1 1 4 1 4 1 1 1 1 1 4 1 1 1 1 4 4 1 4 1 1 1\n",
            " 1 1 1 1 4 4 1 4 1 1 1 1 1 4 1 4 1 1 4 1]\n",
            "sus- [ 0  1  2  3  4  5  6  7  8  9 10 11 12 13 14 15 16 17 18 19 20 21 22]\n",
            "nodes-sus- [ 73  84  85 184 185 186 187 190 191 193 196 198 199 203 208 213 214 217\n",
            " 219 221 224 225 233]\n",
            "vax- [ 0  1  2  3  7  9 10 11 19 22]\n",
            "actual-vax- [ 73  84  85 184 190 193 196 198 221 233]\n",
            "after class{} 4B\n",
            "[1 1 1 1 1 1 1 1 1 1 1 1 1 1 1 1 1 1 1 1 1 1 1 1 1 1 1 1 1 1 1 1 1 4 1 1 1\n",
            " 4 1 1 1 1 1 1 1 4 4 1 1 1 4 1 4 1 1 1 1 1 4 4 1 1 1 1 1 4 4 1 1 1 1 1 4 4\n",
            " 1 1 4 4 1 1 1 1 1 1 4 4 1 1 1 1 1 4 1 1 1 1 1 1 1 1 1 4 1 4 1 4 4 4 4 4 4\n",
            " 4 1 1 1 1 4 1 1 4 4 1 1 1 4 1 4 1 1 1 4 4 4 4 1 1 4 4 1 4 1 4 1 1 1 4 1 1\n",
            " 1 1 1 1 1 1 1 1 1 4 4 4 4 4 4 1 1 1 4 1 4 1 1 1 2 1 4 1 4 1 1 1 1 1 1 1 4\n",
            " 1 1 1 1 4 4 1 4 4 1 1 4 1 4 1 1 1 4 1 4 1 1 1 1 1 4 1 1 1 1 4 4 1 4 1 1 4\n",
            " 1 1 1 1 4 4 1 4 1 1 1 4 1 4 1 4 1 1 4 1]\n",
            "before class {} 5A\n",
            "[1 1 1 1 1 1 1 1 1 1 1 1 1 1 1 1 1 1 1 1 1 1 1 1 1 1 1 1 1 1 1 1 1 4 1 1 1\n",
            " 4 1 1 1 1 1 1 1 4 4 1 1 1 4 1 4 1 1 1 1 1 4 4 1 1 1 1 1 4 4 1 1 1 1 1 4 4\n",
            " 1 1 4 4 1 1 1 1 1 1 4 4 1 1 1 1 1 4 1 1 1 1 1 1 1 1 1 4 1 4 1 4 4 4 4 4 4\n",
            " 4 1 1 1 1 4 1 1 4 4 1 1 1 4 1 4 1 1 1 4 4 4 4 1 1 4 4 1 4 1 4 1 1 1 4 1 1\n",
            " 1 1 1 1 1 1 1 1 1 4 4 4 4 4 4 1 1 1 4 1 4 1 1 1 2 1 4 1 4 1 1 1 1 1 1 1 4\n",
            " 1 1 1 1 4 4 1 4 4 1 1 4 1 4 1 1 1 4 1 4 1 1 1 1 1 4 1 1 1 1 4 4 1 4 1 1 4\n",
            " 1 1 1 1 4 4 1 4 1 1 1 4 1 4 1 4 1 1 4 1]\n",
            "sus- [ 0  1  2  3  4  5  6  7  8  9 10 11 12 13 14 15 16 17 18 19 20 21]\n",
            "nodes-sus- [ 12  13  14  15  16  17  18  20  23  24  27  30  31  32  34  35  38  39\n",
            "  41  43  86 151]\n",
            "vax- [ 5  6  7 12 13]\n",
            "actual-vax- [17 18 20 31 32]\n",
            "after class{} 5A\n",
            "[1 1 1 1 1 1 1 1 1 1 1 1 1 1 1 1 1 4 4 1 4 1 1 1 1 1 1 1 1 1 1 4 4 4 1 1 1\n",
            " 4 1 1 1 1 1 1 1 4 4 1 1 1 4 1 4 1 1 1 1 1 4 4 1 1 1 1 1 4 4 1 1 1 1 1 4 4\n",
            " 1 1 4 4 1 1 1 1 1 1 4 4 1 1 1 1 1 4 1 1 1 1 1 1 1 1 1 4 1 4 1 4 4 4 4 4 4\n",
            " 4 1 1 1 1 4 1 1 4 4 1 1 1 4 1 4 1 1 1 4 4 4 4 1 1 4 4 1 4 1 4 1 1 1 4 1 1\n",
            " 1 1 1 1 1 1 1 1 1 4 4 4 4 4 4 1 1 1 4 1 4 1 1 1 2 1 4 1 4 1 1 1 1 1 1 1 4\n",
            " 1 1 1 1 4 4 1 4 4 1 1 4 1 4 1 1 1 4 1 4 1 1 1 1 1 4 1 1 1 1 4 4 1 4 1 1 4\n",
            " 1 1 1 1 4 4 1 4 1 1 1 4 1 4 1 4 1 1 4 1]\n",
            "before class {} 5B\n",
            "[1 1 1 1 1 1 1 1 1 1 1 1 1 1 1 1 1 4 4 1 4 1 1 1 1 1 1 1 1 1 1 4 4 4 1 1 1\n",
            " 4 1 1 1 1 1 1 1 4 4 1 1 1 4 1 4 1 1 1 1 1 4 4 1 1 1 1 1 4 4 1 1 1 1 1 4 4\n",
            " 1 1 4 4 1 1 1 1 1 1 4 4 1 1 1 1 1 4 1 1 1 1 1 1 1 1 1 4 1 4 1 4 4 4 4 4 4\n",
            " 4 1 1 1 1 4 1 1 4 4 1 1 1 4 1 4 1 1 1 4 4 4 4 1 1 4 4 1 4 1 4 1 1 1 4 1 1\n",
            " 1 1 1 1 1 1 1 1 1 4 4 4 4 4 4 1 1 1 4 1 4 1 1 1 2 1 4 1 4 1 1 1 1 1 1 1 4\n",
            " 1 1 1 1 4 4 1 4 4 1 1 4 1 4 1 1 1 4 1 4 1 1 1 1 1 4 1 1 1 1 4 4 1 4 1 1 4\n",
            " 1 1 1 1 4 4 1 4 1 1 1 4 1 4 1 4 1 1 4 1]\n",
            "sus- [ 0  1  2  3  4  5  6  7  8  9 10 11 12 13 14 15 16 17 18 19 20 21 22 23]\n",
            "nodes-sus- [  0   1   2   3   4   5   6   7   8   9  10  11  19  21  22  25  26  28\n",
            "  29  61  67  70  71 150]\n",
            "vax- [ 6  7 11 13 14 21 23]\n",
            "actual-vax- [  6   7  11  21  22  70 150]\n",
            "after class{} 5B\n",
            "[1 1 1 1 1 1 4 4 1 1 1 4 1 1 1 1 1 4 4 1 4 4 4 1 1 1 1 1 1 1 1 4 4 4 1 1 1\n",
            " 4 1 1 1 1 1 1 1 4 4 1 1 1 4 1 4 1 1 1 1 1 4 4 1 1 1 1 1 4 4 1 1 1 4 1 4 4\n",
            " 1 1 4 4 1 1 1 1 1 1 4 4 1 1 1 1 1 4 1 1 1 1 1 1 1 1 1 4 1 4 1 4 4 4 4 4 4\n",
            " 4 1 1 1 1 4 1 1 4 4 1 1 1 4 1 4 1 1 1 4 4 4 4 1 1 4 4 1 4 1 4 1 1 1 4 1 1\n",
            " 1 1 4 1 1 1 1 1 1 4 4 4 4 4 4 1 1 1 4 1 4 1 1 1 2 1 4 1 4 1 1 1 1 1 1 1 4\n",
            " 1 1 1 1 4 4 1 4 4 1 1 4 1 4 1 1 1 4 1 4 1 1 1 1 1 4 1 1 1 1 4 4 1 4 1 1 4\n",
            " 1 1 1 1 4 4 1 4 1 1 1 4 1 4 1 4 1 1 4 1]\n",
            "before class {} Teachers\n",
            "[1 1 1 1 1 1 4 4 1 1 1 4 1 1 1 1 1 4 4 1 4 4 4 1 1 1 1 1 1 1 1 4 4 4 1 1 1\n",
            " 4 1 1 1 1 1 1 1 4 4 1 1 1 4 1 4 1 1 1 1 1 4 4 1 1 1 1 1 4 4 1 1 1 4 1 4 4\n",
            " 1 1 4 4 1 1 1 1 1 1 4 4 1 1 1 1 1 4 1 1 1 1 1 1 1 1 1 4 1 4 1 4 4 4 4 4 4\n",
            " 4 1 1 1 1 4 1 1 4 4 1 1 1 4 1 4 1 1 1 4 4 4 4 1 1 4 4 1 4 1 4 1 1 1 4 1 1\n",
            " 1 1 4 1 1 1 1 1 1 4 4 4 4 4 4 1 1 1 4 1 4 1 1 1 2 1 4 1 4 1 1 1 1 1 1 1 4\n",
            " 1 1 1 1 4 4 1 4 4 1 1 4 1 4 1 1 1 4 1 4 1 1 1 1 1 4 1 1 1 1 4 4 1 4 1 1 4\n",
            " 1 1 1 1 4 4 1 4 1 1 1 4 1 4 1 4 1 1 4 1]\n",
            "sus- [0 1 2 3 4 5 6 7 8 9]\n",
            "nodes-sus- [ 42  92  93 100 123 146 147 153 195 205]\n",
            "vax- [3 6 7]\n",
            "actual-vax- [100 147 153]\n",
            "after class{} Teachers\n",
            "[1 1 1 1 1 1 4 4 1 1 1 4 1 1 1 1 1 4 4 1 4 4 4 1 1 1 1 1 1 1 1 4 4 4 1 1 1\n",
            " 4 1 1 1 1 1 1 1 4 4 1 1 1 4 1 4 1 1 1 1 1 4 4 1 1 1 1 1 4 4 1 1 1 4 1 4 4\n",
            " 1 1 4 4 1 1 1 1 1 1 4 4 1 1 1 1 1 4 1 1 1 1 1 1 1 1 4 4 1 4 1 4 4 4 4 4 4\n",
            " 4 1 1 1 1 4 1 1 4 4 1 1 1 4 1 4 1 1 1 4 4 4 4 1 1 4 4 1 4 1 4 1 1 1 4 1 4\n",
            " 1 1 4 1 1 4 1 1 1 4 4 4 4 4 4 1 1 1 4 1 4 1 1 1 2 1 4 1 4 1 1 1 1 1 1 1 4\n",
            " 1 1 1 1 4 4 1 4 4 1 1 4 1 4 1 1 1 4 1 4 1 1 1 1 1 4 1 1 1 1 4 4 1 4 1 1 4\n",
            " 1 1 1 1 4 4 1 4 1 1 1 4 1 4 1 4 1 1 4 1]\n",
            "[  0   2   3   5   6   7   8   9  11  13  14  15  17  18  20  21  22  23\n",
            "  25  26  29  30  31  32  33  34  35  36  37  40  41  42  43  45  46  47\n",
            "  48  50  52  54  55  56  58  59  61  63  65  66  67  68  70  72  73  75\n",
            "  76  77  78  82  83  84  85  90  91  94  95  96  97  98  99 100 101 102\n",
            " 103 104 105 106 107 108 109 110 111 112 113 114 115 116 117 118 119 120\n",
            " 122 124 125 126 128 130 131 132 133 134 136 137 138 139 140 141 143 144\n",
            " 145 146 147 148 149 150 152 153 154 155 156 157 158 159 160 161 162 163\n",
            " 164 165 166 167 168 169 170 171 172 173 174 175 176 177 178 179 180 183\n",
            " 184 185 186 188 189 190 191 192 193 194 196 197 198 199 200 201 202 203\n",
            " 204 207 208 210 211 213 214 215 216 217 218 219 221 222 223 224 225 226\n",
            " 227 228 229 231 232 233 234 235 237 240]\n"
          ]
        }
      ],
      "source": [
        "VAX_TIMESTEPS = [0] # For random vaccination strategy\n",
        "VAX_PERIOD = 21 # For the periodic vaccinations strategy\n",
        "VAX_STRATIFIED = {'1A':0.4, '1B':0.4, '2A':0.4, '2B':0.4, '3A':0.4, '3B':0.4, '4A':0.4, '4B':0.4, '5A':0.4, '5B':0.4, 'Teachers':0.4}\n",
        " # For the stratified vaccination strategy.\n",
        "PERIODBETWEENVAX = 7\n",
        "NDOSES = 100\n",
        "NDOSESUSED = 10   \n",
        "\n",
        "for t in range(tMax):\n",
        "    \n",
        "    # Now vaccinating at timesteps near you ... \n",
        "    # 1. Random strat -\n",
        "    # statusMatrix = random_vaccination_strategy(t, VAX_TIMESTEPS, statusMatrix, proportionToVax=0.3)\n",
        "    \n",
        "    # 2. Periodic strat -  \n",
        "    # statusMatrix = periodic_vaccination_strategy(t, VAX_PERIOD, statusMatrix, proportionToVax=0.1)\n",
        "    \n",
        "    # 3. constant doses of Vaccins\n",
        "    # statusMatrix = periodic_vaccination_strategy2(t, PERIODBETWEENVAX, NDOSES, statusMatrix, NDOSESUSED)\n",
        "\n",
        "    # 4. Stratified Vaccination Strategy\n",
        "    statusMatrix = stratified_vaccination_strategy(\n",
        "        curr_timestep=t, \n",
        "        VAX_TIMESTEPS=VAX_TIMESTEPS,\n",
        "        percentage_per_class=VAX_STRATIFIED, \n",
        "        statusMatrix=statusMatrix\n",
        "    )\n",
        "\n",
        "    \n",
        "    statusMatrix[t+1] = statusMatrix[t]\n",
        "    exposedPopulation = np.where(statusMatrix[t]==EXPOSED)[0]\n",
        "    newlyInfectious = exposedPopulation[rand(ALPHA,len(exposedPopulation))]\n",
        "    statusMatrix[t+1, newlyInfectious] = INFECTIOUS\n",
        "\n",
        "    InfectiousPopulation = np.where(statusMatrix[t]==INFECTIOUS)[0]\n",
        "    riskContact = np.array([node_j for node_i in InfectiousPopulation for node_j in edgesDictionaryWRTTime[t][node_i] if statusMatrix[t,node_j]==SUSCEPTIBLE], dtype=int)\n",
        "    newlyExposed = riskContact[rand(BETA, len(riskContact))]\n",
        "    statusMatrix[t+1, newlyExposed] = EXPOSED\n",
        "    \n",
        "    newlyRecovered = InfectiousPopulation[rand(GAMMA, len(InfectiousPopulation))]\n",
        "    statusMatrix[t+1, newlyRecovered] = RECOVERED\n",
        "\n",
        "    \n",
        "print(np.where(statusMatrix[tMax]==RECOVERED)[0])"
      ]
    },
    {
      "cell_type": "code",
      "execution_count": 1013,
      "metadata": {},
      "outputs": [
        {
          "name": "stdout",
          "output_type": "stream",
          "text": [
            "[1 1 1 1 1 1 4 4 1 1 1 4 1 1 1 1 1 4 4 1 4 4 4 1 1 1 1 1 1 1 1 4 4 4 1 1 1\n",
            " 4 1 1 1 1 1 1 1 4 4 1 1 1 4 1 4 1 1 1 1 1 4 4 1 1 1 1 1 4 4 1 1 1 4 1 4 4\n",
            " 1 1 4 4 1 1 1 1 1 1 4 4 1 1 1 1 1 4 1 1 1 1 1 1 1 1 4 4 1 4 1 4 4 4 4 4 4\n",
            " 4 1 1 1 1 4 1 1 4 4 1 1 1 4 1 4 1 1 1 4 4 4 4 1 1 4 4 1 4 1 4 1 1 1 4 1 4\n",
            " 1 1 4 1 1 4 1 1 1 4 4 4 4 4 4 1 1 1 4 1 4 1 1 1 2 1 4 1 4 1 1 1 1 1 1 1 4\n",
            " 1 1 1 1 4 4 1 4 4 1 1 4 1 4 1 1 1 4 1 4 1 1 1 1 1 4 1 1 1 1 4 4 1 4 1 1 4\n",
            " 1 1 1 1 4 4 1 4 1 1 1 4 1 4 1 4 1 1 4 1]\n",
            "       1  2  3    4\n",
            "0    155  1  0   86\n",
            "1    155  1  0   86\n",
            "2    155  0  1   86\n",
            "3    155  0  1   86\n",
            "4    155  0  1   86\n",
            "..   ... .. ..  ...\n",
            "382   52  0  0  190\n",
            "383   52  0  0  190\n",
            "384   52  0  0  190\n",
            "385   52  0  0  190\n",
            "386   52  0  0  190\n",
            "\n",
            "[387 rows x 4 columns]\n"
          ]
        }
      ],
      "source": [
        "# Plotting the growth of S, E, I and R populations\n",
        "listPopulations = [] # List of dicts, indexed by timestep #np.zeros(shape=(tMax))\n",
        "print(statusMatrix[1])\n",
        "for timestep in range(tMax):\n",
        "    temp = np.unique(statusMatrix[timestep], return_counts=True)\n",
        "    # print(temp)\n",
        "    listPopulations.append( dict(zip(temp[0], temp[1])) )\n",
        "\n",
        "listPopulations = pd.DataFrame.from_dict(listPopulations).fillna(0).astype(int)\n",
        "listPopulations.sort_index(axis=1, inplace=True)\n",
        "print(listPopulations)\n",
        "# Do this at your own risk.\n",
        "# print(listPopulations)"
      ]
    },
    {
      "cell_type": "code",
      "execution_count": 1014,
      "metadata": {},
      "outputs": [
        {
          "data": {
            "image/png": "[encoded data removed]",
            "text/plain": [
              "<Figure size 432x288 with 1 Axes>"
            ]
          },
          "metadata": {
            "needs_background": "light"
          },
          "output_type": "display_data"
        }
      ],
      "source": [
        "# Now we're plotting things\n",
        "listPopulations.rename(columns={1 : \"Susceptible\", 2: \"Exposed\", 3: \"Infectious\", 4: \"Recovered\"}, inplace=True)\n",
        "listPopulations.plot(color=['tab:blue','tab:olive','tab:red','tab:green'])\n",
        "plt.legend()\n",
        "plt.grid()\n",
        "plt.savefig('listPopulations.png')"
      ]
    },
    {
      "cell_type": "code",
      "execution_count": 1015,
      "metadata": {},
      "outputs": [
        {
          "name": "stderr",
          "output_type": "stream",
          "text": [
            "No artists with labels found to put in legend.  Note that artists whose label start with an underscore are ignored when legend() is called with no argument.\n"
          ]
        },
        {
          "data": {
            "image/png": "[encoded data removed]",
            "text/plain": [
              "<Figure size 432x288 with 1 Axes>"
            ]
          },
          "metadata": {
            "needs_background": "light"
          },
          "output_type": "display_data"
        }
      ],
      "source": [
        "plt.plot (listPopulations['Infectious']/listPopulations['Susceptible'])\n",
        "plt.legend()\n",
        "plt.grid()"
      ]
    },
    {
      "cell_type": "code",
      "execution_count": 1016,
      "metadata": {},
      "outputs": [
        {
          "name": "stdout",
          "output_type": "stream",
          "text": [
            "End of Epidemic :  167\n"
          ]
        }
      ],
      "source": [
        "## A function that returns the end of pandemic if it ends before end of data or -1 otherwise\n",
        "def endOfEpidemic(dfListPopulations):\n",
        "    endDay = 0\n",
        "    for row in dfListPopulations.values:\n",
        "        if row[EXPOSED-1] !=0 or row[INFECTIOUS-1] != 0:\n",
        "            endDay += 1\n",
        "        else:\n",
        "            break\n",
        "    if endDay == listPopulations.shape[0]:\n",
        "        return -1\n",
        "    else:\n",
        "        return endDay\n",
        "\n",
        "print(\"End of Epidemic : \", endOfEpidemic(listPopulations))"
      ]
    },
    {
      "cell_type": "code",
      "execution_count": 1017,
      "metadata": {},
      "outputs": [],
      "source": [
        "# STATEDICT ={1 : \"Susceptible\", 2: \"Exposed\", 3: \"Infectious\", 4: \"Recovered\"}\n",
        "\n",
        "TIME = 0\n",
        "def networkGraphAtTimet(networkData, statusMatrix, time):\n",
        "    query =  \"time=={time}\".format(time = time)\n",
        "    numOfNodes = statusMatrix.shape[1]\n",
        "    graph = ig.Graph(n=numOfNodes, edges=networkData.query(query)[['node-i','node-j']].values)\n",
        "    graph.vs[\"state\"] = statusMatrix[time]\n",
        "    color_dict = {1: \"lightblue\", 2: \"yellow\", 3:\"red\", 4:\"green\"}\n",
        "    graph.vs[\"color\"] = [color_dict[state] for state in graph.vs[\"state\"]]\n",
        "    graph.vs[\"label\"] = [node for node in range(numOfNodes)]\n",
        "    graph.simplify(multiple=True)\n",
        "    return graph\n",
        "\n",
        "# Sequential plotting for animation\n",
        "TMAX = 220\n",
        "TSTEP = 1\n",
        "# for t in range(0, TMAX, TSTEP):\n",
        "#     img = ig.plot(networkGraphAtTimet(networkData, statusMatrix, t), vertex_label_color=\"black\", vertex_label_size=8, vertex_size=14)\n",
        "#     img.save(\"img/\" + str(t) + \".png\")"
      ]
    }
  ],
  "metadata": {
    "colab": {
      "collapsed_sections": [],
      "name": "SEIRModel_with_Vaccination.ipynb",
      "provenance": []
    },
    "kernelspec": {
      "display_name": "Python 3",
      "name": "python3"
    },
    "language_info": {
      "codemirror_mode": {
        "name": "ipython",
        "version": 3
      },
      "file_extension": ".py",
      "mimetype": "text/x-python",
      "name": "python",
      "nbconvert_exporter": "python",
      "pygments_lexer": "ipython3",
      "version": "3.10.1"
    }
  },
  "nbformat": 4,
  "nbformat_minor": 0
}
